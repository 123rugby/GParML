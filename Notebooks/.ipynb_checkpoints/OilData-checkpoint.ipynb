{
 "metadata": {
  "name": ""
 },
 "nbformat": 3,
 "nbformat_minor": 0,
 "worksheets": [
  {
   "cells": [
    {
     "cell_type": "code",
     "collapsed": false,
     "input": [
      "%pylab inline\n",
      "import sys\n",
      "import glob\n",
      "import os\n",
      "import random\n",
      "\n",
      "import numpy as np\n",
      "import numpy.linalg as linalg\n",
      "import numpy.random as rnd\n",
      "from mpl_toolkits.mplot3d.axes3d import Axes3D\n",
      "\n",
      "import GPy\n",
      "\n",
      "sys.path.append('../tools/')\n",
      "sys.path.append('..')\n",
      "\n",
      "import split_data\n",
      "\n",
      "import parallel_GPLVM"
     ],
     "language": "python",
     "metadata": {},
     "outputs": [
      {
       "output_type": "stream",
       "stream": "stdout",
       "text": [
        "Populating the interactive namespace from numpy and matplotlib\n"
       ]
      }
     ],
     "prompt_number": 2
    },
    {
     "cell_type": "code",
     "collapsed": false,
     "input": [
      "Q = 7\n",
      "max_iters = 200\n",
      "N = 20\n",
      "num_inducing = min(40, N)"
     ],
     "language": "python",
     "metadata": {},
     "outputs": [],
     "prompt_number": 9
    },
    {
     "cell_type": "code",
     "collapsed": false,
     "input": [
      "reload(split_data)\n",
      "\n",
      "# Get oildata and divide up\n",
      "oildata = GPy.util.datasets.oil()\n",
      "Y = oildata['X'][:N]\n",
      "path = '../oildata/'\n",
      "P = 4\n",
      "split_data.clean_dir(path)\n",
      "split_data.split_data(Y, P, path, 'oil')"
     ],
     "language": "python",
     "metadata": {},
     "outputs": [],
     "prompt_number": 10
    },
    {
     "cell_type": "code",
     "collapsed": false,
     "input": [
      "# Run the Parallel GPLVM\n",
      "options = {}\n",
      "options['input'] = path + '/inputs/'\n",
      "options['embeddings'] = path + '/embeddings/'\n",
      "options['parallel'] = 'local'\n",
      "options['iterations'] = max_iters\n",
      "options['statistics'] = path + '/tmp'\n",
      "options['tmp'] = path + '/tmp'\n",
      "options['M'] = num_inducing\n",
      "options['Q'] = Q\n",
      "options['D'] = 3\n",
      "options['fixed_embeddings'] = False\n",
      "options['keep'] = True\n",
      "options['load'] = False\n",
      "options['fixed_beta'] = True\n",
      "options['init'] = 'PCA'\n",
      "options['optimiser'] = 'SCG_adapted'\n",
      "options['fixed_beta'] = False\n",
      "\n",
      "parallel_GPLVM.main(options)"
     ],
     "language": "python",
     "metadata": {},
     "outputs": [
      {
       "ename": "Exception",
       "evalue": "Current implementation requires first file in the inputs folder (alphabetically) to have at least M data points",
       "output_type": "pyerr",
       "traceback": [
        "\u001b[1;31m---------------------------------------------------------------------------\u001b[0m\n\u001b[1;31mException\u001b[0m                                 Traceback (most recent call last)",
        "\u001b[1;32m<ipython-input-11-2fdb4f91f6ef>\u001b[0m in \u001b[0;36m<module>\u001b[1;34m()\u001b[0m\n\u001b[0;32m     18\u001b[0m \u001b[0moptions\u001b[0m\u001b[1;33m[\u001b[0m\u001b[1;34m'fixed_beta'\u001b[0m\u001b[1;33m]\u001b[0m \u001b[1;33m=\u001b[0m \u001b[0mFalse\u001b[0m\u001b[1;33m\u001b[0m\u001b[0m\n\u001b[0;32m     19\u001b[0m \u001b[1;33m\u001b[0m\u001b[0m\n\u001b[1;32m---> 20\u001b[1;33m \u001b[0mparallel_GPLVM\u001b[0m\u001b[1;33m.\u001b[0m\u001b[0mmain\u001b[0m\u001b[1;33m(\u001b[0m\u001b[0moptions\u001b[0m\u001b[1;33m)\u001b[0m\u001b[1;33m\u001b[0m\u001b[0m\n\u001b[0m",
        "\u001b[1;32m/localstore/home/Projects/par-gplvm/parallel_GPLVM.pyc\u001b[0m in \u001b[0;36mmain\u001b[1;34m(opt_param)\u001b[0m\n\u001b[0;32m     85\u001b[0m     \u001b[0moptions\u001b[0m \u001b[1;33m=\u001b[0m \u001b[0mmap_reduce\u001b[0m\u001b[1;33m.\u001b[0m\u001b[0minit\u001b[0m\u001b[1;33m(\u001b[0m\u001b[0moptions\u001b[0m\u001b[1;33m)\u001b[0m\u001b[1;33m\u001b[0m\u001b[0m\n\u001b[0;32m     86\u001b[0m \u001b[1;33m\u001b[0m\u001b[0m\n\u001b[1;32m---> 87\u001b[1;33m     \u001b[0moptions\u001b[0m\u001b[1;33m,\u001b[0m \u001b[0mglobal_statistics\u001b[0m \u001b[1;33m=\u001b[0m \u001b[0minit_statistics\u001b[0m\u001b[1;33m(\u001b[0m\u001b[0mmap_reduce\u001b[0m\u001b[1;33m,\u001b[0m \u001b[0moptions\u001b[0m\u001b[1;33m)\u001b[0m\u001b[1;33m\u001b[0m\u001b[0m\n\u001b[0m\u001b[0;32m     88\u001b[0m     \u001b[1;31m# Run the optimiser for T steps\u001b[0m\u001b[1;33m\u001b[0m\u001b[1;33m\u001b[0m\u001b[0m\n\u001b[0;32m     89\u001b[0m     \u001b[0mx0\u001b[0m \u001b[1;33m=\u001b[0m \u001b[0mflatten_global_statistics\u001b[0m\u001b[1;33m(\u001b[0m\u001b[0moptions\u001b[0m\u001b[1;33m,\u001b[0m \u001b[0mglobal_statistics\u001b[0m\u001b[1;33m)\u001b[0m\u001b[1;33m\u001b[0m\u001b[0m\n",
        "\u001b[1;32m/localstore/home/Projects/par-gplvm/parallel_GPLVM.pyc\u001b[0m in \u001b[0;36minit_statistics\u001b[1;34m(map_reduce, options)\u001b[0m\n\u001b[0;32m    150\u001b[0m             \u001b[1;32mprint\u001b[0m \u001b[1;34m'Warning: all embeddings identical'\u001b[0m\u001b[1;33m\u001b[0m\u001b[0m\n\u001b[0;32m    151\u001b[0m         \u001b[1;32mif\u001b[0m \u001b[0membeddings\u001b[0m\u001b[1;33m.\u001b[0m\u001b[0mshape\u001b[0m\u001b[1;33m[\u001b[0m\u001b[1;36m0\u001b[0m\u001b[1;33m]\u001b[0m \u001b[1;33m<\u001b[0m \u001b[0moptions\u001b[0m\u001b[1;33m[\u001b[0m\u001b[1;34m'M'\u001b[0m\u001b[1;33m]\u001b[0m\u001b[1;33m:\u001b[0m\u001b[1;33m\u001b[0m\u001b[0m\n\u001b[1;32m--> 152\u001b[1;33m             \u001b[1;32mraise\u001b[0m \u001b[0mException\u001b[0m\u001b[1;33m(\u001b[0m\u001b[1;34m'Current implementation requires first file in the inputs folder (alphabetically) to have at least M data points'\u001b[0m\u001b[1;33m)\u001b[0m\u001b[1;33m\u001b[0m\u001b[0m\n\u001b[0m\u001b[0;32m    153\u001b[0m         \u001b[1;32mif\u001b[0m \u001b[1;32mnot\u001b[0m \u001b[0membeddings\u001b[0m\u001b[1;33m.\u001b[0m\u001b[0mshape\u001b[0m\u001b[1;33m[\u001b[0m\u001b[1;36m1\u001b[0m\u001b[1;33m]\u001b[0m \u001b[1;33m==\u001b[0m \u001b[0moptions\u001b[0m\u001b[1;33m[\u001b[0m\u001b[1;34m'Q'\u001b[0m\u001b[1;33m]\u001b[0m\u001b[1;33m:\u001b[0m\u001b[1;33m\u001b[0m\u001b[0m\n\u001b[0;32m    154\u001b[0m             \u001b[1;32mraise\u001b[0m \u001b[0mException\u001b[0m\u001b[1;33m(\u001b[0m\u001b[1;34m'Given Q does not equal existing embedding data dimensions!'\u001b[0m\u001b[1;33m)\u001b[0m\u001b[1;33m\u001b[0m\u001b[0m\n",
        "\u001b[1;31mException\u001b[0m: Current implementation requires first file in the inputs folder (alphabetically) to have at least M data points"
       ]
      },
      {
       "output_type": "stream",
       "stream": "stdout",
       "text": [
        "Creating ../oildata//embeddings//oil_2.embedding.npy with 5 points\n",
        "Creating ../oildata//embeddings//oil_2.variance.npy with 5 points\n",
        "Creating ../oildata//embeddings//oil_1.embedding.npy with 5 points\n",
        "Creating ../oildata//embeddings//oil_1.variance.npy with 5 points\n",
        "Creating ../oildata//embeddings//oil_3.embedding.npy with 5 points\n",
        "Creating ../oildata//embeddings//oil_3.variance.npy with 5 points\n",
        "Creating ../oildata//embeddings//oil_4.embedding.npy with 5 points\n",
        "Creating ../oildata//embeddings//oil_4.variance.npy with 5 points\n"
       ]
      }
     ],
     "prompt_number": 11
    },
    {
     "cell_type": "code",
     "collapsed": false,
     "input": [],
     "language": "python",
     "metadata": {},
     "outputs": []
    }
   ],
   "metadata": {}
  }
 ]
}