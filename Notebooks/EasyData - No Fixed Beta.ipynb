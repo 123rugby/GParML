{
 "metadata": {
  "name": ""
 },
 "nbformat": 3,
 "nbformat_minor": 0,
 "worksheets": [
  {
   "cells": [
    {
     "cell_type": "code",
     "collapsed": false,
     "input": [
      "%pylab inline\n",
      "import sys\n",
      "import glob\n",
      "import os\n",
      "import random\n",
      "\n",
      "import numpy as np\n",
      "import numpy.linalg as linalg\n",
      "import numpy.random as rnd\n",
      "from mpl_toolkits.mplot3d.axes3d import Axes3D\n",
      "\n",
      "import GPy"
     ],
     "language": "python",
     "metadata": {},
     "outputs": [
      {
       "output_type": "stream",
       "stream": "stdout",
       "text": [
        "Populating the interactive namespace from numpy and matplotlib\n"
       ]
      }
     ],
     "prompt_number": 1
    },
    {
     "cell_type": "code",
     "collapsed": false,
     "input": [
      "sys.path.append('../tools/')\n",
      "sys.path.append('..')\n",
      "import easy_dataset\n",
      "reload(easy_dataset)\n",
      "\n",
      "Y, Xt = easy_dataset.gen_easydata(100, 1, 3)"
     ],
     "language": "python",
     "metadata": {},
     "outputs": [],
     "prompt_number": 2
    },
    {
     "cell_type": "code",
     "collapsed": false,
     "input": [
      "# Parameters to adjust\n",
      "Q = 2\n",
      "num_inducing = 10"
     ],
     "language": "python",
     "metadata": {},
     "outputs": [],
     "prompt_number": 3
    },
    {
     "cell_type": "code",
     "collapsed": false,
     "input": [
      "np.random.seed(0)\n",
      "\n",
      "# Normalise data\n",
      "Yn = Y - Y.mean(0)\n",
      "Yn /= Yn.std(0)\n",
      "\n",
      "# Set up model\n",
      "rbf_comp = GPy.kern.rbf(Q, ARD=True)\n",
      "kern = rbf_comp + GPy.kern.bias(Q, np.exp(-2)) + GPy.kern.white(Q, np.exp(-2))\n",
      "m = GPy.models.BayesianGPLVM(Yn, Q, kernel=kern, num_inducing=10)\n",
      "m['.*lengt'] = 1.               # ???\n",
      "m['noise'] = Yn.var() / 100\n",
      "m.ensure_default_constraints()\n",
      "\n",
      "m.constrain_positive('noise')\n",
      "m.optimize('scg', messages=1, max_f_eval=50, gtol=.05)\n",
      "print m.log_likelihood()"
     ],
     "language": "python",
     "metadata": {},
     "outputs": [
      {
       "output_type": "stream",
       "stream": "stdout",
       "text": [
        " Warning: re-constraining these parameters\n",
        "noise_variance\n",
        " I      F              Scale          |g|        \n",
        "\r",
        "0001   1.024334e+04   1.000000e+00   3.289010e+08"
       ]
      },
      {
       "output_type": "stream",
       "stream": "stdout",
       "text": [
        " \r",
        "0002   3.900851e+03   5.000000e-01   1.288110e+08"
       ]
      },
      {
       "output_type": "stream",
       "stream": "stdout",
       "text": [
        " \r",
        "0003   2.416979e+03   2.500000e-01   1.778545e+07"
       ]
      },
      {
       "output_type": "stream",
       "stream": "stdout",
       "text": [
        " \r",
        "0004   1.093169e+03   1.250000e-01   6.187446e+06"
       ]
      },
      {
       "output_type": "stream",
       "stream": "stdout",
       "text": [
        " \r",
        "0005   7.911390e+02   6.250000e-02   8.518348e+05"
       ]
      },
      {
       "output_type": "stream",
       "stream": "stdout",
       "text": [
        " \n",
        "\r"
       ]
      },
      {
       "output_type": "stream",
       "stream": "stdout",
       "text": [
        "0006   5.476048e+02   3.125000e-02   2.999836e+05"
       ]
      },
      {
       "output_type": "stream",
       "stream": "stdout",
       "text": [
        " \r",
        "0007   4.831179e+02   1.562500e-02   4.297278e+04"
       ]
      },
      {
       "output_type": "stream",
       "stream": "stdout",
       "text": [
        " \r",
        "0008   4.495234e+02   7.812500e-03   1.260912e+04"
       ]
      },
      {
       "output_type": "stream",
       "stream": "stdout",
       "text": [
        " \r",
        "0009   4.193346e+02   3.906250e-03   2.273025e+03"
       ]
      },
      {
       "output_type": "stream",
       "stream": "stdout",
       "text": [
        " \r",
        "0010   3.961764e+02   1.953125e-03   7.025870e+02"
       ]
      },
      {
       "output_type": "stream",
       "stream": "stdout",
       "text": [
        " \r",
        "0011   3.880966e+02   9.765625e-04   6.467312e+02"
       ]
      },
      {
       "output_type": "stream",
       "stream": "stdout",
       "text": [
        " \n",
        "\r",
        "0012   3.687153e+02   4.882812e-04   4.107430e+02"
       ]
      },
      {
       "output_type": "stream",
       "stream": "stdout",
       "text": [
        " \r",
        "0013   3.540684e+02   2.441406e-04   3.269184e+03"
       ]
      },
      {
       "output_type": "stream",
       "stream": "stdout",
       "text": [
        " \r",
        "0014   3.458403e+02   1.220703e-04   2.633336e+03"
       ]
      },
      {
       "output_type": "stream",
       "stream": "stdout",
       "text": [
        " \r",
        "0015   3.378656e+02   6.103516e-05   1.363941e+02"
       ]
      },
      {
       "output_type": "stream",
       "stream": "stdout",
       "text": [
        " \r",
        "0016   3.360411e+02   3.051758e-05   7.778611e+01"
       ]
      },
      {
       "output_type": "stream",
       "stream": "stdout",
       "text": [
        " \r",
        "0017   3.178702e+02   1.525879e-05   3.392375e+02"
       ]
      },
      {
       "output_type": "stream",
       "stream": "stdout",
       "text": [
        " \r",
        "0018   3.059252e+02   7.629395e-06   2.321735e+03"
       ]
      },
      {
       "output_type": "stream",
       "stream": "stdout",
       "text": [
        " \r",
        "0019   3.059252e+02   3.814697e-06   1.632759e+02"
       ]
      },
      {
       "output_type": "stream",
       "stream": "stdout",
       "text": [
        " \r",
        "0020   3.059252e+02   1.525879e-05   1.632759e+02"
       ]
      },
      {
       "output_type": "stream",
       "stream": "stdout",
       "text": [
        " \r",
        "0021   3.059252e+02   6.103516e-05   1.632759e+02"
       ]
      },
      {
       "output_type": "stream",
       "stream": "stdout",
       "text": [
        " \r",
        "0022   3.059252e+02   2.441406e-04   1.632759e+02"
       ]
      },
      {
       "output_type": "stream",
       "stream": "stdout",
       "text": [
        " \r",
        "0023   3.059252e+02   9.765625e-04   1.632759e+02"
       ]
      },
      {
       "output_type": "stream",
       "stream": "stdout",
       "text": [
        " \r",
        "0024   3.059252e+02   3.906250e-03   1.632759e+02"
       ]
      },
      {
       "output_type": "stream",
       "stream": "stdout",
       "text": [
        " \r",
        "0025   3.059252e+02   1.562500e-02   1.632759e+02"
       ]
      },
      {
       "output_type": "stream",
       "stream": "stdout",
       "text": [
        " \r",
        "0026   3.037045e+02   6.250000e-02   1.632759e+02"
       ]
      },
      {
       "output_type": "stream",
       "stream": "stdout",
       "text": [
        " \r",
        "0027   2.849672e+02   2.500000e-01   4.790080e+03"
       ]
      },
      {
       "output_type": "stream",
       "stream": "stdout",
       "text": [
        " \r",
        "0028   2.849672e+02   1.250000e-01   1.176473e+03"
       ]
      },
      {
       "output_type": "stream",
       "stream": "stdout",
       "text": [
        " \r",
        "0029   2.849672e+02   5.000000e-01   1.176473e+03"
       ]
      },
      {
       "output_type": "stream",
       "stream": "stdout",
       "text": [
        " \r",
        "0030   2.849672e+02   2.000000e+00   1.176473e+03"
       ]
      },
      {
       "output_type": "stream",
       "stream": "stdout",
       "text": [
        " \r",
        "0031   2.482473e+02   8.000000e+00   1.176473e+03"
       ]
      },
      {
       "output_type": "stream",
       "stream": "stdout",
       "text": [
        " \n",
        "\r",
        "0032   2.465773e+02   4.000000e+00   2.316955e+03"
       ]
      },
      {
       "output_type": "stream",
       "stream": "stdout",
       "text": [
        " \r",
        "0033   2.405355e+02   2.000000e+00   1.593930e+03"
       ]
      },
      {
       "output_type": "stream",
       "stream": "stdout",
       "text": [
        " \r",
        "0034   2.328645e+02   1.000000e+00   1.499097e+02"
       ]
      },
      {
       "output_type": "stream",
       "stream": "stdout",
       "text": [
        " \r",
        "0035   2.311062e+02   5.000000e-01   1.446821e+02"
       ]
      },
      {
       "output_type": "stream",
       "stream": "stdout",
       "text": [
        " \r",
        "0036   2.270582e+02   2.500000e-01   2.704077e+02"
       ]
      },
      {
       "output_type": "stream",
       "stream": "stdout",
       "text": [
        " \r",
        "0037   2.270115e+02   2.500000e-01   1.610501e+03"
       ]
      },
      {
       "output_type": "stream",
       "stream": "stdout",
       "text": [
        " \r",
        "0038   2.173947e+02   1.250000e-01   1.592939e+03"
       ]
      },
      {
       "output_type": "stream",
       "stream": "stdout",
       "text": [
        " \r",
        "0039   2.124269e+02   6.250000e-02   4.749374e+02"
       ]
      },
      {
       "output_type": "stream",
       "stream": "stdout",
       "text": [
        " \r",
        "0040   2.095369e+02   3.125000e-02   5.241697e+02"
       ]
      },
      {
       "output_type": "stream",
       "stream": "stdout",
       "text": [
        " \r",
        "0041   2.078068e+02   1.562500e-02   3.033200e+02"
       ]
      },
      {
       "output_type": "stream",
       "stream": "stdout",
       "text": [
        " \r",
        "0042   2.057743e+02   7.812500e-03   1.140490e+02"
       ]
      },
      {
       "output_type": "stream",
       "stream": "stdout",
       "text": [
        " \r",
        "0043   2.031641e+02   3.906250e-03   1.756149e+02"
       ]
      },
      {
       "output_type": "stream",
       "stream": "stdout",
       "text": [
        " \r",
        "0044   1.965746e+02   1.953125e-03   2.815755e+02"
       ]
      },
      {
       "output_type": "stream",
       "stream": "stdout",
       "text": [
        " \r",
        "0045   1.936841e+02   1.953125e-03   4.919884e+02"
       ]
      },
      {
       "output_type": "stream",
       "stream": "stdout",
       "text": [
        " \r",
        "0046   1.780277e+02   9.765625e-04   7.504944e+02"
       ]
      },
      {
       "output_type": "stream",
       "stream": "stdout",
       "text": [
        " \r",
        "0047   1.719261e+02   4.882812e-04   1.326732e+03"
       ]
      },
      {
       "output_type": "stream",
       "stream": "stdout",
       "text": [
        " \r",
        "0048   1.635206e+02   2.441406e-04   2.336861e+03"
       ]
      },
      {
       "output_type": "stream",
       "stream": "stdout",
       "text": [
        " \r",
        "0049   1.632222e+02   2.441406e-04   2.949931e+03"
       ]
      },
      {
       "output_type": "stream",
       "stream": "stdout",
       "text": [
        " \r",
        "0050   1.510094e+02   1.220703e-04   2.936472e+03"
       ]
      },
      {
       "output_type": "stream",
       "stream": "stdout",
       "text": [
        " \r",
        "0051   1.439857e+02   6.103516e-05   5.312973e+02"
       ]
      },
      {
       "output_type": "stream",
       "stream": "stdout",
       "text": [
        " \r",
        "0052   1.411249e+02   3.051758e-05   1.418765e+03"
       ]
      },
      {
       "output_type": "stream",
       "stream": "stdout",
       "text": [
        " \r",
        "0053   1.356776e+02   1.525879e-05   1.437465e+03"
       ]
      },
      {
       "output_type": "stream",
       "stream": "stdout",
       "text": [
        " \r",
        "0054   1.311899e+02   7.629395e-06   1.910602e+02"
       ]
      },
      {
       "output_type": "stream",
       "stream": "stdout",
       "text": [
        " \r",
        "0055   1.302677e+02   7.629395e-06   1.054286e+03"
       ]
      },
      {
       "output_type": "stream",
       "stream": "stdout",
       "text": [
        " \r",
        "0056   1.249932e+02   7.629395e-06   2.159152e+03"
       ]
      },
      {
       "output_type": "stream",
       "stream": "stdout",
       "text": [
        " \r",
        "0057   1.158164e+02   3.814697e-06   3.043017e+03"
       ]
      },
      {
       "output_type": "stream",
       "stream": "stdout",
       "text": [
        " \r",
        "0058   1.116302e+02   1.907349e-06   7.582903e+02"
       ]
      },
      {
       "output_type": "stream",
       "stream": "stdout",
       "text": [
        " \r",
        "0059   1.097106e+02   9.536743e-07   3.047083e+02"
       ]
      },
      {
       "output_type": "stream",
       "stream": "stdout",
       "text": [
        " \r",
        "0060   1.068205e+02   4.768372e-07   2.976696e+02"
       ]
      },
      {
       "output_type": "stream",
       "stream": "stdout",
       "text": [
        " \r",
        "0061   1.031064e+02   2.384186e-07   2.671184e+02"
       ]
      },
      {
       "output_type": "stream",
       "stream": "stdout",
       "text": [
        " \r",
        "0062   1.003105e+02   1.192093e-07   4.682948e+02"
       ]
      },
      {
       "output_type": "stream",
       "stream": "stdout",
       "text": [
        " \r",
        "0063   9.783058e+01   1.192093e-07   9.078931e+02"
       ]
      },
      {
       "output_type": "stream",
       "stream": "stdout",
       "text": [
        " \n",
        "\r",
        "0064   9.417612e+01   5.960464e-08   9.358289e+02"
       ]
      },
      {
       "output_type": "stream",
       "stream": "stdout",
       "text": [
        " \r",
        "0065   9.148931e+01   2.980232e-08   3.763737e+02"
       ]
      },
      {
       "output_type": "stream",
       "stream": "stdout",
       "text": [
        " \r",
        "0066   8.922136e+01   1.490116e-08   7.329880e+02"
       ]
      },
      {
       "output_type": "stream",
       "stream": "stdout",
       "text": [
        " \r",
        "0067   8.698866e+01   7.450581e-09   6.970826e+02"
       ]
      },
      {
       "output_type": "stream",
       "stream": "stdout",
       "text": [
        " \r",
        "0068   8.454292e+01   3.725290e-09   3.254446e+02"
       ]
      },
      {
       "output_type": "stream",
       "stream": "stdout",
       "text": [
        " \r",
        "0069   8.323038e+01   1.862645e-09   3.480681e+02"
       ]
      },
      {
       "output_type": "stream",
       "stream": "stdout",
       "text": [
        " \r",
        "0070   8.128636e+01   9.313226e-10   3.334532e+02"
       ]
      },
      {
       "output_type": "stream",
       "stream": "stdout",
       "text": [
        " \r",
        "0071   7.960825e+01   4.656613e-10   3.104053e+02"
       ]
      },
      {
       "output_type": "stream",
       "stream": "stdout",
       "text": [
        " \r",
        "0072   7.707776e+01   2.328306e-10   3.185045e+02"
       ]
      },
      {
       "output_type": "stream",
       "stream": "stdout",
       "text": [
        " \r",
        "0073   7.522983e+01   1.164153e-10   3.692936e+02"
       ]
      },
      {
       "output_type": "stream",
       "stream": "stdout",
       "text": [
        " \r",
        "0074   7.306772e+01   5.820766e-11   3.232266e+02"
       ]
      },
      {
       "output_type": "stream",
       "stream": "stdout",
       "text": [
        " \r",
        "0075   6.884245e+01   2.910383e-11   5.913410e+02"
       ]
      },
      {
       "output_type": "stream",
       "stream": "stdout",
       "text": [
        " \r",
        "0076   6.290991e+01   1.455192e-11   2.133785e+03"
       ]
      },
      {
       "output_type": "stream",
       "stream": "stdout",
       "text": [
        " \r",
        "0077   5.761060e+01   7.275958e-12   2.160029e+03"
       ]
      },
      {
       "output_type": "stream",
       "stream": "stdout",
       "text": [
        " \r",
        "0078   5.430010e+01   3.637979e-12   1.836022e+03"
       ]
      },
      {
       "output_type": "stream",
       "stream": "stdout",
       "text": [
        " \r",
        "0079   5.092611e+01   1.818989e-12   1.453503e+03"
       ]
      },
      {
       "output_type": "stream",
       "stream": "stdout",
       "text": [
        " \r",
        "0080   4.872616e+01   9.094947e-13   6.945421e+02"
       ]
      },
      {
       "output_type": "stream",
       "stream": "stdout",
       "text": [
        " \r",
        "0081   4.704911e+01   4.547474e-13   7.036878e+02"
       ]
      },
      {
       "output_type": "stream",
       "stream": "stdout",
       "text": [
        " \r",
        "0082   4.588955e+01   2.273737e-13   4.334177e+02"
       ]
      },
      {
       "output_type": "stream",
       "stream": "stdout",
       "text": [
        " \r",
        "0083   4.501520e+01   1.136868e-13   2.592618e+02"
       ]
      },
      {
       "output_type": "stream",
       "stream": "stdout",
       "text": [
        " \r",
        "0084   4.406023e+01   5.684342e-14   1.989306e+02"
       ]
      },
      {
       "output_type": "stream",
       "stream": "stdout",
       "text": [
        " \r",
        "0085   4.314027e+01   2.842171e-14   2.716601e+02"
       ]
      },
      {
       "output_type": "stream",
       "stream": "stdout",
       "text": [
        " \r",
        "0086   4.229839e+01   1.421085e-14   2.381129e+02"
       ]
      },
      {
       "output_type": "stream",
       "stream": "stdout",
       "text": [
        " \r",
        "0087   4.139026e+01   7.105427e-15   2.916795e+02"
       ]
      },
      {
       "output_type": "stream",
       "stream": "stdout",
       "text": [
        " \r",
        "0088   4.013467e+01   3.552714e-15   2.637234e+02"
       ]
      },
      {
       "output_type": "stream",
       "stream": "stdout",
       "text": [
        " \r",
        "0089   3.917091e+01   1.776357e-15   3.306137e+02"
       ]
      },
      {
       "output_type": "stream",
       "stream": "stdout",
       "text": [
        " \r",
        "0090   3.815650e+01   8.881784e-16   2.417236e+02"
       ]
      },
      {
       "output_type": "stream",
       "stream": "stdout",
       "text": [
        " \r",
        "0091   3.688132e+01   4.440892e-16   2.996745e+02"
       ]
      },
      {
       "output_type": "stream",
       "stream": "stdout",
       "text": [
        " \r",
        "0092   3.493451e+01   2.220446e-16   5.455763e+02"
       ]
      },
      {
       "output_type": "stream",
       "stream": "stdout",
       "text": [
        " \r",
        "0093   3.397023e+01   1.110223e-16   1.022983e+03"
       ]
      },
      {
       "output_type": "stream",
       "stream": "stdout",
       "text": [
        " \r",
        "0094   3.235837e+01   5.551115e-17   8.509144e+02"
       ]
      },
      {
       "output_type": "stream",
       "stream": "stdout",
       "text": [
        " \r",
        "0095   3.105181e+01   2.775558e-17   5.538332e+02"
       ]
      },
      {
       "output_type": "stream",
       "stream": "stdout",
       "text": [
        " \r",
        "0096   2.964960e+01   1.387779e-17   4.444406e+02"
       ]
      },
      {
       "output_type": "stream",
       "stream": "stdout",
       "text": [
        " \r",
        "0097   2.839631e+01   6.938894e-18   6.442529e+02"
       ]
      },
      {
       "output_type": "stream",
       "stream": "stdout",
       "text": [
        " \r",
        "0098   2.743810e+01   3.469447e-18   4.019108e+02"
       ]
      },
      {
       "output_type": "stream",
       "stream": "stdout",
       "text": [
        " \r",
        "0099   2.646275e+01   1.734723e-18   4.105600e+02"
       ]
      },
      {
       "output_type": "stream",
       "stream": "stdout",
       "text": [
        " \r",
        "0100   2.557640e+01   8.673617e-19   4.924820e+02"
       ]
      },
      {
       "output_type": "stream",
       "stream": "stdout",
       "text": [
        " \r",
        "0101   2.490708e+01   4.336809e-19   4.118533e+02"
       ]
      },
      {
       "output_type": "stream",
       "stream": "stdout",
       "text": [
        " \r",
        "0102   2.448099e+01   2.168404e-19   1.920232e+02"
       ]
      },
      {
       "output_type": "stream",
       "stream": "stdout",
       "text": [
        " \r",
        "0103   2.389948e+01   1.084202e-19   1.901222e+02"
       ]
      },
      {
       "output_type": "stream",
       "stream": "stdout",
       "text": [
        " \r",
        "0104   2.315406e+01   5.421011e-20   2.835127e+02"
       ]
      },
      {
       "output_type": "stream",
       "stream": "stdout",
       "text": [
        " \r",
        "0105   2.250075e+01   2.710505e-20   2.589351e+02"
       ]
      },
      {
       "output_type": "stream",
       "stream": "stdout",
       "text": [
        " \r",
        "0106   2.169831e+01   1.355253e-20   2.922921e+02"
       ]
      },
      {
       "output_type": "stream",
       "stream": "stdout",
       "text": [
        " \r",
        "0107   2.094567e+01   6.776264e-21   4.094849e+02"
       ]
      },
      {
       "output_type": "stream",
       "stream": "stdout",
       "text": [
        " \r",
        "0108   2.039124e+01   3.388132e-21   3.735987e+02"
       ]
      },
      {
       "output_type": "stream",
       "stream": "stdout",
       "text": [
        " \r",
        "0109   1.984685e+01   1.694066e-21   2.779549e+02"
       ]
      },
      {
       "output_type": "stream",
       "stream": "stdout",
       "text": [
        " \r",
        "0110   1.895201e+01   8.470329e-22   2.906573e+02"
       ]
      },
      {
       "output_type": "stream",
       "stream": "stdout",
       "text": [
        " \r",
        "0111   1.781960e+01   4.235165e-22   4.096342e+02"
       ]
      },
      {
       "output_type": "stream",
       "stream": "stdout",
       "text": [
        " \r",
        "0112   1.672600e+01   2.117582e-22   3.809030e+02"
       ]
      },
      {
       "output_type": "stream",
       "stream": "stdout",
       "text": [
        " \r",
        "0113   1.578785e+01   1.058791e-22   6.197673e+02"
       ]
      },
      {
       "output_type": "stream",
       "stream": "stdout",
       "text": [
        " \r",
        "0114   1.471153e+01   5.293956e-23   6.441704e+02"
       ]
      },
      {
       "output_type": "stream",
       "stream": "stdout",
       "text": [
        " \r",
        "0115   1.402519e+01   2.646978e-23   4.464453e+02"
       ]
      },
      {
       "output_type": "stream",
       "stream": "stdout",
       "text": [
        " \r",
        "0116   1.331255e+01   1.323489e-23   4.251458e+02"
       ]
      },
      {
       "output_type": "stream",
       "stream": "stdout",
       "text": [
        " \r",
        "0117   1.255176e+01   6.617445e-24   4.822351e+02"
       ]
      },
      {
       "output_type": "stream",
       "stream": "stdout",
       "text": [
        " \r",
        "0118   1.164198e+01   3.308722e-24   5.835419e+02"
       ]
      },
      {
       "output_type": "stream",
       "stream": "stdout",
       "text": [
        " \r",
        "0119   1.089029e+01   1.654361e-24   5.361364e+02"
       ]
      },
      {
       "output_type": "stream",
       "stream": "stdout",
       "text": [
        " \r",
        "0120   1.028652e+01   8.271806e-25   3.876406e+02"
       ]
      },
      {
       "output_type": "stream",
       "stream": "stdout",
       "text": [
        " \r",
        "0121   9.659413e+00   4.135903e-25   4.008597e+02"
       ]
      },
      {
       "output_type": "stream",
       "stream": "stdout",
       "text": [
        " \n",
        "\r",
        "0122   9.102973e+00   2.067952e-25   3.479351e+02"
       ]
      },
      {
       "output_type": "stream",
       "stream": "stdout",
       "text": [
        " \r",
        "0123   8.619327e+00   1.033976e-25   2.948402e+02"
       ]
      },
      {
       "output_type": "stream",
       "stream": "stdout",
       "text": [
        " \r",
        "0124   8.198549e+00   5.169879e-26   2.637903e+02"
       ]
      },
      {
       "output_type": "stream",
       "stream": "stdout",
       "text": [
        " \r",
        "0125   7.838607e+00   2.584939e-26   3.108303e+02"
       ]
      },
      {
       "output_type": "stream",
       "stream": "stdout",
       "text": [
        " \r",
        "0126   7.423888e+00   1.292470e-26   4.255378e+02"
       ]
      },
      {
       "output_type": "stream",
       "stream": "stdout",
       "text": [
        " \r",
        "0127   6.904799e+00   6.462349e-27   4.303760e+02"
       ]
      },
      {
       "output_type": "stream",
       "stream": "stdout",
       "text": [
        " \r",
        "0128   6.351039e+00   3.231174e-27   4.087076e+02"
       ]
      },
      {
       "output_type": "stream",
       "stream": "stdout",
       "text": [
        " \r",
        "0129   5.904192e+00   1.615587e-27   4.242516e+02"
       ]
      },
      {
       "output_type": "stream",
       "stream": "stdout",
       "text": [
        " \r",
        "0130   5.425326e+00   8.077936e-28   3.207985e+02"
       ]
      },
      {
       "output_type": "stream",
       "stream": "stdout",
       "text": [
        " \r",
        "0131   4.984896e+00   4.038968e-28   3.698204e+02"
       ]
      },
      {
       "output_type": "stream",
       "stream": "stdout",
       "text": [
        " \r",
        "0132   4.598989e+00   2.019484e-28   2.878081e+02"
       ]
      },
      {
       "output_type": "stream",
       "stream": "stdout",
       "text": [
        " \r",
        "0133   4.266926e+00   1.009742e-28   2.959645e+02"
       ]
      },
      {
       "output_type": "stream",
       "stream": "stdout",
       "text": [
        " \r",
        "0134   4.004702e+00   5.048710e-29   2.368811e+02"
       ]
      },
      {
       "output_type": "stream",
       "stream": "stdout",
       "text": [
        " \r",
        "0135   3.847422e+00   2.524355e-29   1.574557e+02"
       ]
      },
      {
       "output_type": "stream",
       "stream": "stdout",
       "text": [
        " \r",
        "0136   3.680524e+00   1.262177e-29   1.020011e+02"
       ]
      },
      {
       "output_type": "stream",
       "stream": "stdout",
       "text": [
        " \r",
        "0137   3.444808e+00   6.310887e-30   1.329340e+02"
       ]
      },
      {
       "output_type": "stream",
       "stream": "stdout",
       "text": [
        " \r",
        "0138   3.206817e+00   3.155444e-30   1.869873e+02"
       ]
      },
      {
       "output_type": "stream",
       "stream": "stdout",
       "text": [
        " \r",
        "0139   3.045590e+00   1.577722e-30   1.174267e+02"
       ]
      },
      {
       "output_type": "stream",
       "stream": "stdout",
       "text": [
        " \r",
        "0140   2.892567e+00   7.888609e-31   9.010757e+01"
       ]
      },
      {
       "output_type": "stream",
       "stream": "stdout",
       "text": [
        " \n",
        "\r",
        "0141   2.690999e+00   3.944305e-31   1.368850e+02"
       ]
      },
      {
       "output_type": "stream",
       "stream": "stdout",
       "text": [
        " \r",
        "0142   2.504647e+00   1.972152e-31   1.405448e+02"
       ]
      },
      {
       "output_type": "stream",
       "stream": "stdout",
       "text": [
        " \r",
        "0143   2.308040e+00   9.860761e-32   1.350059e+02"
       ]
      },
      {
       "output_type": "stream",
       "stream": "stdout",
       "text": [
        " \r",
        "0144   2.073127e+00   4.930381e-32   1.578153e+02"
       ]
      },
      {
       "output_type": "stream",
       "stream": "stdout",
       "text": [
        " \r",
        "0145   1.807835e+00   2.465190e-32   1.922611e+02"
       ]
      },
      {
       "output_type": "stream",
       "stream": "stdout",
       "text": [
        " \r",
        "0146   1.533800e+00   1.232595e-32   2.045710e+02"
       ]
      },
      {
       "output_type": "stream",
       "stream": "stdout",
       "text": [
        " \r",
        "0147   1.283893e+00   6.162976e-33   1.946342e+02"
       ]
      },
      {
       "output_type": "stream",
       "stream": "stdout",
       "text": [
        " \r",
        "0148   8.651697e-01   3.081488e-33   2.087945e+02"
       ]
      },
      {
       "output_type": "stream",
       "stream": "stdout",
       "text": [
        " \r",
        "0149   3.056745e-01   1.540744e-33   3.814404e+02"
       ]
      },
      {
       "output_type": "stream",
       "stream": "stdout",
       "text": [
        " \r",
        "0150  -3.291072e-01   7.703720e-34   5.473407e+02"
       ]
      },
      {
       "output_type": "stream",
       "stream": "stdout",
       "text": [
        " \r",
        "0151  -8.654672e-01   3.851860e-34   5.487712e+02"
       ]
      },
      {
       "output_type": "stream",
       "stream": "stdout",
       "text": [
        " \r",
        "0152  -1.434559e+00   1.925930e-34   4.620381e+02"
       ]
      },
      {
       "output_type": "stream",
       "stream": "stdout",
       "text": [
        " \r",
        "0153  -2.102351e+00   9.629650e-35   6.918886e+02"
       ]
      },
      {
       "output_type": "stream",
       "stream": "stdout",
       "text": [
        " \r",
        "0154  -2.692273e+00   4.814825e-35   6.720130e+02"
       ]
      },
      {
       "output_type": "stream",
       "stream": "stdout",
       "text": [
        " \r",
        "0155  -3.103303e+00   2.407412e-35   5.401113e+02"
       ]
      },
      {
       "output_type": "stream",
       "stream": "stdout",
       "text": [
        " \r",
        "0156  -3.582253e+00   1.203706e-35   3.764103e+02"
       ]
      },
      {
       "output_type": "stream",
       "stream": "stdout",
       "text": [
        " \r",
        "0157  -4.115803e+00   6.018531e-36   5.621045e+02"
       ]
      },
      {
       "output_type": "stream",
       "stream": "stdout",
       "text": [
        " \r",
        "0158  -4.483774e+00   3.009266e-36   4.235963e+02"
       ]
      },
      {
       "output_type": "stream",
       "stream": "stdout",
       "text": [
        " \r",
        "0159  -4.646080e+00   1.504633e-36   2.037125e+02"
       ]
      },
      {
       "output_type": "stream",
       "stream": "stdout",
       "text": [
        " \r",
        "0160  -4.783135e+00   7.523164e-37   1.391274e+02"
       ]
      },
      {
       "output_type": "stream",
       "stream": "stdout",
       "text": [
        " \r",
        "0161  -4.925819e+00   3.761582e-37   1.310506e+02"
       ]
      },
      {
       "output_type": "stream",
       "stream": "stdout",
       "text": [
        " \r",
        "0162  -5.052923e+00   1.880791e-37   1.191560e+02"
       ]
      },
      {
       "output_type": "stream",
       "stream": "stdout",
       "text": [
        " \r",
        "0163  -5.151026e+00   9.403955e-38   1.166120e+02"
       ]
      },
      {
       "output_type": "stream",
       "stream": "stdout",
       "text": [
        " \r",
        "0164  -5.271632e+00   4.701977e-38   1.054713e+02"
       ]
      },
      {
       "output_type": "stream",
       "stream": "stdout",
       "text": [
        " \r",
        "0165  -5.437884e+00   2.350989e-38   1.391035e+02"
       ]
      },
      {
       "output_type": "stream",
       "stream": "stdout",
       "text": [
        " \r",
        "0166  -5.619455e+00   1.175494e-38   1.948112e+02"
       ]
      },
      {
       "output_type": "stream",
       "stream": "stdout",
       "text": [
        " \r",
        "0167  -5.740250e+00   5.877472e-39   1.583862e+02"
       ]
      },
      {
       "output_type": "stream",
       "stream": "stdout",
       "text": [
        " \r",
        "0168  -5.841918e+00   2.938736e-39   1.180424e+02"
       ]
      },
      {
       "output_type": "stream",
       "stream": "stdout",
       "text": [
        " \r",
        "0169  -5.951641e+00   1.469368e-39   8.863435e+01"
       ]
      },
      {
       "output_type": "stream",
       "stream": "stdout",
       "text": [
        " \r",
        "0170  -6.045508e+00   7.346840e-40   9.346011e+01"
       ]
      },
      {
       "output_type": "stream",
       "stream": "stdout",
       "text": [
        " \r",
        "0171  -6.126716e+00   3.673420e-40   8.811145e+01"
       ]
      },
      {
       "output_type": "stream",
       "stream": "stdout",
       "text": [
        " \r",
        "0172  -6.196958e+00   1.836710e-40   6.818037e+01"
       ]
      },
      {
       "output_type": "stream",
       "stream": "stdout",
       "text": [
        " \r",
        "0173  -6.288058e+00   9.183550e-41   7.879680e+01"
       ]
      },
      {
       "output_type": "stream",
       "stream": "stdout",
       "text": [
        " \r",
        "0174  -6.391611e+00   4.591775e-41   1.095358e+02"
       ]
      },
      {
       "output_type": "stream",
       "stream": "stdout",
       "text": [
        " \r",
        "0175  -6.487154e+00   2.295887e-41   9.970884e+01"
       ]
      },
      {
       "output_type": "stream",
       "stream": "stdout",
       "text": [
        " \r",
        "0176  -6.557557e+00   1.147944e-41   7.987460e+01"
       ]
      },
      {
       "output_type": "stream",
       "stream": "stdout",
       "text": [
        " \r",
        "0177  -6.658440e+00   5.739719e-42   7.553661e+01"
       ]
      },
      {
       "output_type": "stream",
       "stream": "stdout",
       "text": [
        " \r",
        "0178  -6.797683e+00   2.869859e-42   1.249549e+02"
       ]
      },
      {
       "output_type": "stream",
       "stream": "stdout",
       "text": [
        " \r",
        "0179  -6.905462e+00   1.434930e-42   1.117451e+02"
       ]
      },
      {
       "output_type": "stream",
       "stream": "stdout",
       "text": [
        " \r",
        "0180  -6.990023e+00   7.174648e-43   9.343115e+01"
       ]
      },
      {
       "output_type": "stream",
       "stream": "stdout",
       "text": [
        " \r",
        "0181  -7.118219e+00   3.587324e-43   8.275843e+01"
       ]
      },
      {
       "output_type": "stream",
       "stream": "stdout",
       "text": [
        " \r",
        "0182  -7.243758e+00   1.793662e-43   1.420130e+02"
       ]
      },
      {
       "output_type": "stream",
       "stream": "stdout",
       "text": [
        " \r",
        "0183  -7.356663e+00   8.968310e-44   1.290425e+02"
       ]
      },
      {
       "output_type": "stream",
       "stream": "stdout",
       "text": [
        " \r",
        "0184  -7.459604e+00   4.484155e-44   8.786332e+01"
       ]
      },
      {
       "output_type": "stream",
       "stream": "stdout",
       "text": [
        " \r",
        "0185  -7.594217e+00   2.242078e-44   1.246677e+02"
       ]
      },
      {
       "output_type": "stream",
       "stream": "stdout",
       "text": [
        " \r",
        "0186  -7.766130e+00   1.121039e-44   1.575558e+02"
       ]
      },
      {
       "output_type": "stream",
       "stream": "stdout",
       "text": [
        " \r",
        "0187  -7.926230e+00   5.605194e-45   1.956475e+02"
       ]
      },
      {
       "output_type": "stream",
       "stream": "stdout",
       "text": [
        " \r",
        "0188  -8.030082e+00   2.802597e-45   1.262282e+02"
       ]
      },
      {
       "output_type": "stream",
       "stream": "stdout",
       "text": [
        " \r",
        "0189  -8.112047e+00   1.401298e-45   8.463101e+01"
       ]
      },
      {
       "output_type": "stream",
       "stream": "stdout",
       "text": [
        " \r",
        "0190  -8.213088e+00   7.006492e-46   9.942997e+01"
       ]
      },
      {
       "output_type": "stream",
       "stream": "stdout",
       "text": [
        " \r",
        "0191  -8.304207e+00   3.503246e-46   8.746926e+01"
       ]
      },
      {
       "output_type": "stream",
       "stream": "stdout",
       "text": [
        " \r",
        "0192  -8.374997e+00   1.751623e-46   8.482030e+01"
       ]
      },
      {
       "output_type": "stream",
       "stream": "stdout",
       "text": [
        " \r",
        "0193  -8.446020e+00   8.758115e-47   8.076013e+01"
       ]
      },
      {
       "output_type": "stream",
       "stream": "stdout",
       "text": [
        " \r",
        "0194  -8.576341e+00   4.379058e-47   1.048187e+02"
       ]
      },
      {
       "output_type": "stream",
       "stream": "stdout",
       "text": [
        " \r",
        "0195  -8.676533e+00   2.189529e-47   1.343129e+02"
       ]
      },
      {
       "output_type": "stream",
       "stream": "stdout",
       "text": [
        " \r",
        "0196  -8.738472e+00   1.094764e-47   7.062740e+01"
       ]
      },
      {
       "output_type": "stream",
       "stream": "stdout",
       "text": [
        " \r",
        "0197  -8.805670e+00   5.473822e-48   5.163062e+01"
       ]
      },
      {
       "output_type": "stream",
       "stream": "stdout",
       "text": [
        " \r",
        "0198  -8.889815e+00   2.736911e-48   9.303037e+01"
       ]
      },
      {
       "output_type": "stream",
       "stream": "stdout",
       "text": [
        " \r",
        "0199  -8.973100e+00   1.368456e-48   1.022524e+02"
       ]
      },
      {
       "output_type": "stream",
       "stream": "stdout",
       "text": [
        " \r",
        "0200  -9.049601e+00   6.842278e-49   9.560370e+01"
       ]
      },
      {
       "output_type": "stream",
       "stream": "stdout",
       "text": [
        " \r",
        "0201  -9.120093e+00   3.421139e-49   7.557325e+01"
       ]
      },
      {
       "output_type": "stream",
       "stream": "stdout",
       "text": [
        " \r",
        "0202  -9.183733e+00   1.710569e-49   7.737733e+01"
       ]
      },
      {
       "output_type": "stream",
       "stream": "stdout",
       "text": [
        " \r",
        "0203  -9.246118e+00   8.552847e-50   7.609055e+01"
       ]
      },
      {
       "output_type": "stream",
       "stream": "stdout",
       "text": [
        " \r",
        "0204  -9.287528e+00   4.276424e-50   5.497671e+01"
       ]
      },
      {
       "output_type": "stream",
       "stream": "stdout",
       "text": [
        " \r",
        "0205  -9.331705e+00   2.138212e-50   3.985167e+01"
       ]
      },
      {
       "output_type": "stream",
       "stream": "stdout",
       "text": [
        " \r",
        "0206  -9.394375e+00   1.069106e-50   5.935657e+01"
       ]
      },
      {
       "output_type": "stream",
       "stream": "stdout",
       "text": [
        " \r",
        "0207  -9.439488e+00   5.345529e-51   5.228234e+01"
       ]
      },
      {
       "output_type": "stream",
       "stream": "stdout",
       "text": [
        " \r",
        "0208  -9.471856e+00   2.672765e-51   4.137541e+01"
       ]
      },
      {
       "output_type": "stream",
       "stream": "stdout",
       "text": [
        " \r",
        "0209  -9.514791e+00   1.336382e-51   3.947262e+01"
       ]
      },
      {
       "output_type": "stream",
       "stream": "stdout",
       "text": [
        " \r",
        "0210  -9.608254e+00   6.681912e-52   6.041261e+01"
       ]
      },
      {
       "output_type": "stream",
       "stream": "stdout",
       "text": [
        " \r",
        "0211  -9.711636e+00   3.340956e-52   1.294227e+02"
       ]
      },
      {
       "output_type": "stream",
       "stream": "stdout",
       "text": [
        " \r",
        "0212  -9.797601e+00   1.670478e-52   1.004764e+02"
       ]
      },
      {
       "output_type": "stream",
       "stream": "stdout",
       "text": [
        " \r",
        "0213  -9.843116e+00   8.352390e-53   5.231859e+01"
       ]
      },
      {
       "output_type": "stream",
       "stream": "stdout",
       "text": [
        " \r",
        "0214  -9.902591e+00   4.176195e-53   5.450106e+01"
       ]
      },
      {
       "output_type": "stream",
       "stream": "stdout",
       "text": [
        " \r",
        "0215  -9.962686e+00   2.088097e-53   7.153281e+01"
       ]
      },
      {
       "output_type": "stream",
       "stream": "stdout",
       "text": [
        " \r",
        "0216  -1.000830e+01   1.044049e-53   4.801058e+01"
       ]
      },
      {
       "output_type": "stream",
       "stream": "stdout",
       "text": [
        " \r",
        "0217  -1.004818e+01   5.220244e-54   4.328267e+01"
       ]
      },
      {
       "output_type": "stream",
       "stream": "stdout",
       "text": [
        " \r",
        "0218  -1.010962e+01   2.610122e-54   4.645130e+01"
       ]
      },
      {
       "output_type": "stream",
       "stream": "stdout",
       "text": [
        " \r",
        "0219  -1.018208e+01   1.305061e-54   1.053833e+02"
       ]
      },
      {
       "output_type": "stream",
       "stream": "stdout",
       "text": [
        " \r",
        "0220  -1.025630e+01   6.525304e-55   9.320340e+01"
       ]
      },
      {
       "output_type": "stream",
       "stream": "stdout",
       "text": [
        " \r",
        "0221  -1.031642e+01   3.262652e-55   6.566055e+01"
       ]
      },
      {
       "output_type": "stream",
       "stream": "stdout",
       "text": [
        " \r",
        "0222  -1.038752e+01   1.631326e-55   8.002260e+01"
       ]
      },
      {
       "output_type": "stream",
       "stream": "stdout",
       "text": [
        " \r",
        "0223  -1.043989e+01   8.156631e-56   8.214644e+01"
       ]
      },
      {
       "output_type": "stream",
       "stream": "stdout",
       "text": [
        " \r",
        "0224  -1.048210e+01   4.078315e-56   5.328544e+01"
       ]
      },
      {
       "output_type": "stream",
       "stream": "stdout",
       "text": [
        " \r",
        "0225  -1.052630e+01   2.039158e-56   4.645794e+01"
       ]
      },
      {
       "output_type": "stream",
       "stream": "stdout",
       "text": [
        " \r",
        "0226  -1.058110e+01   1.019579e-56   6.278204e+01"
       ]
      },
      {
       "output_type": "stream",
       "stream": "stdout",
       "text": [
        " \r",
        "0227  -1.064215e+01   5.097894e-57   7.433166e+01"
       ]
      },
      {
       "output_type": "stream",
       "stream": "stdout",
       "text": [
        " \r",
        "0228  -1.068852e+01   2.548947e-57   7.215762e+01"
       ]
      },
      {
       "output_type": "stream",
       "stream": "stdout",
       "text": [
        " \r",
        "0229  -1.074088e+01   1.274474e-57   5.741828e+01"
       ]
      },
      {
       "output_type": "stream",
       "stream": "stdout",
       "text": [
        " \r",
        "0230  -1.080282e+01   6.372368e-58   6.083509e+01"
       ]
      },
      {
       "output_type": "stream",
       "stream": "stdout",
       "text": [
        " \r",
        "0231  -1.086199e+01   3.186184e-58   7.691910e+01"
       ]
      },
      {
       "output_type": "stream",
       "stream": "stdout",
       "text": [
        " \r",
        "0232  -1.090363e+01   1.593092e-58   5.793636e+01"
       ]
      },
      {
       "output_type": "stream",
       "stream": "stdout",
       "text": [
        " \r",
        "0233  -1.094623e+01   7.965460e-59   5.113695e+01"
       ]
      },
      {
       "output_type": "stream",
       "stream": "stdout",
       "text": [
        " \r",
        "0234  -1.100821e+01   3.982730e-59   5.155099e+01"
       ]
      },
      {
       "output_type": "stream",
       "stream": "stdout",
       "text": [
        " \r",
        "0235  -1.107053e+01   1.991365e-59   8.258714e+01"
       ]
      },
      {
       "output_type": "stream",
       "stream": "stdout",
       "text": [
        " \r",
        "0236  -1.112054e+01   9.956824e-60   7.000632e+01"
       ]
      },
      {
       "output_type": "stream",
       "stream": "stdout",
       "text": [
        " \r",
        "0237  -1.116550e+01   4.978412e-60   5.511688e+01"
       ]
      },
      {
       "output_type": "stream",
       "stream": "stdout",
       "text": [
        " \r",
        "0238  -1.124904e+01   2.489206e-60   6.206956e+01"
       ]
      },
      {
       "output_type": "stream",
       "stream": "stdout",
       "text": [
        " \r",
        "0239  -1.132723e+01   1.244603e-60   9.842325e+01"
       ]
      },
      {
       "output_type": "stream",
       "stream": "stdout",
       "text": [
        " \r",
        "0240  -1.139600e+01   1.000000e-60   8.384420e+01"
       ]
      },
      {
       "output_type": "stream",
       "stream": "stdout",
       "text": [
        " \r",
        "0241  -1.144412e+01   1.000000e-60   5.596494e+01"
       ]
      },
      {
       "output_type": "stream",
       "stream": "stdout",
       "text": [
        " \r",
        "0242  -1.151485e+01   1.000000e-60   6.562509e+01"
       ]
      },
      {
       "output_type": "stream",
       "stream": "stdout",
       "text": [
        " \r",
        "0243  -1.158287e+01   1.000000e-60   8.939247e+01"
       ]
      },
      {
       "output_type": "stream",
       "stream": "stdout",
       "text": [
        " \r",
        "0244  -1.165111e+01   1.000000e-60   8.119303e+01"
       ]
      },
      {
       "output_type": "stream",
       "stream": "stdout",
       "text": [
        " \r",
        "0245  -1.171481e+01   1.000000e-60   6.590321e+01"
       ]
      },
      {
       "output_type": "stream",
       "stream": "stdout",
       "text": [
        " \r",
        "0246  -1.181385e+01   1.000000e-60   9.056372e+01"
       ]
      },
      {
       "output_type": "stream",
       "stream": "stdout",
       "text": [
        " \r",
        "0247  -1.192096e+01   1.000000e-60   1.313863e+02"
       ]
      },
      {
       "output_type": "stream",
       "stream": "stdout",
       "text": [
        " \r",
        "0248  -1.201695e+01   1.000000e-60   1.407736e+02"
       ]
      },
      {
       "output_type": "stream",
       "stream": "stdout",
       "text": [
        " \r",
        "0249  -1.211961e+01   1.000000e-60   1.409064e+02"
       ]
      },
      {
       "output_type": "stream",
       "stream": "stdout",
       "text": [
        " \r",
        "0250  -1.225616e+01   1.000000e-60   1.314170e+02"
       ]
      },
      {
       "output_type": "stream",
       "stream": "stdout",
       "text": [
        " \r",
        "0251  -1.237461e+01   1.000000e-60   1.632694e+02"
       ]
      },
      {
       "output_type": "stream",
       "stream": "stdout",
       "text": [
        " \r",
        "0252  -1.245483e+01   1.000000e-60   1.077494e+02"
       ]
      },
      {
       "output_type": "stream",
       "stream": "stdout",
       "text": [
        " \r",
        "0253  -1.251027e+01   1.000000e-60   7.534636e+01"
       ]
      },
      {
       "output_type": "stream",
       "stream": "stdout",
       "text": [
        " \r",
        "0254  -1.255972e+01   1.000000e-60   5.974362e+01"
       ]
      },
      {
       "output_type": "stream",
       "stream": "stdout",
       "text": [
        " \r",
        "0255  -1.262938e+01   1.000000e-60   6.396076e+01"
       ]
      },
      {
       "output_type": "stream",
       "stream": "stdout",
       "text": [
        " \r",
        "0256  -1.269774e+01   1.000000e-60   1.028773e+02"
       ]
      },
      {
       "output_type": "stream",
       "stream": "stdout",
       "text": [
        " \r",
        "0257  -1.275240e+01   1.000000e-60   7.219358e+01"
       ]
      },
      {
       "output_type": "stream",
       "stream": "stdout",
       "text": [
        " \r",
        "0258  -1.280440e+01   1.000000e-60   7.138049e+01"
       ]
      },
      {
       "output_type": "stream",
       "stream": "stdout",
       "text": [
        " \r",
        "0259  -1.287311e+01   1.000000e-60   7.849564e+01"
       ]
      },
      {
       "output_type": "stream",
       "stream": "stdout",
       "text": [
        " \r",
        "0260  -1.298836e+01   1.000000e-60   1.150132e+02"
       ]
      },
      {
       "output_type": "stream",
       "stream": "stdout",
       "text": [
        " \r",
        "0261  -1.309921e+01   1.000000e-60   1.606235e+02"
       ]
      },
      {
       "output_type": "stream",
       "stream": "stdout",
       "text": [
        " \r",
        "0262  -1.316731e+01   1.000000e-60   9.930599e+01"
       ]
      },
      {
       "output_type": "stream",
       "stream": "stdout",
       "text": [
        " \r",
        "0263  -1.323178e+01   1.000000e-60   7.601532e+01"
       ]
      },
      {
       "output_type": "stream",
       "stream": "stdout",
       "text": [
        " \r",
        "0264  -1.333356e+01   1.000000e-60   1.082818e+02"
       ]
      },
      {
       "output_type": "stream",
       "stream": "stdout",
       "text": [
        " \r",
        "0265  -1.341242e+01   1.000000e-60   1.293710e+02"
       ]
      },
      {
       "output_type": "stream",
       "stream": "stdout",
       "text": [
        " \r",
        "0266  -1.348465e+01   1.000000e-60   8.379323e+01"
       ]
      },
      {
       "output_type": "stream",
       "stream": "stdout",
       "text": [
        " \r",
        "0267  -1.355405e+01   1.000000e-60   8.327607e+01"
       ]
      },
      {
       "output_type": "stream",
       "stream": "stdout",
       "text": [
        " \r",
        "0268  -1.369281e+01   1.000000e-60   1.268057e+02"
       ]
      },
      {
       "output_type": "stream",
       "stream": "stdout",
       "text": [
        " \r",
        "0269  -1.377721e+01   1.000000e-60   2.886777e+02"
       ]
      },
      {
       "output_type": "stream",
       "stream": "stdout",
       "text": [
        " \r",
        "0270  -1.392274e+01   1.000000e-60   2.518740e+02"
       ]
      },
      {
       "output_type": "stream",
       "stream": "stdout",
       "text": [
        " \r",
        "0271  -1.401550e+01   1.000000e-60   1.439883e+02"
       ]
      },
      {
       "output_type": "stream",
       "stream": "stdout",
       "text": [
        " \r",
        "0272  -1.411425e+01   1.000000e-60   1.272921e+02"
       ]
      },
      {
       "output_type": "stream",
       "stream": "stdout",
       "text": [
        " \r",
        "0273  -1.416677e+01   1.000000e-60   1.063230e+02"
       ]
      },
      {
       "output_type": "stream",
       "stream": "stdout",
       "text": [
        " \r",
        "0274  -1.419671e+01   1.000000e-60   5.468284e+01"
       ]
      },
      {
       "output_type": "stream",
       "stream": "stdout",
       "text": [
        " \r",
        "0275  -1.422158e+01   1.000000e-60   3.021891e+01"
       ]
      },
      {
       "output_type": "stream",
       "stream": "stdout",
       "text": [
        " \r",
        "0276  -1.425320e+01   1.000000e-60   4.113699e+01"
       ]
      },
      {
       "output_type": "stream",
       "stream": "stdout",
       "text": [
        " \r",
        "0277  -1.427634e+01   1.000000e-60   3.331862e+01"
       ]
      },
      {
       "output_type": "stream",
       "stream": "stdout",
       "text": [
        " \r",
        "0278  -1.428875e+01   1.000000e-60   2.313628e+01"
       ]
      },
      {
       "output_type": "stream",
       "stream": "stdout",
       "text": [
        " \r",
        "0279  -1.430226e+01   1.000000e-60   1.536253e+01"
       ]
      },
      {
       "output_type": "stream",
       "stream": "stdout",
       "text": [
        " \r",
        "0280  -1.432153e+01   1.000000e-60   2.407212e+01"
       ]
      },
      {
       "output_type": "stream",
       "stream": "stdout",
       "text": [
        " \r",
        "0281  -1.434379e+01   1.000000e-60   2.814497e+01"
       ]
      },
      {
       "output_type": "stream",
       "stream": "stdout",
       "text": [
        " \r",
        "0282  -1.435835e+01   1.000000e-60   2.558725e+01"
       ]
      },
      {
       "output_type": "stream",
       "stream": "stdout",
       "text": [
        " \r",
        "0283  -1.437163e+01   1.000000e-60   1.506387e+01"
       ]
      },
      {
       "output_type": "stream",
       "stream": "stdout",
       "text": [
        " \r",
        "0284  -1.438860e+01   1.000000e-60   2.385146e+01"
       ]
      },
      {
       "output_type": "stream",
       "stream": "stdout",
       "text": [
        " \r",
        "0285  -1.440771e+01   1.000000e-60   2.580563e+01"
       ]
      },
      {
       "output_type": "stream",
       "stream": "stdout",
       "text": [
        " \r",
        "0286  -1.443136e+01   1.000000e-60   2.601271e+01"
       ]
      },
      {
       "output_type": "stream",
       "stream": "stdout",
       "text": [
        " \r",
        "0287  -1.446072e+01   1.000000e-60   3.220665e+01"
       ]
      },
      {
       "output_type": "stream",
       "stream": "stdout",
       "text": [
        " \r",
        "0288  -1.448709e+01   1.000000e-60   4.294173e+01"
       ]
      },
      {
       "output_type": "stream",
       "stream": "stdout",
       "text": [
        " \r",
        "0289  -1.453511e+01   1.000000e-60   4.859438e+01"
       ]
      },
      {
       "output_type": "stream",
       "stream": "stdout",
       "text": [
        " \r",
        "0290  -1.461492e+01   1.000000e-60   8.446202e+01"
       ]
      },
      {
       "output_type": "stream",
       "stream": "stdout",
       "text": [
        " \r",
        "0291  -1.469853e+01   1.000000e-60   1.040575e+02"
       ]
      },
      {
       "output_type": "stream",
       "stream": "stdout",
       "text": [
        " \r",
        "0292  -1.476740e+01   1.000000e-60   8.009047e+01"
       ]
      },
      {
       "output_type": "stream",
       "stream": "stdout",
       "text": [
        " \r",
        "0293  -1.481457e+01   1.000000e-60   7.043256e+01"
       ]
      },
      {
       "output_type": "stream",
       "stream": "stdout",
       "text": [
        " \r",
        "0294  -1.487625e+01   1.000000e-60   6.409302e+01"
       ]
      },
      {
       "output_type": "stream",
       "stream": "stdout",
       "text": [
        " \r",
        "0295  -1.493609e+01   1.000000e-60   9.718069e+01"
       ]
      },
      {
       "output_type": "stream",
       "stream": "stdout",
       "text": [
        " \r",
        "0296  -1.499359e+01   1.000000e-60   7.964516e+01"
       ]
      },
      {
       "output_type": "stream",
       "stream": "stdout",
       "text": [
        " \r",
        "0297  -1.504299e+01   1.000000e-60   6.473153e+01"
       ]
      },
      {
       "output_type": "stream",
       "stream": "stdout",
       "text": [
        " \r",
        "0298  -1.510788e+01   1.000000e-60   7.292038e+01"
       ]
      },
      {
       "output_type": "stream",
       "stream": "stdout",
       "text": [
        " \r",
        "0299  -1.518422e+01   1.000000e-60   1.003501e+02"
       ]
      },
      {
       "output_type": "stream",
       "stream": "stdout",
       "text": [
        " \r",
        "0300  -1.527162e+01   1.000000e-60   1.213523e+02"
       ]
      },
      {
       "output_type": "stream",
       "stream": "stdout",
       "text": [
        " \r",
        "0301  -1.535305e+01   1.000000e-60   1.248693e+02"
       ]
      },
      {
       "output_type": "stream",
       "stream": "stdout",
       "text": [
        " \r",
        "0302  -1.545160e+01   1.000000e-60   1.205827e+02"
       ]
      },
      {
       "output_type": "stream",
       "stream": "stdout",
       "text": [
        " \r",
        "0303  -1.555778e+01   1.000000e-60   1.422352e+02"
       ]
      },
      {
       "output_type": "stream",
       "stream": "stdout",
       "text": [
        " \r",
        "0304  -1.566228e+01   1.000000e-60   1.886597e+02"
       ]
      },
      {
       "output_type": "stream",
       "stream": "stdout",
       "text": [
        " \r",
        "0305  -1.575229e+01   1.000000e-60   1.912494e+02"
       ]
      },
      {
       "output_type": "stream",
       "stream": "stdout",
       "text": [
        " \r",
        "0306  -1.584054e+01   1.000000e-60   1.453164e+02"
       ]
      },
      {
       "output_type": "stream",
       "stream": "stdout",
       "text": [
        " \r",
        "0307  -1.590961e+01   1.000000e-60   2.305559e+02"
       ]
      },
      {
       "output_type": "stream",
       "stream": "stdout",
       "text": [
        " \r",
        "0308  -1.604347e+01   1.000000e-60   2.408541e+02"
       ]
      },
      {
       "output_type": "stream",
       "stream": "stdout",
       "text": [
        " \r",
        "0309  -1.615354e+01   1.000000e-60   2.126892e+02"
       ]
      },
      {
       "output_type": "stream",
       "stream": "stdout",
       "text": [
        " \r",
        "0310  -1.620728e+01   1.000000e-60   1.143432e+02"
       ]
      },
      {
       "output_type": "stream",
       "stream": "stdout",
       "text": [
        " \r",
        "0311  -1.623808e+01   1.000000e-60   5.797052e+01"
       ]
      },
      {
       "output_type": "stream",
       "stream": "stdout",
       "text": [
        " \r",
        "0312  -1.626337e+01   1.000000e-60   4.753302e+01"
       ]
      },
      {
       "output_type": "stream",
       "stream": "stdout",
       "text": [
        " \r",
        "0313  -1.629237e+01   1.000000e-60   4.679727e+01"
       ]
      },
      {
       "output_type": "stream",
       "stream": "stdout",
       "text": [
        " \r",
        "0314  -1.632034e+01   1.000000e-60   4.436944e+01"
       ]
      },
      {
       "output_type": "stream",
       "stream": "stdout",
       "text": [
        " \r",
        "0315  -1.635593e+01   1.000000e-60   5.267586e+01"
       ]
      },
      {
       "output_type": "stream",
       "stream": "stdout",
       "text": [
        " \r",
        "0316  -1.638289e+01   1.000000e-60   5.390428e+01"
       ]
      },
      {
       "output_type": "stream",
       "stream": "stdout",
       "text": [
        " \r",
        "0317  -1.640448e+01   1.000000e-60   3.090191e+01"
       ]
      },
      {
       "output_type": "stream",
       "stream": "stdout",
       "text": [
        " \r",
        "0318  -1.642543e+01   1.000000e-60   3.470291e+01"
       ]
      },
      {
       "output_type": "stream",
       "stream": "stdout",
       "text": [
        " \r",
        "0319  -1.644245e+01   1.000000e-60   2.494889e+01"
       ]
      },
      {
       "output_type": "stream",
       "stream": "stdout",
       "text": [
        " \r",
        "0320  -1.645760e+01   1.000000e-60   2.324265e+01"
       ]
      },
      {
       "output_type": "stream",
       "stream": "stdout",
       "text": [
        " \r",
        "0321  -1.647444e+01   1.000000e-60   2.644961e+01"
       ]
      },
      {
       "output_type": "stream",
       "stream": "stdout",
       "text": [
        " \r",
        "0322  -1.649322e+01   1.000000e-60   2.571842e+01"
       ]
      },
      {
       "output_type": "stream",
       "stream": "stdout",
       "text": [
        " \r",
        "0323  -1.651961e+01   1.000000e-60   3.115708e+01"
       ]
      },
      {
       "output_type": "stream",
       "stream": "stdout",
       "text": [
        " \r",
        "0324  -1.655280e+01   1.000000e-60   4.707283e+01"
       ]
      },
      {
       "output_type": "stream",
       "stream": "stdout",
       "text": [
        " \r",
        "0325  -1.659442e+01   1.000000e-60   5.613320e+01"
       ]
      },
      {
       "output_type": "stream",
       "stream": "stdout",
       "text": [
        " \r",
        "0326  -1.664173e+01   1.000000e-60   6.687051e+01"
       ]
      },
      {
       "output_type": "stream",
       "stream": "stdout",
       "text": [
        " \r",
        "0327  -1.668634e+01   1.000000e-60   7.735081e+01"
       ]
      },
      {
       "output_type": "stream",
       "stream": "stdout",
       "text": [
        " \r",
        "0328  -1.672464e+01   1.000000e-60   4.867393e+01"
       ]
      },
      {
       "output_type": "stream",
       "stream": "stdout",
       "text": [
        " \r",
        "0329  -1.675599e+01   1.000000e-60   5.058795e+01"
       ]
      },
      {
       "output_type": "stream",
       "stream": "stdout",
       "text": [
        " \r",
        "0330  -1.678704e+01   1.000000e-60   4.092479e+01"
       ]
      },
      {
       "output_type": "stream",
       "stream": "stdout",
       "text": [
        " \r",
        "0331  -1.680871e+01   1.000000e-60   3.747450e+01"
       ]
      },
      {
       "output_type": "stream",
       "stream": "stdout",
       "text": [
        " \r",
        "0332  -1.682583e+01   1.000000e-60   2.554383e+01"
       ]
      },
      {
       "output_type": "stream",
       "stream": "stdout",
       "text": [
        " \r",
        "0333  -1.684807e+01   1.000000e-60   2.721278e+01"
       ]
      },
      {
       "output_type": "stream",
       "stream": "stdout",
       "text": [
        " \r",
        "0334  -1.688015e+01   1.000000e-60   4.565572e+01"
       ]
      },
      {
       "output_type": "stream",
       "stream": "stdout",
       "text": [
        " \r",
        "0335  -1.691402e+01   1.000000e-60   6.491820e+01"
       ]
      },
      {
       "output_type": "stream",
       "stream": "stdout",
       "text": [
        " \r",
        "0336  -1.694371e+01   1.000000e-60   4.353633e+01"
       ]
      },
      {
       "output_type": "stream",
       "stream": "stdout",
       "text": [
        " \r",
        "0337  -1.696350e+01   1.000000e-60   3.881291e+01"
       ]
      },
      {
       "output_type": "stream",
       "stream": "stdout",
       "text": [
        " \r",
        "0338  -1.698067e+01   1.000000e-60   2.399548e+01"
       ]
      },
      {
       "output_type": "stream",
       "stream": "stdout",
       "text": [
        " \r",
        "0339  -1.699736e+01   1.000000e-60   2.196238e+01"
       ]
      },
      {
       "output_type": "stream",
       "stream": "stdout",
       "text": [
        " \r",
        "0340  -1.701090e+01   1.000000e-60   2.230605e+01"
       ]
      },
      {
       "output_type": "stream",
       "stream": "stdout",
       "text": [
        " \r",
        "0341  -1.702503e+01   1.000000e-60   1.963188e+01"
       ]
      },
      {
       "output_type": "stream",
       "stream": "stdout",
       "text": [
        " \r",
        "0342  -1.704434e+01   1.000000e-60   2.465296e+01"
       ]
      },
      {
       "output_type": "stream",
       "stream": "stdout",
       "text": [
        " \r",
        "0343  -1.706284e+01   1.000000e-60   2.476844e+01"
       ]
      },
      {
       "output_type": "stream",
       "stream": "stdout",
       "text": [
        " \r",
        "0344  -1.707586e+01   1.000000e-60   2.323820e+01"
       ]
      },
      {
       "output_type": "stream",
       "stream": "stdout",
       "text": [
        " \r",
        "0345  -1.709221e+01   1.000000e-60   2.167703e+01"
       ]
      },
      {
       "output_type": "stream",
       "stream": "stdout",
       "text": [
        " \r",
        "0346  -1.711067e+01   1.000000e-60   2.512949e+01"
       ]
      },
      {
       "output_type": "stream",
       "stream": "stdout",
       "text": [
        " \r",
        "0347  -1.712577e+01   1.000000e-60   2.387697e+01"
       ]
      },
      {
       "output_type": "stream",
       "stream": "stdout",
       "text": [
        " \r",
        "0348  -1.714109e+01   1.000000e-60   2.123540e+01"
       ]
      },
      {
       "output_type": "stream",
       "stream": "stdout",
       "text": [
        " \r",
        "0349  -1.716296e+01   1.000000e-60   2.702549e+01"
       ]
      },
      {
       "output_type": "stream",
       "stream": "stdout",
       "text": [
        " \r",
        "0350  -1.719463e+01   1.000000e-60   3.739290e+01"
       ]
      },
      {
       "output_type": "stream",
       "stream": "stdout",
       "text": [
        " \r",
        "0351  -1.722359e+01   1.000000e-60   4.860648e+01"
       ]
      },
      {
       "output_type": "stream",
       "stream": "stdout",
       "text": [
        " \r",
        "0352  -1.724636e+01   1.000000e-60   3.819151e+01"
       ]
      },
      {
       "output_type": "stream",
       "stream": "stdout",
       "text": [
        " \r",
        "0353  -1.727455e+01   1.000000e-60   3.951470e+01"
       ]
      },
      {
       "output_type": "stream",
       "stream": "stdout",
       "text": [
        " \r",
        "0354  -1.730794e+01   1.000000e-60   5.099050e+01"
       ]
      },
      {
       "output_type": "stream",
       "stream": "stdout",
       "text": [
        " \r",
        "0355  -1.734440e+01   1.000000e-60   5.940182e+01"
       ]
      },
      {
       "output_type": "stream",
       "stream": "stdout",
       "text": [
        " \r",
        "0356  -1.737989e+01   1.000000e-60   6.651912e+01"
       ]
      },
      {
       "output_type": "stream",
       "stream": "stdout",
       "text": [
        " \r",
        "0357  -1.741669e+01   1.000000e-60   5.651218e+01"
       ]
      },
      {
       "output_type": "stream",
       "stream": "stdout",
       "text": [
        " \r",
        "0358  -1.745898e+01   1.000000e-60   5.986015e+01"
       ]
      },
      {
       "output_type": "stream",
       "stream": "stdout",
       "text": [
        " \r",
        "0359  -1.749613e+01   1.000000e-60   5.467543e+01"
       ]
      },
      {
       "output_type": "stream",
       "stream": "stdout",
       "text": [
        " \r",
        "0360  -1.752440e+01   1.000000e-60   4.221980e+01"
       ]
      },
      {
       "output_type": "stream",
       "stream": "stdout",
       "text": [
        " \r",
        "0361  -1.754959e+01   1.000000e-60   3.837741e+01"
       ]
      },
      {
       "output_type": "stream",
       "stream": "stdout",
       "text": [
        " \r",
        "0362  -1.757768e+01   1.000000e-60   3.981386e+01"
       ]
      },
      {
       "output_type": "stream",
       "stream": "stdout",
       "text": [
        " \r",
        "0363  -1.760436e+01   1.000000e-60   4.197312e+01"
       ]
      },
      {
       "output_type": "stream",
       "stream": "stdout",
       "text": [
        " \r",
        "0364  -1.763693e+01   1.000000e-60   4.087568e+01"
       ]
      },
      {
       "output_type": "stream",
       "stream": "stdout",
       "text": [
        " \r",
        "0365  -1.767197e+01   1.000000e-60   5.433027e+01"
       ]
      },
      {
       "output_type": "stream",
       "stream": "stdout",
       "text": [
        " \r",
        "0366  -1.769992e+01   1.000000e-60   4.629426e+01"
       ]
      },
      {
       "output_type": "stream",
       "stream": "stdout",
       "text": [
        " \r",
        "0367  -1.771889e+01   1.000000e-60   3.223057e+01"
       ]
      },
      {
       "output_type": "stream",
       "stream": "stdout",
       "text": [
        " \r",
        "0368  -1.774434e+01   1.000000e-60   2.912417e+01"
       ]
      },
      {
       "output_type": "stream",
       "stream": "stdout",
       "text": [
        " \r",
        "0369  -1.777531e+01   1.000000e-60   4.523007e+01"
       ]
      },
      {
       "output_type": "stream",
       "stream": "stdout",
       "text": [
        " \r",
        "0370  -1.781091e+01   1.000000e-60   4.258429e+01"
       ]
      },
      {
       "output_type": "stream",
       "stream": "stdout",
       "text": [
        " \r",
        "0371  -1.783451e+01   1.000000e-60   4.240980e+01"
       ]
      },
      {
       "output_type": "stream",
       "stream": "stdout",
       "text": [
        " \r",
        "0372  -1.785914e+01   1.000000e-60   3.445935e+01"
       ]
      },
      {
       "output_type": "stream",
       "stream": "stdout",
       "text": [
        " \r",
        "0373  -1.788442e+01   1.000000e-60   3.576406e+01"
       ]
      },
      {
       "output_type": "stream",
       "stream": "stdout",
       "text": [
        " \r",
        "0374  -1.789948e+01   1.000000e-60   2.605521e+01"
       ]
      },
      {
       "output_type": "stream",
       "stream": "stdout",
       "text": [
        " \r",
        "0375  -1.791382e+01   1.000000e-60   1.776589e+01"
       ]
      },
      {
       "output_type": "stream",
       "stream": "stdout",
       "text": [
        " \r",
        "0376  -1.792910e+01   1.000000e-60   2.301169e+01"
       ]
      },
      {
       "output_type": "stream",
       "stream": "stdout",
       "text": [
        " \r",
        "0377  -1.795021e+01   1.000000e-60   2.767270e+01"
       ]
      },
      {
       "output_type": "stream",
       "stream": "stdout",
       "text": [
        " \r",
        "0378  -1.797373e+01   1.000000e-60   3.207101e+01"
       ]
      },
      {
       "output_type": "stream",
       "stream": "stdout",
       "text": [
        " \r",
        "0379  -1.799190e+01   1.000000e-60   2.717519e+01"
       ]
      },
      {
       "output_type": "stream",
       "stream": "stdout",
       "text": [
        " \r",
        "0380  -1.801836e+01   1.000000e-60   3.167903e+01"
       ]
      },
      {
       "output_type": "stream",
       "stream": "stdout",
       "text": [
        " \r",
        "0381  -1.806333e+01   1.000000e-60   5.217250e+01"
       ]
      },
      {
       "output_type": "stream",
       "stream": "stdout",
       "text": [
        " \r",
        "0382  -1.810675e+01   1.000000e-60   9.419029e+01"
       ]
      },
      {
       "output_type": "stream",
       "stream": "stdout",
       "text": [
        " \r",
        "0383  -1.814516e+01   1.000000e-60   1.434129e+02"
       ]
      },
      {
       "output_type": "stream",
       "stream": "stdout",
       "text": [
        " \r",
        "0384  -1.820857e+01   1.000000e-60   1.317888e+02"
       ]
      },
      {
       "output_type": "stream",
       "stream": "stdout",
       "text": [
        " \r",
        "0385  -1.825275e+01   1.000000e-60   7.371052e+01"
       ]
      },
      {
       "output_type": "stream",
       "stream": "stdout",
       "text": [
        " \r",
        "0386  -1.828518e+01   1.000000e-60   5.714926e+01"
       ]
      },
      {
       "output_type": "stream",
       "stream": "stdout",
       "text": [
        " \r",
        "0387  -1.830113e+01   1.000000e-60   3.091102e+01"
       ]
      },
      {
       "output_type": "stream",
       "stream": "stdout",
       "text": [
        " \r",
        "0388  -1.831193e+01   1.000000e-60   1.813745e+01"
       ]
      },
      {
       "output_type": "stream",
       "stream": "stdout",
       "text": [
        " \r",
        "0389  -1.832400e+01   1.000000e-60   1.535472e+01"
       ]
      },
      {
       "output_type": "stream",
       "stream": "stdout",
       "text": [
        " \r",
        "0390  -1.833964e+01   1.000000e-60   1.992916e+01"
       ]
      },
      {
       "output_type": "stream",
       "stream": "stdout",
       "text": [
        " \n",
        "\r",
        "0391  -1.835639e+01   1.000000e-60   2.445916e+01"
       ]
      },
      {
       "output_type": "stream",
       "stream": "stdout",
       "text": [
        " \r",
        "0392  -1.836914e+01   1.000000e-60   2.168641e+01"
       ]
      },
      {
       "output_type": "stream",
       "stream": "stdout",
       "text": [
        " \r",
        "0393  -1.837970e+01   1.000000e-60   1.846656e+01"
       ]
      },
      {
       "output_type": "stream",
       "stream": "stdout",
       "text": [
        " \r",
        "0394  -1.838810e+01   1.000000e-60   1.236429e+01"
       ]
      },
      {
       "output_type": "stream",
       "stream": "stdout",
       "text": [
        " \r",
        "0395  -1.839743e+01   1.000000e-60   9.826380e+00"
       ]
      },
      {
       "output_type": "stream",
       "stream": "stdout",
       "text": [
        " \r",
        "0396  -1.840824e+01   1.000000e-60   1.595268e+01"
       ]
      },
      {
       "output_type": "stream",
       "stream": "stdout",
       "text": [
        " \r",
        "0397  -1.842747e+01   1.000000e-60   1.835113e+01"
       ]
      },
      {
       "output_type": "stream",
       "stream": "stdout",
       "text": [
        " \r",
        "0398  -1.844592e+01   1.000000e-60   3.209411e+01"
       ]
      },
      {
       "output_type": "stream",
       "stream": "stdout",
       "text": [
        " \r",
        "0399  -1.845577e+01   1.000000e-60   2.222859e+01"
       ]
      },
      {
       "output_type": "stream",
       "stream": "stdout",
       "text": [
        " \r",
        "0400  -1.846464e+01   1.000000e-60   1.216632e+01"
       ]
      },
      {
       "output_type": "stream",
       "stream": "stdout",
       "text": [
        " \r",
        "0401  -1.847300e+01   1.000000e-60   1.274292e+01"
       ]
      },
      {
       "output_type": "stream",
       "stream": "stdout",
       "text": [
        " \r",
        "0402  -1.848084e+01   1.000000e-60   1.257844e+01"
       ]
      },
      {
       "output_type": "stream",
       "stream": "stdout",
       "text": [
        " \r",
        "0403  -1.848696e+01   1.000000e-60   1.019307e+01"
       ]
      },
      {
       "output_type": "stream",
       "stream": "stdout",
       "text": [
        " \r",
        "0404  -1.849212e+01   1.000000e-60   7.564056e+00"
       ]
      },
      {
       "output_type": "stream",
       "stream": "stdout",
       "text": [
        " \n",
        "\r"
       ]
      },
      {
       "output_type": "stream",
       "stream": "stdout",
       "text": [
        "0405  -1.849820e+01   1.000000e-60   8.447063e+00"
       ]
      },
      {
       "output_type": "stream",
       "stream": "stdout",
       "text": [
        " \r",
        "0406  -1.850475e+01   1.000000e-60   9.192370e+00"
       ]
      },
      {
       "output_type": "stream",
       "stream": "stdout",
       "text": [
        " \r",
        "0407  -1.851343e+01   1.000000e-60   1.156532e+01"
       ]
      },
      {
       "output_type": "stream",
       "stream": "stdout",
       "text": [
        " \r",
        "0408  -1.852406e+01   1.000000e-60   1.471013e+01"
       ]
      },
      {
       "output_type": "stream",
       "stream": "stdout",
       "text": [
        " \r",
        "0409  -1.853588e+01   1.000000e-60   1.841344e+01"
       ]
      },
      {
       "output_type": "stream",
       "stream": "stdout",
       "text": [
        " \r",
        "0410  -1.854646e+01   1.000000e-60   1.322125e+01"
       ]
      },
      {
       "output_type": "stream",
       "stream": "stdout",
       "text": [
        " \r",
        "0411  -1.855634e+01   1.000000e-60   1.793227e+01"
       ]
      },
      {
       "output_type": "stream",
       "stream": "stdout",
       "text": [
        " \r",
        "0412  -1.856957e+01   1.000000e-60   1.783034e+01"
       ]
      },
      {
       "output_type": "stream",
       "stream": "stdout",
       "text": [
        " \r",
        "0413  -1.858249e+01   1.000000e-60   1.711089e+01"
       ]
      },
      {
       "output_type": "stream",
       "stream": "stdout",
       "text": [
        " \r",
        "0414  -1.859555e+01   1.000000e-60   2.275262e+01"
       ]
      },
      {
       "output_type": "stream",
       "stream": "stdout",
       "text": [
        " \r",
        "0415  -1.861665e+01   1.000000e-60   2.727514e+01"
       ]
      },
      {
       "output_type": "stream",
       "stream": "stdout",
       "text": [
        " \r",
        "0416  -1.864242e+01   1.000000e-60   3.299541e+01"
       ]
      },
      {
       "output_type": "stream",
       "stream": "stdout",
       "text": [
        " \r",
        "0417  -1.867585e+01   1.000000e-60   4.724932e+01"
       ]
      },
      {
       "output_type": "stream",
       "stream": "stdout",
       "text": [
        " \r",
        "0418  -1.870134e+01   1.000000e-60   4.480288e+01"
       ]
      },
      {
       "output_type": "stream",
       "stream": "stdout",
       "text": [
        " \r",
        "0419  -1.871749e+01   1.000000e-60   2.689788e+01"
       ]
      },
      {
       "output_type": "stream",
       "stream": "stdout",
       "text": [
        " \r",
        "0420  -1.873531e+01   1.000000e-60   2.437602e+01"
       ]
      },
      {
       "output_type": "stream",
       "stream": "stdout",
       "text": [
        " \r",
        "0421  -1.875355e+01   1.000000e-60   2.720091e+01"
       ]
      },
      {
       "output_type": "stream",
       "stream": "stdout",
       "text": [
        " \r",
        "0422  -1.877311e+01   1.000000e-60   2.481238e+01"
       ]
      },
      {
       "output_type": "stream",
       "stream": "stdout",
       "text": [
        " \r",
        "0423  -1.879760e+01   1.000000e-60   3.216533e+01"
       ]
      },
      {
       "output_type": "stream",
       "stream": "stdout",
       "text": [
        " \r",
        "0424  -1.881919e+01   1.000000e-60   3.436768e+01"
       ]
      },
      {
       "output_type": "stream",
       "stream": "stdout",
       "text": [
        " \r",
        "0425  -1.884782e+01   1.000000e-60   3.045393e+01"
       ]
      },
      {
       "output_type": "stream",
       "stream": "stdout",
       "text": [
        " \r",
        "0426  -1.888077e+01   1.000000e-60   5.437984e+01"
       ]
      },
      {
       "output_type": "stream",
       "stream": "stdout",
       "text": [
        " \r",
        "0427  -1.891022e+01   1.000000e-60   5.317822e+01"
       ]
      },
      {
       "output_type": "stream",
       "stream": "stdout",
       "text": [
        " \r",
        "0428  -1.893408e+01   1.000000e-60   4.328470e+01"
       ]
      },
      {
       "output_type": "stream",
       "stream": "stdout",
       "text": [
        " \r",
        "0429  -1.895450e+01   1.000000e-60   3.554918e+01"
       ]
      },
      {
       "output_type": "stream",
       "stream": "stdout",
       "text": [
        " \r",
        "0430  -1.897477e+01   1.000000e-60   2.868613e+01"
       ]
      },
      {
       "output_type": "stream",
       "stream": "stdout",
       "text": [
        " \r",
        "0431  -1.899789e+01   1.000000e-60   2.981162e+01"
       ]
      },
      {
       "output_type": "stream",
       "stream": "stdout",
       "text": [
        " \r",
        "0432  -1.902102e+01   1.000000e-60   3.260249e+01"
       ]
      },
      {
       "output_type": "stream",
       "stream": "stdout",
       "text": [
        " \r",
        "0433  -1.904537e+01   1.000000e-60   3.314605e+01"
       ]
      },
      {
       "output_type": "stream",
       "stream": "stdout",
       "text": [
        " \r",
        "0434  -1.906140e+01   1.000000e-60   2.933489e+01"
       ]
      },
      {
       "output_type": "stream",
       "stream": "stdout",
       "text": [
        " \r",
        "0435  -1.907584e+01   1.000000e-60   2.018075e+01"
       ]
      },
      {
       "output_type": "stream",
       "stream": "stdout",
       "text": [
        " \r",
        "0436  -1.909053e+01   1.000000e-60   2.342272e+01"
       ]
      },
      {
       "output_type": "stream",
       "stream": "stdout",
       "text": [
        " \r",
        "0437  -1.909772e+01   1.000000e-60   1.929499e+01"
       ]
      },
      {
       "output_type": "stream",
       "stream": "stdout",
       "text": [
        " \r",
        "0438  -1.910092e+01   1.000000e-60   6.767212e+00"
       ]
      },
      {
       "output_type": "stream",
       "stream": "stdout",
       "text": [
        " \r",
        "0439  -1.910331e+01   1.000000e-60   3.426644e+00"
       ]
      },
      {
       "output_type": "stream",
       "stream": "stdout",
       "text": [
        " \r",
        "0440  -1.910763e+01   1.000000e-60   5.021961e+00"
       ]
      },
      {
       "output_type": "stream",
       "stream": "stdout",
       "text": [
        " \r",
        "0441  -1.911133e+01   1.000000e-60   5.624622e+00"
       ]
      },
      {
       "output_type": "stream",
       "stream": "stdout",
       "text": [
        " \r",
        "0442  -1.911446e+01   1.000000e-60   4.940940e+00"
       ]
      },
      {
       "output_type": "stream",
       "stream": "stdout",
       "text": [
        " \r",
        "0443  -1.911760e+01   1.000000e-60   3.797360e+00"
       ]
      },
      {
       "output_type": "stream",
       "stream": "stdout",
       "text": [
        " \r",
        "0444  -1.912101e+01   1.000000e-60   5.093034e+00"
       ]
      },
      {
       "output_type": "stream",
       "stream": "stdout",
       "text": [
        " \r",
        "0445  -1.912640e+01   1.000000e-60   5.441897e+00"
       ]
      },
      {
       "output_type": "stream",
       "stream": "stdout",
       "text": [
        " \r",
        "0446  -1.913284e+01   1.000000e-60   9.032573e+00"
       ]
      },
      {
       "output_type": "stream",
       "stream": "stdout",
       "text": [
        " \r",
        "0447  -1.914039e+01   1.000000e-60   7.616008e+00"
       ]
      },
      {
       "output_type": "stream",
       "stream": "stdout",
       "text": [
        " \r",
        "0448  -1.914546e+01   1.000000e-60   1.453665e+01"
       ]
      },
      {
       "output_type": "stream",
       "stream": "stdout",
       "text": [
        " \r",
        "0449  -1.914986e+01   1.000000e-60   9.382234e+00"
       ]
      },
      {
       "output_type": "stream",
       "stream": "stdout",
       "text": [
        " \r",
        "0450  -1.915583e+01   1.000000e-60   7.463153e+00"
       ]
      },
      {
       "output_type": "stream",
       "stream": "stdout",
       "text": [
        " \r",
        "0451  -1.916257e+01   1.000000e-60   1.109608e+01"
       ]
      },
      {
       "output_type": "stream",
       "stream": "stdout",
       "text": [
        " \r",
        "0452  -1.916695e+01   1.000000e-60   8.984634e+00"
       ]
      },
      {
       "output_type": "stream",
       "stream": "stdout",
       "text": [
        " \r",
        "0453  -1.917077e+01   1.000000e-60   6.931825e+00"
       ]
      },
      {
       "output_type": "stream",
       "stream": "stdout",
       "text": [
        " \r",
        "0454  -1.917490e+01   1.000000e-60   5.092877e+00"
       ]
      },
      {
       "output_type": "stream",
       "stream": "stdout",
       "text": [
        " \r",
        "0455  -1.917918e+01   1.000000e-60   6.595657e+00"
       ]
      },
      {
       "output_type": "stream",
       "stream": "stdout",
       "text": [
        " \r",
        "0456  -1.918410e+01   1.000000e-60   6.668848e+00"
       ]
      },
      {
       "output_type": "stream",
       "stream": "stdout",
       "text": [
        " \r",
        "0457  -1.919063e+01   1.000000e-60   9.424846e+00"
       ]
      },
      {
       "output_type": "stream",
       "stream": "stdout",
       "text": [
        " \r",
        "0458  -1.920045e+01   1.000000e-60   1.136936e+01"
       ]
      },
      {
       "output_type": "stream",
       "stream": "stdout",
       "text": [
        " \r",
        "0459  -1.921726e+01   1.000000e-60   2.064980e+01"
       ]
      },
      {
       "output_type": "stream",
       "stream": "stdout",
       "text": [
        " \r",
        "0460  -1.922979e+01   1.000000e-60   2.121425e+01"
       ]
      },
      {
       "output_type": "stream",
       "stream": "stdout",
       "text": [
        " \r",
        "0461  -1.924474e+01   1.000000e-60   2.485058e+01"
       ]
      },
      {
       "output_type": "stream",
       "stream": "stdout",
       "text": [
        " \r",
        "0462  -1.926966e+01   1.000000e-60   3.047021e+01"
       ]
      },
      {
       "output_type": "stream",
       "stream": "stdout",
       "text": [
        " \r",
        "0463  -1.929445e+01   1.000000e-60   4.342259e+01"
       ]
      },
      {
       "output_type": "stream",
       "stream": "stdout",
       "text": [
        " \r",
        "0464  -1.931451e+01   1.000000e-60   4.456644e+01"
       ]
      },
      {
       "output_type": "stream",
       "stream": "stdout",
       "text": [
        " \r",
        "0465  -1.933440e+01   1.000000e-60   2.859763e+01"
       ]
      },
      {
       "output_type": "stream",
       "stream": "stdout",
       "text": [
        " \r",
        "0466  -1.935785e+01   1.000000e-60   3.515089e+01"
       ]
      },
      {
       "output_type": "stream",
       "stream": "stdout",
       "text": [
        " \r",
        "0467  -1.938555e+01   1.000000e-60   4.898764e+01"
       ]
      },
      {
       "output_type": "stream",
       "stream": "stdout",
       "text": [
        " \r",
        "0468  -1.940809e+01   1.000000e-60   4.139375e+01"
       ]
      },
      {
       "output_type": "stream",
       "stream": "stdout",
       "text": [
        " \r",
        "0469  -1.942654e+01   1.000000e-60   2.986874e+01"
       ]
      },
      {
       "output_type": "stream",
       "stream": "stdout",
       "text": [
        " \r",
        "0470  -1.944196e+01   1.000000e-60   1.881525e+01"
       ]
      },
      {
       "output_type": "stream",
       "stream": "stdout",
       "text": [
        " \r",
        "0471  -1.945176e+01   1.000000e-60   1.591039e+01"
       ]
      },
      {
       "output_type": "stream",
       "stream": "stdout",
       "text": [
        " \r",
        "0472  -1.946101e+01   1.000000e-60   1.094408e+01"
       ]
      },
      {
       "output_type": "stream",
       "stream": "stdout",
       "text": [
        " \r",
        "0473  -1.947500e+01   1.000000e-60   1.711897e+01"
       ]
      },
      {
       "output_type": "stream",
       "stream": "stdout",
       "text": [
        " \r",
        "0474  -1.949303e+01   1.000000e-60   2.394532e+01"
       ]
      },
      {
       "output_type": "stream",
       "stream": "stdout",
       "text": [
        " \r",
        "0475  -1.950489e+01   1.000000e-60   2.409130e+01"
       ]
      },
      {
       "output_type": "stream",
       "stream": "stdout",
       "text": [
        " \r",
        "0476  -1.951211e+01   1.000000e-60   1.197989e+01"
       ]
      },
      {
       "output_type": "stream",
       "stream": "stdout",
       "text": [
        " \r",
        "0477  -1.951733e+01   1.000000e-60   7.805388e+00"
       ]
      },
      {
       "output_type": "stream",
       "stream": "stdout",
       "text": [
        " \r",
        "0478  -1.952336e+01   1.000000e-60   8.817556e+00"
       ]
      },
      {
       "output_type": "stream",
       "stream": "stdout",
       "text": [
        " \r",
        "0479  -1.952844e+01   1.000000e-60   7.272066e+00"
       ]
      },
      {
       "output_type": "stream",
       "stream": "stdout",
       "text": [
        " \r",
        "0480  -1.953505e+01   1.000000e-60   6.256611e+00"
       ]
      },
      {
       "output_type": "stream",
       "stream": "stdout",
       "text": [
        " \r",
        "0481  -1.954608e+01   1.000000e-60   1.433379e+01"
       ]
      },
      {
       "output_type": "stream",
       "stream": "stdout",
       "text": [
        " \r",
        "0482  -1.955850e+01   1.000000e-60   1.946589e+01"
       ]
      },
      {
       "output_type": "stream",
       "stream": "stdout",
       "text": [
        " \r",
        "0483  -1.956697e+01   1.000000e-60   1.581053e+01"
       ]
      },
      {
       "output_type": "stream",
       "stream": "stdout",
       "text": [
        " \r",
        "0484  -1.957286e+01   1.000000e-60   1.106669e+01"
       ]
      },
      {
       "output_type": "stream",
       "stream": "stdout",
       "text": [
        " \r",
        "0485  -1.957763e+01   1.000000e-60   7.469496e+00"
       ]
      },
      {
       "output_type": "stream",
       "stream": "stdout",
       "text": [
        " \r",
        "0486  -1.958308e+01   1.000000e-60   7.731133e+00"
       ]
      },
      {
       "output_type": "stream",
       "stream": "stdout",
       "text": [
        " \r",
        "0487  -1.958981e+01   1.000000e-60   9.448243e+00"
       ]
      },
      {
       "output_type": "stream",
       "stream": "stdout",
       "text": [
        " \r",
        "0488  -1.959813e+01   1.000000e-60   1.098608e+01"
       ]
      },
      {
       "output_type": "stream",
       "stream": "stdout",
       "text": [
        " \r",
        "0489  -1.961094e+01   1.000000e-60   1.583991e+01"
       ]
      },
      {
       "output_type": "stream",
       "stream": "stdout",
       "text": [
        " \r",
        "0490  -1.962735e+01   1.000000e-60   2.146955e+01"
       ]
      },
      {
       "output_type": "stream",
       "stream": "stdout",
       "text": [
        " \r",
        "0491  -1.964397e+01   1.000000e-60   2.178446e+01"
       ]
      },
      {
       "output_type": "stream",
       "stream": "stdout",
       "text": [
        " \r",
        "0492  -1.966737e+01   1.000000e-60   2.729944e+01"
       ]
      },
      {
       "output_type": "stream",
       "stream": "stdout",
       "text": [
        " \r",
        "0493  -1.970318e+01   1.000000e-60   4.008799e+01"
       ]
      },
      {
       "output_type": "stream",
       "stream": "stdout",
       "text": [
        " \r",
        "0494  -1.972641e+01   1.000000e-60   3.429264e+01"
       ]
      },
      {
       "output_type": "stream",
       "stream": "stdout",
       "text": [
        " \r",
        "0495  -1.974335e+01   1.000000e-60   2.503446e+01"
       ]
      },
      {
       "output_type": "stream",
       "stream": "stdout",
       "text": [
        " \r",
        "0496  -1.977121e+01   1.000000e-60   2.780690e+01"
       ]
      },
      {
       "output_type": "stream",
       "stream": "stdout",
       "text": [
        " \r",
        "0497  -1.980886e+01   1.000000e-60   7.550474e+01"
       ]
      },
      {
       "output_type": "stream",
       "stream": "stdout",
       "text": [
        " \r",
        "0498  -1.984339e+01   1.000000e-60   7.281660e+01"
       ]
      },
      {
       "output_type": "stream",
       "stream": "stdout",
       "text": [
        " \r",
        "0499  -1.985766e+01   1.000000e-60   2.773291e+01"
       ]
      },
      {
       "output_type": "stream",
       "stream": "stdout",
       "text": [
        " \r",
        "0500  -1.986612e+01   1.000000e-60   1.611254e+01"
       ]
      },
      {
       "output_type": "stream",
       "stream": "stdout",
       "text": [
        " \r",
        "0501  -1.987471e+01   1.000000e-60   1.317504e+01"
       ]
      },
      {
       "output_type": "stream",
       "stream": "stdout",
       "text": [
        " \r",
        "0502  -1.988675e+01   1.000000e-60   1.405472e+01"
       ]
      },
      {
       "output_type": "stream",
       "stream": "stdout",
       "text": [
        " \r",
        "0503  -1.989875e+01   1.000000e-60   2.004859e+01"
       ]
      },
      {
       "output_type": "stream",
       "stream": "stdout",
       "text": [
        " \r",
        "0504  -1.990690e+01   1.000000e-60   1.485419e+01"
       ]
      },
      {
       "output_type": "stream",
       "stream": "stdout",
       "text": [
        " \r",
        "0505  -1.991508e+01   1.000000e-60   1.179198e+01"
       ]
      },
      {
       "output_type": "stream",
       "stream": "stdout",
       "text": [
        " \r",
        "0506  -1.992364e+01   1.000000e-60   1.254389e+01"
       ]
      },
      {
       "output_type": "stream",
       "stream": "stdout",
       "text": [
        " \r",
        "0507  -1.993293e+01   1.000000e-60   1.195896e+01"
       ]
      },
      {
       "output_type": "stream",
       "stream": "stdout",
       "text": [
        " \r",
        "0508  -1.994858e+01   1.000000e-60   1.674921e+01"
       ]
      },
      {
       "output_type": "stream",
       "stream": "stdout",
       "text": [
        " \r",
        "0509  -1.996461e+01   1.000000e-60   2.356056e+01"
       ]
      },
      {
       "output_type": "stream",
       "stream": "stdout",
       "text": [
        " \r",
        "0510  -1.997512e+01   1.000000e-60   2.402054e+01"
       ]
      },
      {
       "output_type": "stream",
       "stream": "stdout",
       "text": [
        " \r",
        "0511  -1.998410e+01   1.000000e-60   1.682923e+01"
       ]
      },
      {
       "output_type": "stream",
       "stream": "stdout",
       "text": [
        " \r",
        "0512  -1.999703e+01   1.000000e-60   1.699205e+01"
       ]
      },
      {
       "output_type": "stream",
       "stream": "stdout",
       "text": [
        " \r",
        "0513  -2.001601e+01   1.000000e-60   2.905685e+01"
       ]
      },
      {
       "output_type": "stream",
       "stream": "stdout",
       "text": [
        " \r",
        "0514  -2.003267e+01   1.000000e-60   2.537783e+01"
       ]
      },
      {
       "output_type": "stream",
       "stream": "stdout",
       "text": [
        " \r",
        "0515  -2.004549e+01   1.000000e-60   2.240341e+01"
       ]
      },
      {
       "output_type": "stream",
       "stream": "stdout",
       "text": [
        " \r",
        "0516  -2.005545e+01   1.000000e-60   1.602738e+01"
       ]
      },
      {
       "output_type": "stream",
       "stream": "stdout",
       "text": [
        " \r",
        "0517  -2.006673e+01   1.000000e-60   1.552831e+01"
       ]
      },
      {
       "output_type": "stream",
       "stream": "stdout",
       "text": [
        " \r",
        "0518  -2.007987e+01   1.000000e-60   1.765996e+01"
       ]
      },
      {
       "output_type": "stream",
       "stream": "stdout",
       "text": [
        " \r",
        "0519  -2.009504e+01   1.000000e-60   2.252931e+01"
       ]
      },
      {
       "output_type": "stream",
       "stream": "stdout",
       "text": [
        " \r",
        "0520  -2.011621e+01   1.000000e-60   2.335201e+01"
       ]
      },
      {
       "output_type": "stream",
       "stream": "stdout",
       "text": [
        " \r",
        "0521  -2.013829e+01   1.000000e-60   3.604290e+01"
       ]
      },
      {
       "output_type": "stream",
       "stream": "stdout",
       "text": [
        " \r",
        "0522  -2.015262e+01   1.000000e-60   2.302206e+01"
       ]
      },
      {
       "output_type": "stream",
       "stream": "stdout",
       "text": [
        " \r",
        "0523  -2.016249e+01   1.000000e-60   1.559126e+01"
       ]
      },
      {
       "output_type": "stream",
       "stream": "stdout",
       "text": [
        " \r",
        "0524  -2.017666e+01   1.000000e-60   1.757616e+01"
       ]
      },
      {
       "output_type": "stream",
       "stream": "stdout",
       "text": [
        " \r",
        "0525  -2.019292e+01   1.000000e-60   2.458189e+01"
       ]
      },
      {
       "output_type": "stream",
       "stream": "stdout",
       "text": [
        " \r",
        "0526  -2.020244e+01   1.000000e-60   1.835299e+01"
       ]
      },
      {
       "output_type": "stream",
       "stream": "stdout",
       "text": [
        " \r",
        "0527  -2.021297e+01   1.000000e-60   1.399326e+01"
       ]
      },
      {
       "output_type": "stream",
       "stream": "stdout",
       "text": [
        " \r",
        "0528  -2.022479e+01   1.000000e-60   1.397963e+01"
       ]
      },
      {
       "output_type": "stream",
       "stream": "stdout",
       "text": [
        " \r",
        "0529  -2.024215e+01   1.000000e-60   2.114686e+01"
       ]
      },
      {
       "output_type": "stream",
       "stream": "stdout",
       "text": [
        " \r",
        "0530  -2.026232e+01   1.000000e-60   4.170677e+01"
       ]
      },
      {
       "output_type": "stream",
       "stream": "stdout",
       "text": [
        " \r",
        "0531  -2.027559e+01   1.000000e-60   2.341745e+01"
       ]
      },
      {
       "output_type": "stream",
       "stream": "stdout",
       "text": [
        " \r",
        "0532  -2.028370e+01   1.000000e-60   1.675127e+01"
       ]
      },
      {
       "output_type": "stream",
       "stream": "stdout",
       "text": [
        " \r",
        "0533  -2.029188e+01   1.000000e-60   1.106477e+01"
       ]
      },
      {
       "output_type": "stream",
       "stream": "stdout",
       "text": [
        " \r",
        "0534  -2.030020e+01   1.000000e-60   1.469249e+01"
       ]
      },
      {
       "output_type": "stream",
       "stream": "stdout",
       "text": [
        " \r",
        "0535  -2.030835e+01   1.000000e-60   1.089016e+01"
       ]
      },
      {
       "output_type": "stream",
       "stream": "stdout",
       "text": [
        " \r",
        "0536  -2.031746e+01   1.000000e-60   1.496766e+01"
       ]
      },
      {
       "output_type": "stream",
       "stream": "stdout",
       "text": [
        " \r",
        "0537  -2.032615e+01   1.000000e-60   1.361693e+01"
       ]
      },
      {
       "output_type": "stream",
       "stream": "stdout",
       "text": [
        " \r",
        "0538  -2.033206e+01   1.000000e-60   1.057157e+01"
       ]
      },
      {
       "output_type": "stream",
       "stream": "stdout",
       "text": [
        " \r",
        "0539  -2.033662e+01   1.000000e-60   6.441204e+00"
       ]
      },
      {
       "output_type": "stream",
       "stream": "stdout",
       "text": [
        " \r",
        "0540  -2.034268e+01   1.000000e-60   7.715615e+00"
       ]
      },
      {
       "output_type": "stream",
       "stream": "stdout",
       "text": [
        " \r",
        "0541  -2.034995e+01   1.000000e-60   1.020880e+01"
       ]
      },
      {
       "output_type": "stream",
       "stream": "stdout",
       "text": [
        " \r",
        "0542  -2.035558e+01   1.000000e-60   9.121042e+00"
       ]
      },
      {
       "output_type": "stream",
       "stream": "stdout",
       "text": [
        " \r",
        "0543  -2.036129e+01   1.000000e-60   7.759819e+00"
       ]
      },
      {
       "output_type": "stream",
       "stream": "stdout",
       "text": [
        " \r",
        "0544  -2.036935e+01   1.000000e-60   1.010513e+01"
       ]
      },
      {
       "output_type": "stream",
       "stream": "stdout",
       "text": [
        " \r",
        "0545  -2.037727e+01   1.000000e-60   9.034412e+00"
       ]
      },
      {
       "output_type": "stream",
       "stream": "stdout",
       "text": [
        " \r",
        "0546  -2.038454e+01   1.000000e-60   1.360789e+01"
       ]
      },
      {
       "output_type": "stream",
       "stream": "stdout",
       "text": [
        " \r",
        "0547  -2.039069e+01   1.000000e-60   8.963135e+00"
       ]
      },
      {
       "output_type": "stream",
       "stream": "stdout",
       "text": [
        " \r",
        "0548  -2.039605e+01   1.000000e-60   8.538376e+00"
       ]
      },
      {
       "output_type": "stream",
       "stream": "stdout",
       "text": [
        " \r",
        "0549  -2.040008e+01   1.000000e-60   6.292561e+00"
       ]
      },
      {
       "output_type": "stream",
       "stream": "stdout",
       "text": [
        " \r",
        "0550  -2.040390e+01   1.000000e-60   5.214800e+00"
       ]
      },
      {
       "output_type": "stream",
       "stream": "stdout",
       "text": [
        " \r",
        "0551  -2.040816e+01   1.000000e-60   6.024655e+00"
       ]
      },
      {
       "output_type": "stream",
       "stream": "stdout",
       "text": [
        " \r",
        "0552  -2.041473e+01   1.000000e-60   7.917855e+00"
       ]
      },
      {
       "output_type": "stream",
       "stream": "stdout",
       "text": [
        " \r",
        "0553  -2.042269e+01   1.000000e-60   9.347928e+00"
       ]
      },
      {
       "output_type": "stream",
       "stream": "stdout",
       "text": [
        " \r",
        "0554  -2.042947e+01   1.000000e-60   1.038930e+01"
       ]
      },
      {
       "output_type": "stream",
       "stream": "stdout",
       "text": [
        " \r",
        "0555  -2.043892e+01   1.000000e-60   1.204823e+01"
       ]
      },
      {
       "output_type": "stream",
       "stream": "stdout",
       "text": [
        " \r",
        "0556  -2.045345e+01   1.000000e-60   1.619959e+01"
       ]
      },
      {
       "output_type": "stream",
       "stream": "stdout",
       "text": [
        " \r",
        "0557  -2.046679e+01   1.000000e-60   2.093889e+01"
       ]
      },
      {
       "output_type": "stream",
       "stream": "stdout",
       "text": [
        " \r",
        "0558  -2.048189e+01   1.000000e-60   3.421477e+01"
       ]
      },
      {
       "output_type": "stream",
       "stream": "stdout",
       "text": [
        " \r",
        "0559  -2.050894e+01   1.000000e-60   4.495468e+01"
       ]
      },
      {
       "output_type": "stream",
       "stream": "stdout",
       "text": [
        " \r",
        "0560  -2.053116e+01   1.000000e-60   4.257721e+01"
       ]
      },
      {
       "output_type": "stream",
       "stream": "stdout",
       "text": [
        " \r",
        "0561  -2.055047e+01   1.000000e-60   2.851107e+01"
       ]
      },
      {
       "output_type": "stream",
       "stream": "stdout",
       "text": [
        " \r",
        "0562  -2.056620e+01   1.000000e-60   3.074270e+01"
       ]
      },
      {
       "output_type": "stream",
       "stream": "stdout",
       "text": [
        " \r",
        "0563  -2.058387e+01   1.000000e-60   2.445482e+01"
       ]
      },
      {
       "output_type": "stream",
       "stream": "stdout",
       "text": [
        " \r",
        "0564  -2.060443e+01   1.000000e-60   2.587558e+01"
       ]
      },
      {
       "output_type": "stream",
       "stream": "stdout",
       "text": [
        " \r",
        "0565  -2.062413e+01   1.000000e-60   3.190312e+01"
       ]
      },
      {
       "output_type": "stream",
       "stream": "stdout",
       "text": [
        " \r",
        "0566  -2.064785e+01   1.000000e-60   4.163131e+01"
       ]
      },
      {
       "output_type": "stream",
       "stream": "stdout",
       "text": [
        " \r",
        "0567  -2.067384e+01   1.000000e-60   3.810229e+01"
       ]
      },
      {
       "output_type": "stream",
       "stream": "stdout",
       "text": [
        " \r",
        "0568  -2.069659e+01   1.000000e-60   4.154512e+01"
       ]
      },
      {
       "output_type": "stream",
       "stream": "stdout",
       "text": [
        " \r",
        "0569  -2.069659e+01   1.000000e-60   6.420259e+01"
       ]
      },
      {
       "output_type": "stream",
       "stream": "stdout",
       "text": [
        " \r",
        "0570  -2.069659e+01   4.000000e-60   6.420259e+01"
       ]
      },
      {
       "output_type": "stream",
       "stream": "stdout",
       "text": [
        " \r",
        "0571  -2.069659e+01   1.600000e-59   6.420259e+01"
       ]
      },
      {
       "output_type": "stream",
       "stream": "stdout",
       "text": [
        " \r",
        "0572  -2.069659e+01   6.400000e-59   6.420259e+01"
       ]
      },
      {
       "output_type": "stream",
       "stream": "stdout",
       "text": [
        " \r",
        "0573  -2.069659e+01   2.560000e-58   6.420259e+01"
       ]
      },
      {
       "output_type": "stream",
       "stream": "stdout",
       "text": [
        " \r",
        "0574  -2.069659e+01   1.024000e-57   6.420259e+01"
       ]
      },
      {
       "output_type": "stream",
       "stream": "stdout",
       "text": [
        " \r",
        "0575  -2.069659e+01   4.096000e-57   6.420259e+01"
       ]
      },
      {
       "output_type": "stream",
       "stream": "stdout",
       "text": [
        " \r",
        "0576  -2.069659e+01   1.638400e-56   6.420259e+01"
       ]
      },
      {
       "output_type": "stream",
       "stream": "stdout",
       "text": [
        " \r",
        "0577  -2.069659e+01   6.553600e-56   6.420259e+01"
       ]
      },
      {
       "output_type": "stream",
       "stream": "stdout",
       "text": [
        " \r",
        "0578  -2.069659e+01   2.621440e-55   6.420259e+01"
       ]
      },
      {
       "output_type": "stream",
       "stream": "stdout",
       "text": [
        " \r",
        "0579  -2.069659e+01   1.048576e-54   6.420259e+01"
       ]
      },
      {
       "output_type": "stream",
       "stream": "stdout",
       "text": [
        " \r",
        "0580  -2.069659e+01   4.194304e-54   6.420259e+01"
       ]
      },
      {
       "output_type": "stream",
       "stream": "stdout",
       "text": [
        " \r",
        "0581  -2.069659e+01   1.677722e-53   6.420259e+01"
       ]
      },
      {
       "output_type": "stream",
       "stream": "stdout",
       "text": [
        " \r",
        "0582  -2.069659e+01   6.710886e-53   6.420259e+01"
       ]
      },
      {
       "output_type": "stream",
       "stream": "stdout",
       "text": [
        " \r",
        "0583  -2.069659e+01   2.684355e-52   6.420259e+01"
       ]
      },
      {
       "output_type": "stream",
       "stream": "stdout",
       "text": [
        " \r",
        "0584  -2.069659e+01   1.073742e-51   6.420259e+01"
       ]
      },
      {
       "output_type": "stream",
       "stream": "stdout",
       "text": [
        " \r",
        "0585  -2.069659e+01   4.294967e-51   6.420259e+01"
       ]
      },
      {
       "output_type": "stream",
       "stream": "stdout",
       "text": [
        " \r",
        "0586  -2.069659e+01   1.717987e-50   6.420259e+01"
       ]
      },
      {
       "output_type": "stream",
       "stream": "stdout",
       "text": [
        " \r",
        "0587  -2.069659e+01   6.871948e-50   6.420259e+01"
       ]
      },
      {
       "output_type": "stream",
       "stream": "stdout",
       "text": [
        " \r",
        "0588  -2.069659e+01   2.748779e-49   6.420259e+01"
       ]
      },
      {
       "output_type": "stream",
       "stream": "stdout",
       "text": [
        " \r",
        "0589  -2.069659e+01   1.099512e-48   6.420259e+01"
       ]
      },
      {
       "output_type": "stream",
       "stream": "stdout",
       "text": [
        " \r",
        "0590  -2.069659e+01   4.398047e-48   6.420259e+01"
       ]
      },
      {
       "output_type": "stream",
       "stream": "stdout",
       "text": [
        " \r",
        "0591  -2.069659e+01   1.759219e-47   6.420259e+01"
       ]
      },
      {
       "output_type": "stream",
       "stream": "stdout",
       "text": [
        " \r",
        "0592  -2.069659e+01   7.036874e-47   6.420259e+01"
       ]
      },
      {
       "output_type": "stream",
       "stream": "stdout",
       "text": [
        " \r",
        "0593  -2.069659e+01   2.814750e-46   6.420259e+01"
       ]
      },
      {
       "output_type": "stream",
       "stream": "stdout",
       "text": [
        " \r",
        "0594  -2.069659e+01   1.125900e-45   6.420259e+01"
       ]
      },
      {
       "output_type": "stream",
       "stream": "stdout",
       "text": [
        " \r",
        "0595  -2.069659e+01   4.503600e-45   6.420259e+01"
       ]
      },
      {
       "output_type": "stream",
       "stream": "stdout",
       "text": [
        " \r",
        "0596  -2.069659e+01   1.801440e-44   6.420259e+01"
       ]
      },
      {
       "output_type": "stream",
       "stream": "stdout",
       "text": [
        " \r",
        "0597  -2.069659e+01   7.205759e-44   6.420259e+01"
       ]
      },
      {
       "output_type": "stream",
       "stream": "stdout",
       "text": [
        " \r",
        "0598  -2.069659e+01   2.882304e-43   6.420259e+01"
       ]
      },
      {
       "output_type": "stream",
       "stream": "stdout",
       "text": [
        " \r",
        "0599  -2.069659e+01   1.152922e-42   6.420259e+01"
       ]
      },
      {
       "output_type": "stream",
       "stream": "stdout",
       "text": [
        " \r",
        "0600  -2.069659e+01   4.611686e-42   6.420259e+01"
       ]
      },
      {
       "output_type": "stream",
       "stream": "stdout",
       "text": [
        " \r",
        "0601  -2.069659e+01   1.844674e-41   6.420259e+01"
       ]
      },
      {
       "output_type": "stream",
       "stream": "stdout",
       "text": [
        " \r",
        "0602  -2.069659e+01   7.378698e-41   6.420259e+01"
       ]
      },
      {
       "output_type": "stream",
       "stream": "stdout",
       "text": [
        " \r",
        "0603  -2.069659e+01   2.951479e-40   6.420259e+01"
       ]
      },
      {
       "output_type": "stream",
       "stream": "stdout",
       "text": [
        " \r",
        "0604  -2.069659e+01   1.180592e-39   6.420259e+01"
       ]
      },
      {
       "output_type": "stream",
       "stream": "stdout",
       "text": [
        " \r",
        "0605  -2.069659e+01   4.722366e-39   6.420259e+01"
       ]
      },
      {
       "output_type": "stream",
       "stream": "stdout",
       "text": [
        " \r",
        "0606  -2.069659e+01   1.888947e-38   6.420259e+01"
       ]
      },
      {
       "output_type": "stream",
       "stream": "stdout",
       "text": [
        " \r",
        "0607  -2.069659e+01   7.555786e-38   6.420259e+01"
       ]
      },
      {
       "output_type": "stream",
       "stream": "stdout",
       "text": [
        " \r",
        "0608  -2.069659e+01   3.022315e-37   6.420259e+01"
       ]
      },
      {
       "output_type": "stream",
       "stream": "stdout",
       "text": [
        " \r",
        "0609  -2.069659e+01   1.208926e-36   6.420259e+01"
       ]
      },
      {
       "output_type": "stream",
       "stream": "stdout",
       "text": [
        " \r",
        "0610  -2.069659e+01   4.835703e-36   6.420259e+01"
       ]
      },
      {
       "output_type": "stream",
       "stream": "stdout",
       "text": [
        " \r",
        "0611  -2.069659e+01   1.934281e-35   6.420259e+01"
       ]
      },
      {
       "output_type": "stream",
       "stream": "stdout",
       "text": [
        " \r",
        "0612  -2.069659e+01   7.737125e-35   6.420259e+01"
       ]
      },
      {
       "output_type": "stream",
       "stream": "stdout",
       "text": [
        " \r",
        "0613  -2.069659e+01   3.094850e-34   6.420259e+01"
       ]
      },
      {
       "output_type": "stream",
       "stream": "stdout",
       "text": [
        " \r",
        "0614  -2.069659e+01   1.237940e-33   6.420259e+01"
       ]
      },
      {
       "output_type": "stream",
       "stream": "stdout",
       "text": [
        " \r",
        "0615  -2.069659e+01   4.951760e-33   6.420259e+01"
       ]
      },
      {
       "output_type": "stream",
       "stream": "stdout",
       "text": [
        " \r",
        "0616  -2.069659e+01   1.980704e-32   6.420259e+01"
       ]
      },
      {
       "output_type": "stream",
       "stream": "stdout",
       "text": [
        " \r",
        "0617  -2.069659e+01   7.922816e-32   6.420259e+01"
       ]
      },
      {
       "output_type": "stream",
       "stream": "stdout",
       "text": [
        " \r",
        "0618  -2.069659e+01   3.169127e-31   6.420259e+01"
       ]
      },
      {
       "output_type": "stream",
       "stream": "stdout",
       "text": [
        " \r",
        "0619  -2.069659e+01   1.267651e-30   6.420259e+01"
       ]
      },
      {
       "output_type": "stream",
       "stream": "stdout",
       "text": [
        " \r",
        "0620  -2.069659e+01   5.070602e-30   6.420259e+01"
       ]
      },
      {
       "output_type": "stream",
       "stream": "stdout",
       "text": [
        " \r",
        "0621  -2.069659e+01   2.028241e-29   6.420259e+01"
       ]
      },
      {
       "output_type": "stream",
       "stream": "stdout",
       "text": [
        " \r",
        "0622  -2.069659e+01   8.112964e-29   6.420259e+01"
       ]
      },
      {
       "output_type": "stream",
       "stream": "stdout",
       "text": [
        " \r",
        "0623  -2.069659e+01   3.245186e-28   6.420259e+01"
       ]
      },
      {
       "output_type": "stream",
       "stream": "stdout",
       "text": [
        " \r",
        "0624  -2.069659e+01   1.298074e-27   6.420259e+01"
       ]
      },
      {
       "output_type": "stream",
       "stream": "stdout",
       "text": [
        " \r",
        "0625  -2.069659e+01   5.192297e-27   6.420259e+01"
       ]
      },
      {
       "output_type": "stream",
       "stream": "stdout",
       "text": [
        " \r",
        "0626  -2.069659e+01   2.076919e-26   6.420259e+01"
       ]
      },
      {
       "output_type": "stream",
       "stream": "stdout",
       "text": [
        " \r",
        "0627  -2.069659e+01   8.307675e-26   6.420259e+01"
       ]
      },
      {
       "output_type": "stream",
       "stream": "stdout",
       "text": [
        " \r",
        "0628  -2.069659e+01   3.323070e-25   6.420259e+01"
       ]
      },
      {
       "output_type": "stream",
       "stream": "stdout",
       "text": [
        " \r",
        "0629  -2.069659e+01   1.329228e-24   6.420259e+01"
       ]
      },
      {
       "output_type": "stream",
       "stream": "stdout",
       "text": [
        " \r",
        "0630  -2.069659e+01   5.316912e-24   6.420259e+01"
       ]
      },
      {
       "output_type": "stream",
       "stream": "stdout",
       "text": [
        " \r",
        "0631  -2.069659e+01   2.126765e-23   6.420259e+01"
       ]
      },
      {
       "output_type": "stream",
       "stream": "stdout",
       "text": [
        " \r",
        "0632  -2.069659e+01   8.507059e-23   6.420259e+01"
       ]
      },
      {
       "output_type": "stream",
       "stream": "stdout",
       "text": [
        " \r",
        "0633  -2.069659e+01   3.402824e-22   6.420259e+01"
       ]
      },
      {
       "output_type": "stream",
       "stream": "stdout",
       "text": [
        " \r",
        "0634  -2.069659e+01   1.361129e-21   6.420259e+01"
       ]
      },
      {
       "output_type": "stream",
       "stream": "stdout",
       "text": [
        " \r",
        "0635  -2.069659e+01   5.444518e-21   6.420259e+01"
       ]
      },
      {
       "output_type": "stream",
       "stream": "stdout",
       "text": [
        " \r",
        "0636  -2.069659e+01   2.177807e-20   6.420259e+01"
       ]
      },
      {
       "output_type": "stream",
       "stream": "stdout",
       "text": [
        " \r",
        "0637  -2.069659e+01   8.711229e-20   6.420259e+01"
       ]
      },
      {
       "output_type": "stream",
       "stream": "stdout",
       "text": [
        " \r",
        "0638  -2.069659e+01   3.484491e-19   6.420259e+01"
       ]
      },
      {
       "output_type": "stream",
       "stream": "stdout",
       "text": [
        " \r",
        "0639  -2.069659e+01   1.393797e-18   6.420259e+01"
       ]
      },
      {
       "output_type": "stream",
       "stream": "stdout",
       "text": [
        " \r",
        "0640  -2.069659e+01   5.575186e-18   6.420259e+01"
       ]
      },
      {
       "output_type": "stream",
       "stream": "stdout",
       "text": [
        " \r",
        "0641  -2.069659e+01   2.230075e-17   6.420259e+01"
       ]
      },
      {
       "output_type": "stream",
       "stream": "stdout",
       "text": [
        " \r",
        "0642  -2.069659e+01   8.920298e-17   6.420259e+01"
       ]
      },
      {
       "output_type": "stream",
       "stream": "stdout",
       "text": [
        " \r",
        "0643  -2.069659e+01   3.568119e-16   6.420259e+01"
       ]
      },
      {
       "output_type": "stream",
       "stream": "stdout",
       "text": [
        " \r",
        "0644  -2.069659e+01   1.427248e-15   6.420259e+01"
       ]
      },
      {
       "output_type": "stream",
       "stream": "stdout",
       "text": [
        " \r",
        "0645  -2.069659e+01   5.708991e-15   6.420259e+01"
       ]
      },
      {
       "output_type": "stream",
       "stream": "stdout",
       "text": [
        " \r",
        "0646  -2.069659e+01   2.283596e-14   6.420259e+01"
       ]
      },
      {
       "output_type": "stream",
       "stream": "stdout",
       "text": [
        " \r",
        "0647  -2.069659e+01   9.134385e-14   6.420259e+01"
       ]
      },
      {
       "output_type": "stream",
       "stream": "stdout",
       "text": [
        " \r",
        "0648  -2.069659e+01   3.653754e-13   6.420259e+01"
       ]
      },
      {
       "output_type": "stream",
       "stream": "stdout",
       "text": [
        " \r",
        "0649  -2.069659e+01   1.461502e-12   6.420259e+01"
       ]
      },
      {
       "output_type": "stream",
       "stream": "stdout",
       "text": [
        " \r",
        "0650  -2.069659e+01   5.846007e-12   6.420259e+01"
       ]
      },
      {
       "output_type": "stream",
       "stream": "stdout",
       "text": [
        " \r",
        "0651  -2.069659e+01   2.338403e-11   6.420259e+01"
       ]
      },
      {
       "output_type": "stream",
       "stream": "stdout",
       "text": [
        " \r",
        "0652  -2.069659e+01   9.353610e-11   6.420259e+01"
       ]
      },
      {
       "output_type": "stream",
       "stream": "stdout",
       "text": [
        " \r",
        "0653  -2.069659e+01   3.741444e-10   6.420259e+01"
       ]
      },
      {
       "output_type": "stream",
       "stream": "stdout",
       "text": [
        " \r",
        "0654  -2.069659e+01   1.496578e-09   6.420259e+01"
       ]
      },
      {
       "output_type": "stream",
       "stream": "stdout",
       "text": [
        " \r",
        "0655  -2.069659e+01   5.986311e-09   6.420259e+01"
       ]
      },
      {
       "output_type": "stream",
       "stream": "stdout",
       "text": [
        " \r",
        "0656  -2.069659e+01   2.394524e-08   6.420259e+01"
       ]
      },
      {
       "output_type": "stream",
       "stream": "stdout",
       "text": [
        " \r",
        "0657  -2.069659e+01   9.578097e-08   6.420259e+01"
       ]
      },
      {
       "output_type": "stream",
       "stream": "stdout",
       "text": [
        " \r",
        "0658  -2.069659e+01   3.831239e-07   6.420259e+01"
       ]
      },
      {
       "output_type": "stream",
       "stream": "stdout",
       "text": [
        " \r",
        "0659  -2.069659e+01   1.532496e-06   6.420259e+01"
       ]
      },
      {
       "output_type": "stream",
       "stream": "stdout",
       "text": [
        " \r",
        "0660  -2.069659e+01   6.129982e-06   6.420259e+01"
       ]
      },
      {
       "output_type": "stream",
       "stream": "stdout",
       "text": [
        " \r",
        "0661  -2.069659e+01   2.451993e-05   6.420259e+01"
       ]
      },
      {
       "output_type": "stream",
       "stream": "stdout",
       "text": [
        " \r",
        "0662  -2.069659e+01   9.807971e-05   6.420259e+01"
       ]
      },
      {
       "output_type": "stream",
       "stream": "stdout",
       "text": [
        " \r",
        "0663  -2.069659e+01   3.923189e-04   6.420259e+01"
       ]
      },
      {
       "output_type": "stream",
       "stream": "stdout",
       "text": [
        " \r",
        "0664  -2.069659e+01   1.569275e-03   6.420259e+01"
       ]
      },
      {
       "output_type": "stream",
       "stream": "stdout",
       "text": [
        " \r",
        "0665  -2.069659e+01   6.277102e-03   6.420259e+01"
       ]
      },
      {
       "output_type": "stream",
       "stream": "stdout",
       "text": [
        " \r",
        "0666  -2.069659e+01   2.510841e-02   6.420259e+01"
       ]
      },
      {
       "output_type": "stream",
       "stream": "stdout",
       "text": [
        " \r",
        "0667  -2.069889e+01   1.004336e-01   6.420259e+01"
       ]
      },
      {
       "output_type": "stream",
       "stream": "stdout",
       "text": [
        " \r",
        "0668  -2.069889e+01   4.017345e-01   2.172853e+02"
       ]
      },
      {
       "output_type": "stream",
       "stream": "stdout",
       "text": [
        " \r",
        "0669  -2.069961e+01   1.606938e+00   2.172853e+02"
       ]
      },
      {
       "output_type": "stream",
       "stream": "stdout",
       "text": [
        " \r",
        "0670  -2.077850e+01   8.034690e-01   2.277680e+02"
       ]
      },
      {
       "output_type": "stream",
       "stream": "stdout",
       "text": [
        " \r",
        "0671  -2.082205e+01   4.017345e-01   8.365569e+01"
       ]
      },
      {
       "output_type": "stream",
       "stream": "stdout",
       "text": [
        " \r",
        "0672  -2.084649e+01   2.008673e-01   4.273978e+01"
       ]
      },
      {
       "output_type": "stream",
       "stream": "stdout",
       "text": [
        " \r",
        "0673  -2.086070e+01   1.004336e-01   2.532985e+01"
       ]
      },
      {
       "output_type": "stream",
       "stream": "stdout",
       "text": [
        " \r",
        "0674  -2.087116e+01   5.021681e-02   1.951647e+01"
       ]
      },
      {
       "output_type": "stream",
       "stream": "stdout",
       "text": [
        " \r",
        "0675  -2.087921e+01   2.510841e-02   1.450191e+01"
       ]
      },
      {
       "output_type": "stream",
       "stream": "stdout",
       "text": [
        " \r",
        "0676  -2.088553e+01   1.255420e-02   9.628647e+00"
       ]
      },
      {
       "output_type": "stream",
       "stream": "stdout",
       "text": [
        " \r",
        "0677  -2.089425e+01   6.277102e-03   1.021490e+01"
       ]
      },
      {
       "output_type": "stream",
       "stream": "stdout",
       "text": [
        " \r",
        "0678  -2.090186e+01   3.138551e-03   1.724978e+01"
       ]
      },
      {
       "output_type": "stream",
       "stream": "stdout",
       "text": [
        " \r",
        "0679  -2.090643e+01   3.138551e-03   1.483075e+01"
       ]
      },
      {
       "output_type": "stream",
       "stream": "stdout",
       "text": [
        " \r",
        "0680  -2.091324e+01   1.569275e-03   8.935132e+00"
       ]
      },
      {
       "output_type": "stream",
       "stream": "stdout",
       "text": [
        " \r",
        "0681  -2.091941e+01   7.846377e-04   1.104241e+01"
       ]
      },
      {
       "output_type": "stream",
       "stream": "stdout",
       "text": [
        " \r",
        "0682  -2.092480e+01   3.923189e-04   1.289970e+01"
       ]
      },
      {
       "output_type": "stream",
       "stream": "stdout",
       "text": [
        " \r",
        "0683  -2.093075e+01   1.961594e-04   8.957844e+00"
       ]
      },
      {
       "output_type": "stream",
       "stream": "stdout",
       "text": [
        " \r",
        "0684  -2.093741e+01   9.807971e-05   1.048242e+01"
       ]
      },
      {
       "output_type": "stream",
       "stream": "stdout",
       "text": [
        " \r",
        "0685  -2.094209e+01   4.903986e-05   7.622081e+00"
       ]
      },
      {
       "output_type": "stream",
       "stream": "stdout",
       "text": [
        " \r",
        "0686  -2.094697e+01   2.451993e-05   7.145590e+00"
       ]
      },
      {
       "output_type": "stream",
       "stream": "stdout",
       "text": [
        " \r",
        "0687  -2.095008e+01   1.225996e-05   4.706392e+00"
       ]
      },
      {
       "output_type": "stream",
       "stream": "stdout",
       "text": [
        " \r",
        "0688  -2.095417e+01   6.129982e-06   5.241389e+00"
       ]
      },
      {
       "output_type": "stream",
       "stream": "stdout",
       "text": [
        " \r",
        "0689  -2.095855e+01   3.064991e-06   6.551396e+00"
       ]
      },
      {
       "output_type": "stream",
       "stream": "stdout",
       "text": [
        " \r",
        "0690  -2.096220e+01   1.532496e-06   6.289804e+00"
       ]
      },
      {
       "output_type": "stream",
       "stream": "stdout",
       "text": [
        " \r",
        "0691  -2.096710e+01   7.662478e-07   5.886068e+00"
       ]
      },
      {
       "output_type": "stream",
       "stream": "stdout",
       "text": [
        " \r",
        "0692  -2.097507e+01   3.831239e-07   8.973893e+00"
       ]
      },
      {
       "output_type": "stream",
       "stream": "stdout",
       "text": [
        " \r",
        "0693  -2.098231e+01   1.915619e-07   1.265405e+01"
       ]
      },
      {
       "output_type": "stream",
       "stream": "stdout",
       "text": [
        " \r",
        "0694  -2.098861e+01   9.578097e-08   8.034022e+00"
       ]
      },
      {
       "output_type": "stream",
       "stream": "stdout",
       "text": [
        " \r",
        "0695  -2.099404e+01   4.789049e-08   8.672802e+00"
       ]
      },
      {
       "output_type": "stream",
       "stream": "stdout",
       "text": [
        " \r",
        "0696  -2.099983e+01   2.394524e-08   7.334920e+00"
       ]
      },
      {
       "output_type": "stream",
       "stream": "stdout",
       "text": [
        " \r",
        "0697  -2.100474e+01   1.197262e-08   8.987896e+00"
       ]
      },
      {
       "output_type": "stream",
       "stream": "stdout",
       "text": [
        " \r",
        "0698  -2.100923e+01   5.986311e-09   6.138695e+00"
       ]
      },
      {
       "output_type": "stream",
       "stream": "stdout",
       "text": [
        " \r",
        "0699  -2.101346e+01   2.993155e-09   6.211424e+00"
       ]
      },
      {
       "output_type": "stream",
       "stream": "stdout",
       "text": [
        " \r",
        "0700  -2.101708e+01   1.496578e-09   5.198374e+00"
       ]
      },
      {
       "output_type": "stream",
       "stream": "stdout",
       "text": [
        " \r",
        "0701  -2.101991e+01   7.482888e-10   4.914904e+00"
       ]
      },
      {
       "output_type": "stream",
       "stream": "stdout",
       "text": [
        " \r",
        "0702  -2.102344e+01   3.741444e-10   4.613340e+00"
       ]
      },
      {
       "output_type": "stream",
       "stream": "stdout",
       "text": [
        " \r",
        "0703  -2.102854e+01   1.870722e-10   6.580054e+00"
       ]
      },
      {
       "output_type": "stream",
       "stream": "stdout",
       "text": [
        " \r",
        "0704  -2.103297e+01   9.353610e-11   6.324882e+00"
       ]
      },
      {
       "output_type": "stream",
       "stream": "stdout",
       "text": [
        " \r",
        "0705  -2.103657e+01   4.676805e-11   6.152933e+00"
       ]
      },
      {
       "output_type": "stream",
       "stream": "stdout",
       "text": [
        " \r",
        "0706  -2.104051e+01   2.338403e-11   4.356832e+00"
       ]
      },
      {
       "output_type": "stream",
       "stream": "stdout",
       "text": [
        " \r",
        "0707  -2.104661e+01   1.169201e-11   7.379542e+00"
       ]
      },
      {
       "output_type": "stream",
       "stream": "stdout",
       "text": [
        " \r",
        "0708  -2.105369e+01   5.846007e-12   1.146779e+01"
       ]
      },
      {
       "output_type": "stream",
       "stream": "stdout",
       "text": [
        " \r",
        "0709  -2.105960e+01   2.923003e-12   9.435122e+00"
       ]
      },
      {
       "output_type": "stream",
       "stream": "stdout",
       "text": [
        " \r",
        "0710  -2.106682e+01   1.461502e-12   1.182691e+01"
       ]
      },
      {
       "output_type": "stream",
       "stream": "stdout",
       "text": [
        " \r",
        "0711  -2.107845e+01   7.307508e-13   1.704013e+01"
       ]
      },
      {
       "output_type": "stream",
       "stream": "stdout",
       "text": [
        " \r",
        "0712  -2.109346e+01   3.653754e-13   1.998811e+01"
       ]
      },
      {
       "output_type": "stream",
       "stream": "stdout",
       "text": [
        " \r",
        "0713  -2.110339e+01   1.826877e-13   2.348660e+01"
       ]
      },
      {
       "output_type": "stream",
       "stream": "stdout",
       "text": [
        " \r",
        "0714  -2.111348e+01   9.134385e-14   1.745245e+01"
       ]
      },
      {
       "output_type": "stream",
       "stream": "stdout",
       "text": [
        " \r",
        "0715  -2.113344e+01   4.567193e-14   2.057802e+01"
       ]
      },
      {
       "output_type": "stream",
       "stream": "stdout",
       "text": [
        " \r",
        "0716  -2.115655e+01   2.283596e-14   3.637308e+01"
       ]
      },
      {
       "output_type": "stream",
       "stream": "stdout",
       "text": [
        " \r",
        "0717  -2.117379e+01   1.141798e-14   2.985367e+01"
       ]
      },
      {
       "output_type": "stream",
       "stream": "stdout",
       "text": [
        " \r",
        "0718  -2.119126e+01   5.708991e-15   2.123821e+01"
       ]
      },
      {
       "output_type": "stream",
       "stream": "stdout",
       "text": [
        " \r",
        "0719  -2.120693e+01   2.854495e-15   2.881884e+01"
       ]
      },
      {
       "output_type": "stream",
       "stream": "stdout",
       "text": [
        " \r",
        "0720  -2.121821e+01   1.427248e-15   2.037472e+01"
       ]
      },
      {
       "output_type": "stream",
       "stream": "stdout",
       "text": [
        " \r",
        "0721  -2.122776e+01   7.136238e-16   1.582240e+01"
       ]
      },
      {
       "output_type": "stream",
       "stream": "stdout",
       "text": [
        " \r",
        "0722  -2.123751e+01   3.568119e-16   1.339556e+01"
       ]
      },
      {
       "output_type": "stream",
       "stream": "stdout",
       "text": [
        " \r",
        "0723  -2.125289e+01   1.784060e-16   2.250170e+01"
       ]
      },
      {
       "output_type": "stream",
       "stream": "stdout",
       "text": [
        " \r",
        "0724  -2.127164e+01   8.920298e-17   2.853939e+01"
       ]
      },
      {
       "output_type": "stream",
       "stream": "stdout",
       "text": [
        " \r",
        "0725  -2.129612e+01   4.460149e-17   3.234483e+01"
       ]
      },
      {
       "output_type": "stream",
       "stream": "stdout",
       "text": [
        " \r",
        "0726  -2.132849e+01   2.230075e-17   4.632921e+01"
       ]
      },
      {
       "output_type": "stream",
       "stream": "stdout",
       "text": [
        " \r",
        "0727  -2.138703e+01   1.115037e-17   6.871994e+01"
       ]
      },
      {
       "output_type": "stream",
       "stream": "stdout",
       "text": [
        " \r",
        "0728  -2.144019e+01   5.575186e-18   1.243917e+02"
       ]
      },
      {
       "output_type": "stream",
       "stream": "stdout",
       "text": [
        " \r",
        "0729  -2.144019e+01   1.869819e-01   2.965193e+02"
       ]
      },
      {
       "output_type": "stream",
       "stream": "stdout",
       "text": [
        " \r",
        "0730  -2.148072e+01   7.479276e-01   2.965193e+02"
       ]
      },
      {
       "output_type": "stream",
       "stream": "stdout",
       "text": [
        " \r",
        "0731  -2.160624e+01   3.739638e-01   3.163160e+02"
       ]
      },
      {
       "output_type": "stream",
       "stream": "stdout",
       "text": [
        " \r",
        "0732  -2.165214e+01   1.869819e-01   1.042963e+02"
       ]
      },
      {
       "output_type": "stream",
       "stream": "stdout",
       "text": [
        " \r",
        "0733  -2.168667e+01   9.349095e-02   6.338516e+01"
       ]
      },
      {
       "output_type": "stream",
       "stream": "stdout",
       "text": [
        " \r",
        "0734  -2.170938e+01   4.674548e-02   4.217478e+01"
       ]
      },
      {
       "output_type": "stream",
       "stream": "stdout",
       "text": [
        " \r",
        "0735  -2.172342e+01   2.337274e-02   2.873178e+01"
       ]
      },
      {
       "output_type": "stream",
       "stream": "stdout",
       "text": [
        " \r",
        "0736  -2.173660e+01   1.168637e-02   1.917754e+01"
       ]
      },
      {
       "output_type": "stream",
       "stream": "stdout",
       "text": [
        " \r",
        "0737  -2.175322e+01   5.843185e-03   2.259432e+01"
       ]
      },
      {
       "output_type": "stream",
       "stream": "stdout",
       "text": [
        " \r",
        "0738  -2.177592e+01   2.921592e-03   3.265632e+01"
       ]
      },
      {
       "output_type": "stream",
       "stream": "stdout",
       "text": [
        " \r",
        "0739  -2.179589e+01   1.460796e-03   3.125244e+01"
       ]
      },
      {
       "output_type": "stream",
       "stream": "stdout",
       "text": [
        " \r",
        "0740  -2.182181e+01   7.303981e-04   3.266627e+01"
       ]
      },
      {
       "output_type": "stream",
       "stream": "stdout",
       "text": [
        " \r",
        "0741  -2.184701e+01   3.651990e-04   4.570287e+01"
       ]
      },
      {
       "output_type": "stream",
       "stream": "stdout",
       "text": [
        " \r",
        "0742  -2.185954e+01   3.651990e-04   6.157676e+01"
       ]
      },
      {
       "output_type": "stream",
       "stream": "stdout",
       "text": [
        " \r",
        "0743  -2.187816e+01   3.651990e-04   5.556785e+01"
       ]
      },
      {
       "output_type": "stream",
       "stream": "stdout",
       "text": [
        " \r",
        "0744  -2.190623e+01   1.825995e-04   4.396317e+01"
       ]
      },
      {
       "output_type": "stream",
       "stream": "stdout",
       "text": [
        " \r",
        "0745  -2.192892e+01   9.129976e-05   3.845261e+01"
       ]
      },
      {
       "output_type": "stream",
       "stream": "stdout",
       "text": [
        " \r",
        "0746  -2.193872e+01   4.564988e-05   2.037950e+01"
       ]
      },
      {
       "output_type": "stream",
       "stream": "stdout",
       "text": [
        " \r",
        "0747  -2.194691e+01   2.282494e-05   1.310428e+01"
       ]
      },
      {
       "output_type": "stream",
       "stream": "stdout",
       "text": [
        " \r",
        "0748  -2.196243e+01   1.141247e-05   1.456647e+01"
       ]
      },
      {
       "output_type": "stream",
       "stream": "stdout",
       "text": [
        " \r",
        "0749  -2.198747e+01   5.706235e-06   2.978229e+01"
       ]
      },
      {
       "output_type": "stream",
       "stream": "stdout",
       "text": [
        " \r",
        "0750  -2.200978e+01   2.853118e-06   3.771997e+01"
       ]
      },
      {
       "output_type": "stream",
       "stream": "stdout",
       "text": [
        " \r",
        "0751  -2.202388e+01   1.426559e-06   3.684355e+01"
       ]
      },
      {
       "output_type": "stream",
       "stream": "stdout",
       "text": [
        " \r",
        "0752  -2.204023e+01   7.132794e-07   2.397586e+01"
       ]
      },
      {
       "output_type": "stream",
       "stream": "stdout",
       "text": [
        " \r",
        "0753  -2.205827e+01   3.566397e-07   2.900184e+01"
       ]
      },
      {
       "output_type": "stream",
       "stream": "stdout",
       "text": [
        " \r",
        "0754  -2.206979e+01   1.783198e-07   2.257766e+01"
       ]
      },
      {
       "output_type": "stream",
       "stream": "stdout",
       "text": [
        " \r",
        "0755  -2.208033e+01   8.915992e-08   1.403462e+01"
       ]
      },
      {
       "output_type": "stream",
       "stream": "stdout",
       "text": [
        " \r",
        "0756  -2.209116e+01   4.457996e-08   1.633329e+01"
       ]
      },
      {
       "output_type": "stream",
       "stream": "stdout",
       "text": [
        " \r",
        "0757  -2.210297e+01   2.228998e-08   2.036601e+01"
       ]
      },
      {
       "output_type": "stream",
       "stream": "stdout",
       "text": [
        " \r",
        "0758  -2.210958e+01   1.114499e-08   1.331124e+01"
       ]
      },
      {
       "output_type": "stream",
       "stream": "stdout",
       "text": [
        " \r",
        "0759  -2.211394e+01   5.572495e-09   8.407734e+00"
       ]
      },
      {
       "output_type": "stream",
       "stream": "stdout",
       "text": [
        " \r",
        "0760  -2.211892e+01   2.786248e-09   6.887116e+00"
       ]
      },
      {
       "output_type": "stream",
       "stream": "stdout",
       "text": [
        " \r",
        "0761  -2.212642e+01   1.393124e-09   8.696460e+00"
       ]
      },
      {
       "output_type": "stream",
       "stream": "stdout",
       "text": [
        " \r",
        "0762  -2.213302e+01   6.965619e-10   1.378031e+01"
       ]
      },
      {
       "output_type": "stream",
       "stream": "stdout",
       "text": [
        " \r",
        "0763  -2.213757e+01   3.482809e-10   7.439274e+00"
       ]
      },
      {
       "output_type": "stream",
       "stream": "stdout",
       "text": [
        " \r",
        "0764  -2.214466e+01   1.741405e-10   8.288654e+00"
       ]
      },
      {
       "output_type": "stream",
       "stream": "stdout",
       "text": [
        " \r",
        "0765  -2.215480e+01   8.707024e-11   1.218173e+01"
       ]
      },
      {
       "output_type": "stream",
       "stream": "stdout",
       "text": [
        " \r",
        "0766  -2.216222e+01   4.353512e-11   1.526532e+01"
       ]
      },
      {
       "output_type": "stream",
       "stream": "stdout",
       "text": [
        " \r",
        "0767  -2.216674e+01   2.176756e-11   8.823311e+00"
       ]
      },
      {
       "output_type": "stream",
       "stream": "stdout",
       "text": [
        " \r",
        "0768  -2.217073e+01   1.088378e-11   8.359348e+00"
       ]
      },
      {
       "output_type": "stream",
       "stream": "stdout",
       "text": [
        " \r",
        "0769  -2.217571e+01   5.441890e-12   6.435728e+00"
       ]
      },
      {
       "output_type": "stream",
       "stream": "stdout",
       "text": [
        " \r",
        "0770  -2.218089e+01   2.720945e-12   7.218547e+00"
       ]
      },
      {
       "output_type": "stream",
       "stream": "stdout",
       "text": [
        " \r",
        "0771  -2.218955e+01   1.360472e-12   1.468018e+01"
       ]
      },
      {
       "output_type": "stream",
       "stream": "stdout",
       "text": [
        " \r",
        "0772  -2.219886e+01   6.802362e-13   1.624231e+01"
       ]
      },
      {
       "output_type": "stream",
       "stream": "stdout",
       "text": [
        " \r",
        "0773  -2.220791e+01   3.401181e-13   1.436518e+01"
       ]
      },
      {
       "output_type": "stream",
       "stream": "stdout",
       "text": [
        " \r",
        "0774  -2.221434e+01   1.700591e-13   1.734393e+01"
       ]
      },
      {
       "output_type": "stream",
       "stream": "stdout",
       "text": [
        " \r",
        "0775  -2.221924e+01   8.502953e-14   1.045402e+01"
       ]
      },
      {
       "output_type": "stream",
       "stream": "stdout",
       "text": [
        " \r",
        "0776  -2.222320e+01   4.251476e-14   6.282192e+00"
       ]
      },
      {
       "output_type": "stream",
       "stream": "stdout",
       "text": [
        " \r",
        "0777  -2.222686e+01   2.125738e-14   5.244819e+00"
       ]
      },
      {
       "output_type": "stream",
       "stream": "stdout",
       "text": [
        " \r",
        "0778  -2.223078e+01   1.062869e-14   6.286329e+00"
       ]
      },
      {
       "output_type": "stream",
       "stream": "stdout",
       "text": [
        " \r",
        "0779  -2.223349e+01   5.314345e-15   4.744357e+00"
       ]
      },
      {
       "output_type": "stream",
       "stream": "stdout",
       "text": [
        " \r",
        "0780  -2.223612e+01   2.657173e-15   4.174560e+00"
       ]
      },
      {
       "output_type": "stream",
       "stream": "stdout",
       "text": [
        " \r",
        "0781  -2.223919e+01   1.328586e-15   4.037306e+00"
       ]
      },
      {
       "output_type": "stream",
       "stream": "stdout",
       "text": [
        " \r",
        "0782  -2.224261e+01   6.642932e-16   5.512680e+00"
       ]
      },
      {
       "output_type": "stream",
       "stream": "stdout",
       "text": [
        " \r",
        "0783  -2.224541e+01   3.321466e-16   4.389835e+00"
       ]
      },
      {
       "output_type": "stream",
       "stream": "stdout",
       "text": [
        " \r",
        "0784  -2.225009e+01   1.660733e-16   5.321130e+00"
       ]
      },
      {
       "output_type": "stream",
       "stream": "stdout",
       "text": [
        " \r",
        "0785  -2.225495e+01   8.303665e-17   7.552196e+00"
       ]
      },
      {
       "output_type": "stream",
       "stream": "stdout",
       "text": [
        " \r",
        "0786  -2.225910e+01   4.151832e-17   7.926861e+00"
       ]
      },
      {
       "output_type": "stream",
       "stream": "stdout",
       "text": [
        " \r",
        "0787  -2.226241e+01   2.075916e-17   6.217876e+00"
       ]
      },
      {
       "output_type": "stream",
       "stream": "stdout",
       "text": [
        " \r",
        "0788  -2.226535e+01   1.037958e-17   3.852246e+00"
       ]
      },
      {
       "output_type": "stream",
       "stream": "stdout",
       "text": [
        " \r",
        "0789  -2.226960e+01   5.189791e-18   6.310346e+00"
       ]
      },
      {
       "output_type": "stream",
       "stream": "stdout",
       "text": [
        " \r",
        "0790  -2.227294e+01   5.189791e-18   1.123601e+01"
       ]
      },
      {
       "output_type": "stream",
       "stream": "stdout",
       "text": [
        " \r",
        "0791  -2.227765e+01   2.594895e-18   8.442592e+00"
       ]
      },
      {
       "output_type": "stream",
       "stream": "stdout",
       "text": [
        " \r",
        "0792  -2.228119e+01   1.297448e-18   7.160133e+00"
       ]
      },
      {
       "output_type": "stream",
       "stream": "stdout",
       "text": [
        " \r",
        "0793  -2.228429e+01   6.487238e-19   4.803818e+00"
       ]
      },
      {
       "output_type": "stream",
       "stream": "stdout",
       "text": [
        " \r",
        "0794  -2.228677e+01   3.243619e-19   3.581895e+00"
       ]
      },
      {
       "output_type": "stream",
       "stream": "stdout",
       "text": [
        " \r",
        "0795  -2.228905e+01   1.621810e-19   3.905062e+00"
       ]
      },
      {
       "output_type": "stream",
       "stream": "stdout",
       "text": [
        " \r",
        "0796  -2.229268e+01   8.109048e-20   3.690597e+00"
       ]
      },
      {
       "output_type": "stream",
       "stream": "stdout",
       "text": [
        " \r",
        "0797  -2.229603e+01   4.054524e-20   5.989465e+00"
       ]
      },
      {
       "output_type": "stream",
       "stream": "stdout",
       "text": [
        " \r",
        "0798  -2.229869e+01   2.027262e-20   3.776882e+00"
       ]
      },
      {
       "output_type": "stream",
       "stream": "stdout",
       "text": [
        " \r",
        "0799  -2.230223e+01   1.013631e-20   3.987494e+00"
       ]
      },
      {
       "output_type": "stream",
       "stream": "stdout",
       "text": [
        " \r",
        "0800  -2.230673e+01   5.068155e-21   5.595808e+00"
       ]
      },
      {
       "output_type": "stream",
       "stream": "stdout",
       "text": [
        " \r",
        "0801  -2.231049e+01   2.534077e-21   7.360970e+00"
       ]
      },
      {
       "output_type": "stream",
       "stream": "stdout",
       "text": [
        " \r",
        "0802  -2.231310e+01   1.267039e-21   5.857051e+00"
       ]
      },
      {
       "output_type": "stream",
       "stream": "stdout",
       "text": [
        " \r",
        "0803  -2.231515e+01   6.335193e-22   4.497251e+00"
       ]
      },
      {
       "output_type": "stream",
       "stream": "stdout",
       "text": [
        " \r",
        "0804  -2.231775e+01   3.167597e-22   3.691062e+00"
       ]
      },
      {
       "output_type": "stream",
       "stream": "stdout",
       "text": [
        " \r",
        "0805  -2.232122e+01   1.583798e-22   5.463086e+00"
       ]
      },
      {
       "output_type": "stream",
       "stream": "stdout",
       "text": [
        " \r",
        "0806  -2.232436e+01   7.918992e-23   7.426736e+00"
       ]
      },
      {
       "output_type": "stream",
       "stream": "stdout",
       "text": [
        " \r",
        "0807  -2.232819e+01   3.959496e-23   6.088442e+00"
       ]
      },
      {
       "output_type": "stream",
       "stream": "stdout",
       "text": [
        " \r",
        "0808  -2.233233e+01   1.979748e-23   6.284273e+00"
       ]
      },
      {
       "output_type": "stream",
       "stream": "stdout",
       "text": [
        " \r",
        "0809  -2.233658e+01   9.898740e-24   7.694598e+00"
       ]
      },
      {
       "output_type": "stream",
       "stream": "stdout",
       "text": [
        " \r",
        "0810  -2.234072e+01   4.949370e-24   5.833512e+00"
       ]
      },
      {
       "output_type": "stream",
       "stream": "stdout",
       "text": [
        " \r",
        "0811  -2.234523e+01   2.474685e-24   6.129063e+00"
       ]
      },
      {
       "output_type": "stream",
       "stream": "stdout",
       "text": [
        " \r",
        "0812  -2.235194e+01   1.237342e-24   8.333229e+00"
       ]
      },
      {
       "output_type": "stream",
       "stream": "stdout",
       "text": [
        " \r",
        "0813  -2.235676e+01   6.186712e-25   1.323911e+01"
       ]
      },
      {
       "output_type": "stream",
       "stream": "stdout",
       "text": [
        " \r",
        "0814  -2.236149e+01   3.093356e-25   7.583887e+00"
       ]
      },
      {
       "output_type": "stream",
       "stream": "stdout",
       "text": [
        " \r",
        "0815  -2.236600e+01   1.546678e-25   7.140087e+00"
       ]
      },
      {
       "output_type": "stream",
       "stream": "stdout",
       "text": [
        " \r",
        "0816  -2.236886e+01   7.733391e-26   5.707663e+00"
       ]
      },
      {
       "output_type": "stream",
       "stream": "stdout",
       "text": [
        " \r",
        "0817  -2.237023e+01   3.866695e-26   3.170831e+00"
       ]
      },
      {
       "output_type": "stream",
       "stream": "stdout",
       "text": [
        " \r",
        "0818  -2.237183e+01   1.933348e-26   1.877691e+00"
       ]
      },
      {
       "output_type": "stream",
       "stream": "stdout",
       "text": [
        " \r",
        "0819  -2.237316e+01   9.666738e-27   2.345166e+00"
       ]
      },
      {
       "output_type": "stream",
       "stream": "stdout",
       "text": [
        " \r",
        "0820  -2.237415e+01   4.833369e-27   1.658231e+00"
       ]
      },
      {
       "output_type": "stream",
       "stream": "stdout",
       "text": [
        " \r",
        "0821  -2.237504e+01   2.416685e-27   1.768602e+00"
       ]
      },
      {
       "output_type": "stream",
       "stream": "stdout",
       "text": [
        " \r",
        "0822  -2.237671e+01   1.208342e-27   1.559307e+00"
       ]
      },
      {
       "output_type": "stream",
       "stream": "stdout",
       "text": [
        " \r",
        "0823  -2.237955e+01   6.041711e-28   3.508182e+00"
       ]
      },
      {
       "output_type": "stream",
       "stream": "stdout",
       "text": [
        " \r",
        "0824  -2.238259e+01   3.020856e-28   4.737569e+00"
       ]
      },
      {
       "output_type": "stream",
       "stream": "stdout",
       "text": [
        " \r",
        "0825  -2.238638e+01   1.510428e-28   5.024035e+00"
       ]
      },
      {
       "output_type": "stream",
       "stream": "stdout",
       "text": [
        " \r",
        "0826  -2.239383e+01   7.552139e-29   7.775259e+00"
       ]
      },
      {
       "output_type": "stream",
       "stream": "stdout",
       "text": [
        " \r",
        "0827  -2.240528e+01   3.776070e-29   1.914010e+01"
       ]
      },
      {
       "output_type": "stream",
       "stream": "stdout",
       "text": [
        " \r",
        "0828  -2.241992e+01   1.888035e-29   2.397091e+01"
       ]
      },
      {
       "output_type": "stream",
       "stream": "stdout",
       "text": [
        " \r",
        "0829  -2.243487e+01   9.440174e-30   2.091126e+01"
       ]
      },
      {
       "output_type": "stream",
       "stream": "stdout",
       "text": [
        " \r",
        "0830  -2.245529e+01   4.720087e-30   2.845493e+01"
       ]
      },
      {
       "output_type": "stream",
       "stream": "stdout",
       "text": [
        " \r",
        "0831  -2.247737e+01   2.360043e-30   2.962151e+01"
       ]
      },
      {
       "output_type": "stream",
       "stream": "stdout",
       "text": [
        " \r",
        "0832  -2.249556e+01   1.180022e-30   3.525643e+01"
       ]
      },
      {
       "output_type": "stream",
       "stream": "stdout",
       "text": [
        " \r",
        "0833  -2.251601e+01   5.900109e-31   2.935837e+01"
       ]
      },
      {
       "output_type": "stream",
       "stream": "stdout",
       "text": [
        " \r",
        "0834  -2.254703e+01   2.950054e-31   3.304770e+01"
       ]
      },
      {
       "output_type": "stream",
       "stream": "stdout",
       "text": [
        " \r",
        "0835  -2.256977e+01   1.475027e-31   4.171500e+01"
       ]
      },
      {
       "output_type": "stream",
       "stream": "stdout",
       "text": [
        " \r",
        "0836  -2.258795e+01   7.375136e-32   3.880544e+01"
       ]
      },
      {
       "output_type": "stream",
       "stream": "stdout",
       "text": [
        " \r",
        "0837  -2.261961e+01   3.687568e-32   3.576748e+01"
       ]
      },
      {
       "output_type": "stream",
       "stream": "stdout",
       "text": [
        " \r",
        "0838  -2.266170e+01   1.843784e-32   7.410948e+01"
       ]
      },
      {
       "output_type": "stream",
       "stream": "stdout",
       "text": [
        " \r",
        "0839  -2.269223e+01   9.218920e-33   7.204372e+01"
       ]
      },
      {
       "output_type": "stream",
       "stream": "stdout",
       "text": [
        " \r",
        "0840  -2.272493e+01   4.609460e-33   4.473178e+01"
       ]
      },
      {
       "output_type": "stream",
       "stream": "stdout",
       "text": [
        " \r",
        "0841  -2.274403e+01   2.304730e-33   4.366123e+01"
       ]
      },
      {
       "output_type": "stream",
       "stream": "stdout",
       "text": [
        " \r",
        "0842  -2.276159e+01   1.152365e-33   3.880531e+01"
       ]
      },
      {
       "output_type": "stream",
       "stream": "stdout",
       "text": [
        " \r",
        "0843  -2.277974e+01   5.761825e-34   3.520693e+01"
       ]
      },
      {
       "output_type": "stream",
       "stream": "stdout",
       "text": [
        " \r",
        "0844  -2.278853e+01   2.880912e-34   1.872266e+01"
       ]
      },
      {
       "output_type": "stream",
       "stream": "stdout",
       "text": [
        " \r",
        "0845  -2.279411e+01   1.440456e-34   8.947040e+00"
       ]
      },
      {
       "output_type": "stream",
       "stream": "stdout",
       "text": [
        " \r",
        "0846  -2.280131e+01   7.202281e-35   1.142004e+01"
       ]
      },
      {
       "output_type": "stream",
       "stream": "stdout",
       "text": [
        " \r",
        "0847  -2.280478e+01   3.601141e-35   1.041817e+01"
       ]
      },
      {
       "output_type": "stream",
       "stream": "stdout",
       "text": [
        " \r",
        "0848  -2.281171e+01   1.800570e-35   1.011595e+01"
       ]
      },
      {
       "output_type": "stream",
       "stream": "stdout",
       "text": [
        " \r",
        "0849  -2.282382e+01   9.002851e-36   1.663362e+01"
       ]
      },
      {
       "output_type": "stream",
       "stream": "stdout",
       "text": [
        " \r",
        "0850  -2.283272e+01   4.501426e-36   2.181717e+01"
       ]
      },
      {
       "output_type": "stream",
       "stream": "stdout",
       "text": [
        " \r",
        "0851  -2.283997e+01   2.250713e-36   1.495078e+01"
       ]
      },
      {
       "output_type": "stream",
       "stream": "stdout",
       "text": [
        " \r",
        "0852  -2.284534e+01   1.125356e-36   1.017728e+01"
       ]
      },
      {
       "output_type": "stream",
       "stream": "stdout",
       "text": [
        " \r",
        "0853  -2.284987e+01   5.626782e-37   7.122170e+00"
       ]
      },
      {
       "output_type": "stream",
       "stream": "stdout",
       "text": [
        " \r",
        "0854  -2.285401e+01   2.813391e-37   7.029679e+00"
       ]
      },
      {
       "output_type": "stream",
       "stream": "stdout",
       "text": [
        " \r",
        "0855  -2.285664e+01   1.406696e-37   4.743951e+00"
       ]
      },
      {
       "output_type": "stream",
       "stream": "stdout",
       "text": [
        " \r",
        "0856  -2.285892e+01   7.033478e-38   3.498207e+00"
       ]
      },
      {
       "output_type": "stream",
       "stream": "stdout",
       "text": [
        " \r",
        "0857  -2.286235e+01   3.516739e-38   4.365153e+00"
       ]
      },
      {
       "output_type": "stream",
       "stream": "stdout",
       "text": [
        " \r",
        "0858  -2.286598e+01   1.758369e-38   5.596288e+00"
       ]
      },
      {
       "output_type": "stream",
       "stream": "stdout",
       "text": [
        " \r",
        "0859  -2.286837e+01   8.791847e-39   4.642182e+00"
       ]
      },
      {
       "output_type": "stream",
       "stream": "stdout",
       "text": [
        " \r",
        "0860  -2.287042e+01   4.395924e-39   3.226898e+00"
       ]
      },
      {
       "output_type": "stream",
       "stream": "stdout",
       "text": [
        " \r",
        "0861  -2.287356e+01   2.197962e-39   3.161487e+00"
       ]
      },
      {
       "output_type": "stream",
       "stream": "stdout",
       "text": [
        " \r",
        "0862  -2.287598e+01   1.098981e-39   4.139281e+00"
       ]
      },
      {
       "output_type": "stream",
       "stream": "stdout",
       "text": [
        " \r",
        "0863  -2.287824e+01   5.494904e-40   3.135946e+00"
       ]
      },
      {
       "output_type": "stream",
       "stream": "stdout",
       "text": [
        " \r",
        "0864  -2.288190e+01   2.747452e-40   4.708230e+00"
       ]
      },
      {
       "output_type": "stream",
       "stream": "stdout",
       "text": [
        " \r",
        "0865  -2.288908e+01   1.373726e-40   8.290250e+00"
       ]
      },
      {
       "output_type": "stream",
       "stream": "stdout",
       "text": [
        " \r",
        "0866  -2.289617e+01   6.868631e-41   9.814706e+00"
       ]
      },
      {
       "output_type": "stream",
       "stream": "stdout",
       "text": [
        " \r",
        "0867  -2.290276e+01   3.434315e-41   9.705922e+00"
       ]
      },
      {
       "output_type": "stream",
       "stream": "stdout",
       "text": [
        " \r",
        "0868  -2.290890e+01   1.717158e-41   1.150013e+01"
       ]
      },
      {
       "output_type": "stream",
       "stream": "stdout",
       "text": [
        " \r",
        "0869  -2.291822e+01   8.585788e-42   1.169049e+01"
       ]
      },
      {
       "output_type": "stream",
       "stream": "stdout",
       "text": [
        " \r",
        "0870  -2.292413e+01   4.292894e-42   1.014110e+01"
       ]
      },
      {
       "output_type": "stream",
       "stream": "stdout",
       "text": [
        " \r",
        "0871  -2.292818e+01   2.146447e-42   7.216969e+00"
       ]
      },
      {
       "output_type": "stream",
       "stream": "stdout",
       "text": [
        " \r",
        "0872  -2.293377e+01   1.073224e-42   6.544604e+00"
       ]
      },
      {
       "output_type": "stream",
       "stream": "stdout",
       "text": [
        " \r",
        "0873  -2.294375e+01   5.366118e-43   1.189206e+01"
       ]
      },
      {
       "output_type": "stream",
       "stream": "stdout",
       "text": [
        " \r",
        "0874  -2.295387e+01   2.683059e-43   1.452143e+01"
       ]
      },
      {
       "output_type": "stream",
       "stream": "stdout",
       "text": [
        " \r",
        "0875  -2.296068e+01   1.341529e-43   2.428914e+01"
       ]
      },
      {
       "output_type": "stream",
       "stream": "stdout",
       "text": [
        " \r",
        "0876  -2.296786e+01   6.707647e-44   2.100826e+01"
       ]
      },
      {
       "output_type": "stream",
       "stream": "stdout",
       "text": [
        " \r",
        "0877  -2.297238e+01   3.353824e-44   9.523261e+00"
       ]
      },
      {
       "output_type": "stream",
       "stream": "stdout",
       "text": [
        " \r",
        "0878  -2.297485e+01   1.676912e-44   5.698913e+00"
       ]
      },
      {
       "output_type": "stream",
       "stream": "stdout",
       "text": [
        " \r",
        "0879  -2.297707e+01   8.384559e-45   3.719156e+00"
       ]
      },
      {
       "output_type": "stream",
       "stream": "stdout",
       "text": [
        " \r",
        "0880  -2.297973e+01   4.192279e-45   3.959900e+00"
       ]
      },
      {
       "output_type": "stream",
       "stream": "stdout",
       "text": [
        " \r",
        "0881  -2.298158e+01   2.096140e-45   3.789597e+00"
       ]
      },
      {
       "output_type": "stream",
       "stream": "stdout",
       "text": [
        " \r",
        "0882  -2.298493e+01   1.048070e-45   3.909303e+00"
       ]
      },
      {
       "output_type": "stream",
       "stream": "stdout",
       "text": [
        " \r",
        "0883  -2.298801e+01   5.240349e-46   5.052969e+00"
       ]
      },
      {
       "output_type": "stream",
       "stream": "stdout",
       "text": [
        " \r",
        "0884  -2.299267e+01   2.620175e-46   6.451785e+00"
       ]
      },
      {
       "output_type": "stream",
       "stream": "stdout",
       "text": [
        " \r",
        "0885  -2.299813e+01   1.310087e-46   1.016114e+01"
       ]
      },
      {
       "output_type": "stream",
       "stream": "stdout",
       "text": [
        " \r",
        "0886  -2.300314e+01   6.550437e-47   9.424675e+00"
       ]
      },
      {
       "output_type": "stream",
       "stream": "stdout",
       "text": [
        " \r",
        "0887  -2.300864e+01   3.275218e-47   8.386751e+00"
       ]
      },
      {
       "output_type": "stream",
       "stream": "stdout",
       "text": [
        " \r",
        "0888  -2.301604e+01   1.637609e-47   9.752689e+00"
       ]
      },
      {
       "output_type": "stream",
       "stream": "stdout",
       "text": [
        " \r",
        "0889  -2.302360e+01   8.188046e-48   1.088322e+01"
       ]
      },
      {
       "output_type": "stream",
       "stream": "stdout",
       "text": [
        " \r",
        "0890  -2.303226e+01   4.094023e-48   1.563963e+01"
       ]
      },
      {
       "output_type": "stream",
       "stream": "stdout",
       "text": [
        " \r",
        "0891  -2.303929e+01   2.047011e-48   1.352297e+01"
       ]
      },
      {
       "output_type": "stream",
       "stream": "stdout",
       "text": [
        " \r",
        "0892  -2.304369e+01   1.023506e-48   1.060689e+01"
       ]
      },
      {
       "output_type": "stream",
       "stream": "stdout",
       "text": [
        " \r",
        "0893  -2.304773e+01   5.117529e-49   7.394351e+00"
       ]
      },
      {
       "output_type": "stream",
       "stream": "stdout",
       "text": [
        " \r",
        "0894  -2.305136e+01   2.558764e-49   6.471434e+00"
       ]
      },
      {
       "output_type": "stream",
       "stream": "stdout",
       "text": [
        " \r",
        "0895  -2.305478e+01   1.279382e-49   5.528734e+00"
       ]
      },
      {
       "output_type": "stream",
       "stream": "stdout",
       "text": [
        " \r",
        "0896  -2.305888e+01   6.396911e-50   5.637097e+00"
       ]
      },
      {
       "output_type": "stream",
       "stream": "stdout",
       "text": [
        " \r",
        "0897  -2.306308e+01   3.198455e-50   7.231969e+00"
       ]
      },
      {
       "output_type": "stream",
       "stream": "stdout",
       "text": [
        " \r",
        "0898  -2.306861e+01   1.599228e-50   8.394142e+00"
       ]
      },
      {
       "output_type": "stream",
       "stream": "stdout",
       "text": [
        " \r",
        "0899  -2.307401e+01   7.996138e-51   1.130123e+01"
       ]
      },
      {
       "output_type": "stream",
       "stream": "stdout",
       "text": [
        " \r",
        "0900  -2.308237e+01   3.998069e-51   1.176882e+01"
       ]
      },
      {
       "output_type": "stream",
       "stream": "stdout",
       "text": [
        " \r",
        "0901  -2.309039e+01   1.999035e-51   1.422104e+01"
       ]
      },
      {
       "output_type": "stream",
       "stream": "stdout",
       "text": [
        " \r",
        "0902  -2.309796e+01   9.995173e-52   1.305481e+01"
       ]
      },
      {
       "output_type": "stream",
       "stream": "stdout",
       "text": [
        " \r",
        "0903  -2.310510e+01   4.997586e-52   1.246819e+01"
       ]
      },
      {
       "output_type": "stream",
       "stream": "stdout",
       "text": [
        " \r",
        "0904  -2.311354e+01   2.498793e-52   1.333572e+01"
       ]
      },
      {
       "output_type": "stream",
       "stream": "stdout",
       "text": [
        " \r",
        "0905  -2.312885e+01   1.249397e-52   1.992640e+01"
       ]
      },
      {
       "output_type": "stream",
       "stream": "stdout",
       "text": [
        " \r",
        "0906  -2.314151e+01   6.246983e-53   2.764021e+01"
       ]
      },
      {
       "output_type": "stream",
       "stream": "stdout",
       "text": [
        " \r",
        "0907  -2.315061e+01   3.123492e-53   1.977491e+01"
       ]
      },
      {
       "output_type": "stream",
       "stream": "stdout",
       "text": [
        " \r",
        "0908  -2.315771e+01   1.561746e-53   1.352464e+01"
       ]
      },
      {
       "output_type": "stream",
       "stream": "stdout",
       "text": [
        " \r",
        "0909  -2.316641e+01   7.808729e-54   1.103241e+01"
       ]
      },
      {
       "output_type": "stream",
       "stream": "stdout",
       "text": [
        " \r",
        "0910  -2.317846e+01   3.904364e-54   1.728035e+01"
       ]
      },
      {
       "output_type": "stream",
       "stream": "stdout",
       "text": [
        " \r",
        "0911  -2.319268e+01   1.952182e-54   2.976197e+01"
       ]
      },
      {
       "output_type": "stream",
       "stream": "stdout",
       "text": [
        " \r",
        "0912  -2.320109e+01   9.760911e-55   2.004617e+01"
       ]
      },
      {
       "output_type": "stream",
       "stream": "stdout",
       "text": [
        " \r",
        "0913  -2.320665e+01   4.880456e-55   8.913087e+00"
       ]
      },
      {
       "output_type": "stream",
       "stream": "stdout",
       "text": [
        " \r",
        "0914  -2.321296e+01   2.440228e-55   9.987857e+00"
       ]
      },
      {
       "output_type": "stream",
       "stream": "stdout",
       "text": [
        " \r",
        "0915  -2.321905e+01   1.220114e-55   9.853556e+00"
       ]
      },
      {
       "output_type": "stream",
       "stream": "stdout",
       "text": [
        " \r",
        "0916  -2.322415e+01   6.100569e-56   7.108766e+00"
       ]
      },
      {
       "output_type": "stream",
       "stream": "stdout",
       "text": [
        " \r",
        "0917  -2.322911e+01   3.050285e-56   9.024281e+00"
       ]
      },
      {
       "output_type": "stream",
       "stream": "stdout",
       "text": [
        " \r",
        "0918  -2.323328e+01   1.525142e-56   6.272701e+00"
       ]
      },
      {
       "output_type": "stream",
       "stream": "stdout",
       "text": [
        " \r",
        "0919  -2.323808e+01   7.625712e-57   6.316932e+00"
       ]
      },
      {
       "output_type": "stream",
       "stream": "stdout",
       "text": [
        " \r",
        "0920  -2.324321e+01   3.812856e-57   7.653666e+00"
       ]
      },
      {
       "output_type": "stream",
       "stream": "stdout",
       "text": [
        " \r",
        "0921  -2.324925e+01   1.906428e-57   7.274474e+00"
       ]
      },
      {
       "output_type": "stream",
       "stream": "stdout",
       "text": [
        " \r",
        "0922  -2.325503e+01   9.532140e-58   9.831727e+00"
       ]
      },
      {
       "output_type": "stream",
       "stream": "stdout",
       "text": [
        " \r",
        "0923  -2.326016e+01   4.766070e-58   8.563649e+00"
       ]
      },
      {
       "output_type": "stream",
       "stream": "stdout",
       "text": [
        " \r",
        "0924  -2.326505e+01   2.383035e-58   6.006709e+00"
       ]
      },
      {
       "output_type": "stream",
       "stream": "stdout",
       "text": [
        " \r",
        "0925  -2.327254e+01   1.191517e-58   7.043948e+00"
       ]
      },
      {
       "output_type": "stream",
       "stream": "stdout",
       "text": [
        " \r",
        "0926  -2.328444e+01   5.957587e-59   1.459095e+01"
       ]
      },
      {
       "output_type": "stream",
       "stream": "stdout",
       "text": [
        " \r",
        "0927  -2.329178e+01   2.978794e-59   1.824076e+01"
       ]
      },
      {
       "output_type": "stream",
       "stream": "stdout",
       "text": [
        " \r",
        "0928  -2.329539e+01   1.489397e-59   7.350785e+00"
       ]
      },
      {
       "output_type": "stream",
       "stream": "stdout",
       "text": [
        " \r",
        "0929  -2.329914e+01   7.446984e-60   5.141657e+00"
       ]
      },
      {
       "output_type": "stream",
       "stream": "stdout",
       "text": [
        " \r",
        "0930  -2.330543e+01   3.723492e-60   6.678358e+00"
       ]
      },
      {
       "output_type": "stream",
       "stream": "stdout",
       "text": [
        " \r",
        "0931  -2.331130e+01   1.861746e-60   1.046765e+01"
       ]
      },
      {
       "output_type": "stream",
       "stream": "stdout",
       "text": [
        " \r",
        "0932  -2.331727e+01   1.000000e-60   9.271551e+00"
       ]
      },
      {
       "output_type": "stream",
       "stream": "stdout",
       "text": [
        " \r",
        "0933  -2.332133e+01   1.000000e-60   7.888808e+00"
       ]
      },
      {
       "output_type": "stream",
       "stream": "stdout",
       "text": [
        " \r",
        "0934  -2.332632e+01   1.000000e-60   7.177725e+00"
       ]
      },
      {
       "output_type": "stream",
       "stream": "stdout",
       "text": [
        " \r",
        "0935  -2.333361e+01   1.000000e-60   1.066226e+01"
       ]
      },
      {
       "output_type": "stream",
       "stream": "stdout",
       "text": [
        " \r",
        "0936  -2.333990e+01   1.000000e-60   9.688030e+00"
       ]
      },
      {
       "output_type": "stream",
       "stream": "stdout",
       "text": [
        " \r",
        "0937  -2.334667e+01   1.000000e-60   9.282592e+00"
       ]
      },
      {
       "output_type": "stream",
       "stream": "stdout",
       "text": [
        " \r",
        "0938  -2.335439e+01   1.000000e-60   1.564513e+01"
       ]
      },
      {
       "output_type": "stream",
       "stream": "stdout",
       "text": [
        " \r",
        "0939  -2.336062e+01   1.000000e-60   1.836641e+01"
       ]
      },
      {
       "output_type": "stream",
       "stream": "stdout",
       "text": [
        " \r",
        "0940  -2.336686e+01   1.000000e-60   9.856531e+00"
       ]
      },
      {
       "output_type": "stream",
       "stream": "stdout",
       "text": [
        " \r",
        "0941  -2.337238e+01   1.000000e-60   1.045639e+01"
       ]
      },
      {
       "output_type": "stream",
       "stream": "stdout",
       "text": [
        " \r",
        "0942  -2.337725e+01   1.000000e-60   7.757937e+00"
       ]
      },
      {
       "output_type": "stream",
       "stream": "stdout",
       "text": [
        " \r",
        "0943  -2.338075e+01   1.000000e-60   6.242426e+00"
       ]
      },
      {
       "output_type": "stream",
       "stream": "stdout",
       "text": [
        " \r",
        "0944  -2.338254e+01   1.000000e-60   3.688064e+00"
       ]
      },
      {
       "output_type": "stream",
       "stream": "stdout",
       "text": [
        " \r",
        "0945  -2.338409e+01   1.000000e-60   2.345904e+00"
       ]
      },
      {
       "output_type": "stream",
       "stream": "stdout",
       "text": [
        " \r",
        "0946  -2.338614e+01   1.000000e-60   2.509308e+00"
       ]
      },
      {
       "output_type": "stream",
       "stream": "stdout",
       "text": [
        " \r",
        "0947  -2.338830e+01   1.000000e-60   3.096038e+00"
       ]
      },
      {
       "output_type": "stream",
       "stream": "stdout",
       "text": [
        " \r",
        "0948  -2.339077e+01   1.000000e-60   3.746452e+00"
       ]
      },
      {
       "output_type": "stream",
       "stream": "stdout",
       "text": [
        " \r",
        "0949  -2.339415e+01   1.000000e-60   4.080599e+00"
       ]
      },
      {
       "output_type": "stream",
       "stream": "stdout",
       "text": [
        " \r",
        "0950  -2.339792e+01   1.000000e-60   5.830557e+00"
       ]
      },
      {
       "output_type": "stream",
       "stream": "stdout",
       "text": [
        " \r",
        "0951  -2.340018e+01   1.000000e-60   4.712835e+00"
       ]
      },
      {
       "output_type": "stream",
       "stream": "stdout",
       "text": [
        " \r",
        "0952  -2.340272e+01   1.000000e-60   3.252563e+00"
       ]
      },
      {
       "output_type": "stream",
       "stream": "stdout",
       "text": [
        " \r",
        "0953  -2.340620e+01   1.000000e-60   4.378143e+00"
       ]
      },
      {
       "output_type": "stream",
       "stream": "stdout",
       "text": [
        " \r",
        "0954  -2.341123e+01   1.000000e-60   7.052644e+00"
       ]
      },
      {
       "output_type": "stream",
       "stream": "stdout",
       "text": [
        " \r",
        "0955  -2.341404e+01   1.000000e-60   5.992420e+00"
       ]
      },
      {
       "output_type": "stream",
       "stream": "stdout",
       "text": [
        " \r",
        "0956  -2.341575e+01   1.000000e-60   3.623629e+00"
       ]
      },
      {
       "output_type": "stream",
       "stream": "stdout",
       "text": [
        " \r",
        "0957  -2.341770e+01   1.000000e-60   2.248247e+00"
       ]
      },
      {
       "output_type": "stream",
       "stream": "stdout",
       "text": [
        " \r",
        "0958  -2.342047e+01   1.000000e-60   3.976061e+00"
       ]
      },
      {
       "output_type": "stream",
       "stream": "stdout",
       "text": [
        " \r",
        "0959  -2.342360e+01   1.000000e-60   3.637771e+00"
       ]
      },
      {
       "output_type": "stream",
       "stream": "stdout",
       "text": [
        " \r",
        "0960  -2.342699e+01   1.000000e-60   4.778633e+00"
       ]
      },
      {
       "output_type": "stream",
       "stream": "stdout",
       "text": [
        " \r",
        "0961  -2.343113e+01   1.000000e-60   6.871405e+00"
       ]
      },
      {
       "output_type": "stream",
       "stream": "stdout",
       "text": [
        " \r",
        "0962  -2.343508e+01   1.000000e-60   8.586823e+00"
       ]
      },
      {
       "output_type": "stream",
       "stream": "stdout",
       "text": [
        " \r",
        "0963  -2.343941e+01   1.000000e-60   1.176088e+01"
       ]
      },
      {
       "output_type": "stream",
       "stream": "stdout",
       "text": [
        " \r",
        "0964  -2.344241e+01   1.000000e-60   5.764936e+00"
       ]
      },
      {
       "output_type": "stream",
       "stream": "stdout",
       "text": [
        " \r",
        "0965  -2.344479e+01   1.000000e-60   3.955860e+00"
       ]
      },
      {
       "output_type": "stream",
       "stream": "stdout",
       "text": [
        " \r",
        "0966  -2.344623e+01   1.000000e-60   3.085825e+00"
       ]
      },
      {
       "output_type": "stream",
       "stream": "stdout",
       "text": [
        " \r",
        "0967  -2.344727e+01   1.000000e-60   1.537734e+00"
       ]
      },
      {
       "output_type": "stream",
       "stream": "stdout",
       "text": [
        " \r",
        "0968  -2.344818e+01   1.000000e-60   1.548889e+00"
       ]
      },
      {
       "output_type": "stream",
       "stream": "stdout",
       "text": [
        " \r",
        "0969  -2.344924e+01   1.000000e-60   1.448509e+00"
       ]
      },
      {
       "output_type": "stream",
       "stream": "stdout",
       "text": [
        " \r",
        "0970  -2.345059e+01   1.000000e-60   1.698895e+00"
       ]
      },
      {
       "output_type": "stream",
       "stream": "stdout",
       "text": [
        " \r",
        "0971  -2.345253e+01   1.000000e-60   2.603111e+00"
       ]
      },
      {
       "output_type": "stream",
       "stream": "stdout",
       "text": [
        " \r",
        "0972  -2.345475e+01   1.000000e-60   2.898434e+00"
       ]
      },
      {
       "output_type": "stream",
       "stream": "stdout",
       "text": [
        " \r",
        "0973  -2.345684e+01   1.000000e-60   3.404241e+00"
       ]
      },
      {
       "output_type": "stream",
       "stream": "stdout",
       "text": [
        " \r",
        "0974  -2.345802e+01   1.000000e-60   2.268854e+00"
       ]
      },
      {
       "output_type": "stream",
       "stream": "stdout",
       "text": [
        " \r",
        "0975  -2.345918e+01   1.000000e-60   1.347950e+00"
       ]
      },
      {
       "output_type": "stream",
       "stream": "stdout",
       "text": [
        " \r",
        "0976  -2.346091e+01   1.000000e-60   2.030851e+00"
       ]
      },
      {
       "output_type": "stream",
       "stream": "stdout",
       "text": [
        " \r",
        "0977  -2.346316e+01   1.000000e-60   3.691617e+00"
       ]
      },
      {
       "output_type": "stream",
       "stream": "stdout",
       "text": [
        " \r",
        "0978  -2.346496e+01   1.000000e-60   3.566507e+00"
       ]
      },
      {
       "output_type": "stream",
       "stream": "stdout",
       "text": [
        " \r",
        "0979  -2.346581e+01   1.000000e-60   1.791675e+00"
       ]
      },
      {
       "output_type": "stream",
       "stream": "stdout",
       "text": [
        " \r",
        "0980  -2.346658e+01   1.000000e-60   1.187042e+00"
       ]
      },
      {
       "output_type": "stream",
       "stream": "stdout",
       "text": [
        " \r",
        "0981  -2.346788e+01   1.000000e-60   1.434361e+00"
       ]
      },
      {
       "output_type": "stream",
       "stream": "stdout",
       "text": [
        " \r",
        "0982  -2.346923e+01   1.000000e-60   1.758923e+00"
       ]
      },
      {
       "output_type": "stream",
       "stream": "stdout",
       "text": [
        " \r",
        "0983  -2.347069e+01   1.000000e-60   1.699490e+00"
       ]
      },
      {
       "output_type": "stream",
       "stream": "stdout",
       "text": [
        " \r",
        "0984  -2.347303e+01   1.000000e-60   3.101735e+00"
       ]
      },
      {
       "output_type": "stream",
       "stream": "stdout",
       "text": [
        " \r",
        "0985  -2.347475e+01   1.000000e-60   2.885266e+00"
       ]
      },
      {
       "output_type": "stream",
       "stream": "stdout",
       "text": [
        " \r",
        "0986  -2.347729e+01   1.000000e-60   3.013715e+00"
       ]
      },
      {
       "output_type": "stream",
       "stream": "stdout",
       "text": [
        " \r",
        "0987  -2.348112e+01   1.000000e-60   4.526357e+00"
       ]
      },
      {
       "output_type": "stream",
       "stream": "stdout",
       "text": [
        " \r",
        "0988  -2.349183e+01   1.000000e-60   9.501407e+00"
       ]
      },
      {
       "output_type": "stream",
       "stream": "stdout",
       "text": [
        " \r",
        "0989  -2.350448e+01   1.000000e-60   1.992681e+01"
       ]
      },
      {
       "output_type": "stream",
       "stream": "stdout",
       "text": [
        " \r",
        "0990  -2.351512e+01   1.000000e-60   2.031090e+01"
       ]
      },
      {
       "output_type": "stream",
       "stream": "stdout",
       "text": [
        " \r",
        "0991  -2.352149e+01   1.000000e-60   1.144271e+01"
       ]
      },
      {
       "output_type": "stream",
       "stream": "stdout",
       "text": [
        " \r",
        "0992  -2.353414e+01   1.000000e-60   1.448119e+01"
       ]
      },
      {
       "output_type": "stream",
       "stream": "stdout",
       "text": [
        " \r",
        "0993  -2.355334e+01   1.000000e-60   3.413549e+01"
       ]
      },
      {
       "output_type": "stream",
       "stream": "stdout",
       "text": [
        " \r",
        "0994  -2.356950e+01   1.000000e-60   2.824094e+01"
       ]
      },
      {
       "output_type": "stream",
       "stream": "stdout",
       "text": [
        " \r",
        "0995  -2.357714e+01   1.000000e-60   1.406846e+01"
       ]
      },
      {
       "output_type": "stream",
       "stream": "stdout",
       "text": [
        " \r",
        "0996  -2.358479e+01   1.000000e-60   9.753511e+00"
       ]
      },
      {
       "output_type": "stream",
       "stream": "stdout",
       "text": [
        " \r",
        "0997  -2.359277e+01   1.000000e-60   1.345712e+01"
       ]
      },
      {
       "output_type": "stream",
       "stream": "stdout",
       "text": [
        " \r",
        "0998  -2.360023e+01   1.000000e-60   1.187241e+01"
       ]
      },
      {
       "output_type": "stream",
       "stream": "stdout",
       "text": [
        " \r",
        "0999  -2.360545e+01   1.000000e-60   9.741440e+00"
       ]
      },
      {
       "output_type": "stream",
       "stream": "stdout",
       "text": [
        " \r",
        "1000  -2.360974e+01   1.000000e-60   6.453783e+00"
       ]
      },
      {
       "output_type": "stream",
       "stream": "stdout",
       "text": [
        " \r",
        "1000  -2.360974e+01   1.000000e-60   5.936088e+00"
       ]
      },
      {
       "output_type": "stream",
       "stream": "stdout",
       "text": [
        " \n",
        "maxiter exceeded\n",
        "23.6097434405\n"
       ]
      },
      {
       "output_type": "stream",
       "stream": "stderr",
       "text": [
        "/localstore/home/pypacks/GPy/GPy/kern/parts/rbf.py:256: RuntimeWarning: divide by zero encountered in divide\n",
        "  X = X / self.lengthscale\n",
        "/localstore/home/pypacks/GPy/GPy/kern/parts/rbf.py:258: RuntimeWarning: invalid value encountered in add\n",
        "  self._K_dist2 = -2.*tdot(X) + (Xsquare[:, None] + Xsquare[None, :])\n",
        "/localstore/home/pypacks/GPy/GPy/kern/parts/rbf.py:273: RuntimeWarning: divide by zero encountered in divide\n",
        "  self._psi2_Zdist_sq = np.square(self._psi2_Zdist / self.lengthscale) # M,M,Q\n",
        "/localstore/home/pypacks/GPy/GPy/kern/parts/rbf.py:273: RuntimeWarning: invalid value encountered in divide\n",
        "  self._psi2_Zdist_sq = np.square(self._psi2_Zdist / self.lengthscale) # M,M,Q\n",
        "/localstore/home/pypacks/GPy/GPy/kern/parts/rbf.py:279: RuntimeWarning: invalid value encountered in divide\n",
        "  self._psi1_denom = S[:, None, :] / self.lengthscale2 + 1.\n",
        "/localstore/home/pypacks/GPy/GPy/kern/parts/rbf.py:281: RuntimeWarning: divide by zero encountered in divide\n",
        "  self._psi1_dist_sq = np.square(self._psi1_dist) / self.lengthscale2 / self._psi1_denom\n",
        "/localstore/home/pypacks/GPy/GPy/kern/parts/rbf.py:286: RuntimeWarning: invalid value encountered in divide\n",
        "  self._psi2_denom = 2.*S[:, None, None, :] / self.lengthscale2 + 1. # N,M,M,Q\n"
       ]
      }
     ],
     "prompt_number": 5
    },
    {
     "cell_type": "code",
     "collapsed": false,
     "input": [
      "plt.figure()\n",
      "m.plot_latent()\n",
      "\n",
      "plt.figure()\n",
      "\n",
      "kern.plot_ARD()"
     ],
     "language": "python",
     "metadata": {},
     "outputs": [
      {
       "metadata": {},
       "output_type": "pyout",
       "prompt_number": 6,
       "text": [
        "<matplotlib.axes.AxesSubplot at 0x5c93f10>"
       ]
      },
      {
       "metadata": {},
       "output_type": "display_data",
       "text": [
        "<matplotlib.figure.Figure at 0x5da3d90>"
       ]
      },
      {
       "metadata": {},
       "output_type": "display_data",
       "png": "[encoded data removed]",
       "text": [
        "<matplotlib.figure.Figure at 0x5da3d10>"
       ]
      },
      {
       "metadata": {},
       "output_type": "display_data",
       "text": [
        "<matplotlib.figure.Figure at 0x5dab150>"
       ]
      },
      {
       "metadata": {},
       "output_type": "display_data",
       "png": "[encoded data removed]",
       "text": [
        "<matplotlib.figure.Figure at 0x5dff450>"
       ]
      }
     ],
     "prompt_number": 6
    },
    {
     "cell_type": "code",
     "collapsed": false,
     "input": [],
     "language": "python",
     "metadata": {},
     "outputs": []
    }
   ],
   "metadata": {}
  }
 ]
}