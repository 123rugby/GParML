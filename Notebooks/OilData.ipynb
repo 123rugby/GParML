{
 "metadata": {
  "name": ""
 },
 "nbformat": 3,
 "nbformat_minor": 0,
 "worksheets": [
  {
   "cells": [
    {
     "cell_type": "code",
     "collapsed": false,
     "input": [
      "%pylab inline\n",
      "import sys\n",
      "import glob\n",
      "import os\n",
      "import random\n",
      "\n",
      "import numpy as np\n",
      "import numpy.linalg as linalg\n",
      "import numpy.random as rnd\n",
      "from mpl_toolkits.mplot3d.axes3d import Axes3D\n",
      "\n",
      "import GPy\n",
      "\n",
      "sys.path.append('../tools/')\n",
      "sys.path.append('..')\n",
      "\n",
      "import split_data\n",
      "\n",
      "import parallel_GPLVM"
     ],
     "language": "python",
     "metadata": {},
     "outputs": [
      {
       "output_type": "stream",
       "stream": "stdout",
       "text": [
        "Populating the interactive namespace from numpy and matplotlib\n"
       ]
      }
     ],
     "prompt_number": 2
    },
    {
     "cell_type": "code",
     "collapsed": false,
     "input": [
      "Q = 7\n",
      "max_iters = 200\n",
      "N = 20\n",
      "P = 4\n",
      "num_inducing = min(40, N / P) - 1"
     ],
     "language": "python",
     "metadata": {},
     "outputs": [],
     "prompt_number": 18
    },
    {
     "cell_type": "code",
     "collapsed": false,
     "input": [
      "# Get oildata and divide up\n",
      "oildata = GPy.util.datasets.oil()\n",
      "Y = oildata['X'][:N]\n",
      "path = '../oildata/'\n",
      "split_data.clean_dir(path)\n",
      "split_data.split_data(Y, P, path, 'oil')"
     ],
     "language": "python",
     "metadata": {},
     "outputs": [],
     "prompt_number": 19
    },
    {
     "cell_type": "code",
     "collapsed": false,
     "input": [
      "# Run the Parallel GPLVM\n",
      "options = {}\n",
      "options['input'] = path + '/inputs/'\n",
      "options['embeddings'] = path + '/embeddings/'\n",
      "options['parallel'] = 'local'\n",
      "options['iterations'] = max_iters\n",
      "options['statistics'] = path + '/tmp'\n",
      "options['tmp'] = path + '/tmp'\n",
      "options['M'] = num_inducing\n",
      "options['Q'] = Q\n",
      "options['D'] = 3\n",
      "options['fixed_embeddings'] = False\n",
      "options['keep'] = True\n",
      "options['load'] = False\n",
      "options['fixed_beta'] = True\n",
      "options['init'] = 'PCA'\n",
      "options['optimiser'] = 'SCG_adapted'\n",
      "options['fixed_beta'] = False\n",
      "\n",
      "parallel_GPLVM.main(options)"
     ],
     "language": "python",
     "metadata": {},
     "outputs": [
      {
       "output_type": "stream",
       "stream": "stdout",
       "text": [
        "Creating ../oildata//embeddings//oil_2.embedding.npy with 5 points\n",
        "Creating ../oildata//embeddings//oil_2.variance.npy with 5 points\n",
        "Creating ../oildata//embeddings//oil_1.embedding.npy with 5 points\n",
        "Creating ../oildata//embeddings//oil_1.variance.npy with 5 points\n",
        "Creating ../oildata//embeddings//oil_3.embedding.npy with 5 points\n",
        "Creating ../oildata//embeddings//oil_3.variance.npy with 5 points\n",
        "Creating ../oildata//embeddings//oil_4.embedding.npy with 5 points\n",
        "Creating ../oildata//embeddings//oil_4.variance.npy with 5 points\n"
       ]
      },
      {
       "output_type": "stream",
       "stream": "stdout",
       "text": [
        "\n",
        "\tIncreasing failed count: 1\n",
        "\n",
        " I     F              Scale          |g|        \n",
        "Starting optimisation for 200 iterations\n"
       ]
      },
      {
       "output_type": "stream",
       "stream": "stdout",
       "text": [
        "\n",
        "\tIncreasing failed count: 2\n",
        "\n"
       ]
      },
      {
       "output_type": "stream",
       "stream": "stdout",
       "text": [
        "\n",
        "\tIncreasing failed count: 3\n",
        "\n",
        "\n",
        "\r",
        "001           inf   1.000000e+00   3.700000e+01\n"
       ]
      },
      {
       "output_type": "stream",
       "stream": "stdout",
       "text": [
        "\n",
        "\tIncreasing failed count: 4\n",
        "\n",
        "\n",
        "\r",
        "002           inf   1.000000e+00   3.700000e+01\n"
       ]
      },
      {
       "output_type": "stream",
       "stream": "stdout",
       "text": [
        "\n",
        "\tIncreasing failed count: 5\n",
        "\n",
        "\n",
        "\r",
        "003           inf   1.000000e+00   3.700000e+01\n"
       ]
      },
      {
       "output_type": "stream",
       "stream": "stdout",
       "text": [
        "\n",
        "\tIncreasing failed count: 6\n",
        "\n",
        "\n",
        "\r",
        "004           inf   1.000000e+00   3.700000e+01\n"
       ]
      },
      {
       "output_type": "stream",
       "stream": "stdout",
       "text": [
        "\n",
        "\tIncreasing failed count: 7\n",
        "\n",
        "\n",
        "\r",
        "005           inf   1.000000e+00   3.700000e+01\n"
       ]
      },
      {
       "output_type": "stream",
       "stream": "stdout",
       "text": [
        "\n",
        "\tIncreasing failed count: 8\n",
        "\n",
        "\n",
        "\r",
        "006           inf   1.000000e+00   3.700000e+01\n"
       ]
      },
      {
       "output_type": "stream",
       "stream": "stdout",
       "text": [
        "\n",
        "\tIncreasing failed count: 9\n",
        "\n",
        "\n",
        "\r",
        "007           inf   1.000000e+00   3.700000e+01\n"
       ]
      },
      {
       "output_type": "stream",
       "stream": "stdout",
       "text": [
        "\n",
        "\tIncreasing failed count: 10\n",
        "\n",
        "\n",
        "\r",
        "008           inf   1.000000e+00   3.700000e+01\n"
       ]
      },
      {
       "output_type": "stream",
       "stream": "stdout",
       "text": [
        "\n",
        "\tIncreasing failed count: 11\n",
        "\n",
        "\n",
        "\r",
        "009           inf   1.000000e+00   3.700000e+01\n"
       ]
      },
      {
       "output_type": "stream",
       "stream": "stdout",
       "text": [
        "\n",
        "\tIncreasing failed count: 12\n",
        "\n",
        "\n",
        "\r",
        "010           inf   1.000000e+00   3.700000e+01\n"
       ]
      },
      {
       "output_type": "stream",
       "stream": "stdout",
       "text": [
        "\n",
        "\tIncreasing failed count: 13\n",
        "\n",
        "\n",
        "\r",
        "011           inf   1.000000e+00   3.700000e+01\n"
       ]
      },
      {
       "output_type": "stream",
       "stream": "stdout",
       "text": [
        "\n",
        "\tIncreasing failed count: 14\n",
        "\n",
        "\n",
        "\r",
        "012           inf   1.000000e+00   3.700000e+01\n"
       ]
      },
      {
       "output_type": "stream",
       "stream": "stdout",
       "text": [
        "\n",
        "\tIncreasing failed count: 15\n",
        "\n",
        "\n",
        "\r",
        "013           inf   1.000000e+00   3.700000e+01\n"
       ]
      },
      {
       "output_type": "stream",
       "stream": "stdout",
       "text": [
        "\n",
        "\tIncreasing failed count: 16\n",
        "\n",
        "\n",
        "\r",
        "014           inf   1.000000e+00   3.700000e+01\n"
       ]
      },
      {
       "output_type": "stream",
       "stream": "stdout",
       "text": [
        "\n",
        "\tIncreasing failed count: 17\n",
        "\n",
        "\n",
        "\r",
        "015           inf   1.000000e+00   3.700000e+01\n"
       ]
      },
      {
       "output_type": "stream",
       "stream": "stdout",
       "text": [
        "\n",
        "\tIncreasing failed count: 18\n",
        "\n",
        "\n",
        "\r",
        "016           inf   1.000000e+00   3.700000e+01\n"
       ]
      },
      {
       "output_type": "stream",
       "stream": "stdout",
       "text": [
        "\n",
        "\tIncreasing failed count: 19\n",
        "\n",
        "\n",
        "\r",
        "017           inf   1.000000e+00   3.700000e+01\n"
       ]
      },
      {
       "output_type": "stream",
       "stream": "stdout",
       "text": [
        "\n",
        "\tIncreasing failed count: 20\n",
        "\n",
        "\n",
        "\r",
        "018           inf   1.000000e+00   3.700000e+01\n"
       ]
      },
      {
       "output_type": "stream",
       "stream": "stdout",
       "text": [
        "\n",
        "\tIncreasing failed count: 21\n",
        "\n",
        "\n",
        "\r",
        "019           inf   1.000000e+00   3.700000e+01\n"
       ]
      },
      {
       "output_type": "stream",
       "stream": "stdout",
       "text": [
        "\n",
        "\tIncreasing failed count: 22\n",
        "\n",
        "\n",
        "\r",
        "020           inf   1.000000e+00   3.700000e+01\n"
       ]
      },
      {
       "output_type": "stream",
       "stream": "stdout",
       "text": [
        "\n",
        "\tIncreasing failed count: 23\n",
        "\n",
        "\n",
        "\r",
        "021           inf   1.000000e+00   3.700000e+01\n"
       ]
      },
      {
       "output_type": "stream",
       "stream": "stdout",
       "text": [
        "\n",
        "\tIncreasing failed count: 24\n",
        "\n",
        "\n",
        "\r",
        "022           inf   1.000000e+00   3.700000e+01\n"
       ]
      },
      {
       "output_type": "stream",
       "stream": "stdout",
       "text": [
        "\n",
        "\tIncreasing failed count: 25\n",
        "\n",
        "\n",
        "\r",
        "023           inf   1.000000e+00   3.700000e+01\n"
       ]
      },
      {
       "output_type": "stream",
       "stream": "stdout",
       "text": [
        "\n",
        "\tIncreasing failed count: 26\n",
        "\n",
        "\n",
        "\r",
        "024           inf   1.000000e+00   3.700000e+01\n"
       ]
      },
      {
       "output_type": "stream",
       "stream": "stdout",
       "text": [
        "\n",
        "\tIncreasing failed count: 27\n",
        "\n",
        "\n",
        "\r",
        "025           inf   1.000000e+00   3.700000e+01\n"
       ]
      },
      {
       "output_type": "stream",
       "stream": "stdout",
       "text": [
        "\n",
        "\tIncreasing failed count: 28\n",
        "\n",
        "\n",
        "\r",
        "026           inf   1.000000e+00   3.700000e+01\n"
       ]
      },
      {
       "output_type": "stream",
       "stream": "stdout",
       "text": [
        "\n",
        "\tIncreasing failed count: 29\n",
        "\n",
        "\n",
        "\r",
        "027           inf   1.000000e+00   3.700000e+01\n"
       ]
      },
      {
       "output_type": "stream",
       "stream": "stdout",
       "text": [
        "\n",
        "\tIncreasing failed count: 30\n",
        "\n",
        "\n",
        "\r",
        "028           inf   1.000000e+00   3.700000e+01\n"
       ]
      },
      {
       "output_type": "stream",
       "stream": "stdout",
       "text": [
        "\n",
        "\tIncreasing failed count: 31\n",
        "\n",
        "\n",
        "\r",
        "029           inf   1.000000e+00   3.700000e+01\n"
       ]
      },
      {
       "output_type": "stream",
       "stream": "stdout",
       "text": [
        "\n",
        "\tIncreasing failed count: 32\n",
        "\n",
        "\n",
        "\r",
        "030           inf   1.000000e+00   3.700000e+01\n"
       ]
      },
      {
       "output_type": "stream",
       "stream": "stdout",
       "text": [
        "\n",
        "\tIncreasing failed count: 33\n",
        "\n",
        "\n",
        "\r",
        "031           inf   1.000000e+00   3.700000e+01\n"
       ]
      },
      {
       "output_type": "stream",
       "stream": "stdout",
       "text": [
        "\n",
        "\tIncreasing failed count: 34\n",
        "\n",
        "\n",
        "\r",
        "032           inf   1.000000e+00   3.700000e+01\n"
       ]
      },
      {
       "output_type": "stream",
       "stream": "stdout",
       "text": [
        "\n",
        "\tIncreasing failed count: 35\n",
        "\n",
        "\n",
        "\r",
        "033           inf   1.000000e+00   3.700000e+01\n"
       ]
      },
      {
       "output_type": "stream",
       "stream": "stdout",
       "text": [
        "\n",
        "\tIncreasing failed count: 36\n",
        "\n",
        "\n",
        "\r",
        "034           inf   1.000000e+00   3.700000e+01\n"
       ]
      },
      {
       "output_type": "stream",
       "stream": "stdout",
       "text": [
        "\n",
        "\tIncreasing failed count: 37\n",
        "\n",
        "\n",
        "\r",
        "035           inf   1.000000e+00   3.700000e+01\n"
       ]
      },
      {
       "output_type": "stream",
       "stream": "stdout",
       "text": [
        "\n",
        "\tIncreasing failed count: 38\n",
        "\n",
        "\n",
        "\r",
        "036           inf   1.000000e+00   3.700000e+01\n"
       ]
      },
      {
       "output_type": "stream",
       "stream": "stdout",
       "text": [
        "\n",
        "\tIncreasing failed count: 39\n",
        "\n",
        "\n",
        "\r",
        "037           inf   1.000000e+00   3.700000e+01\n"
       ]
      },
      {
       "output_type": "stream",
       "stream": "stdout",
       "text": [
        "\n",
        "\tIncreasing failed count: 40\n",
        "\n",
        "\n",
        "\r",
        "038           inf   1.000000e+00   3.700000e+01\n"
       ]
      },
      {
       "output_type": "stream",
       "stream": "stdout",
       "text": [
        "\n",
        "\tIncreasing failed count: 41\n",
        "\n",
        "\n",
        "\r",
        "039           inf   1.000000e+00   3.700000e+01\n"
       ]
      },
      {
       "output_type": "stream",
       "stream": "stdout",
       "text": [
        "\n",
        "\tIncreasing failed count: 42\n",
        "\n",
        "\n",
        "\r",
        "040           inf   1.000000e+00   3.700000e+01\n"
       ]
      },
      {
       "output_type": "stream",
       "stream": "stdout",
       "text": [
        "\n",
        "\tIncreasing failed count: 43\n",
        "\n",
        "\n",
        "\r",
        "041           inf   1.000000e+00   3.700000e+01\n"
       ]
      },
      {
       "output_type": "stream",
       "stream": "stdout",
       "text": [
        "\n",
        "\tIncreasing failed count: 44\n",
        "\n",
        "\n",
        "\r",
        "042           inf   1.000000e+00   3.700000e+01\n"
       ]
      },
      {
       "output_type": "stream",
       "stream": "stdout",
       "text": [
        "\n",
        "\tIncreasing failed count: 45\n",
        "\n",
        "\n",
        "\r",
        "043           inf   1.000000e+00   3.700000e+01\n"
       ]
      },
      {
       "output_type": "stream",
       "stream": "stdout",
       "text": [
        "\n",
        "\tIncreasing failed count: 46\n",
        "\n",
        "\n",
        "\r",
        "044           inf   1.000000e+00   3.700000e+01\n"
       ]
      },
      {
       "output_type": "stream",
       "stream": "stdout",
       "text": [
        "\n",
        "\tIncreasing failed count: 47\n",
        "\n",
        "\n",
        "\r",
        "045           inf   1.000000e+00   3.700000e+01\n"
       ]
      },
      {
       "output_type": "stream",
       "stream": "stdout",
       "text": [
        "\n",
        "\tIncreasing failed count: 48\n",
        "\n",
        "\n",
        "\r",
        "046           inf   1.000000e+00   3.700000e+01\n"
       ]
      },
      {
       "output_type": "stream",
       "stream": "stdout",
       "text": [
        "\n",
        "\tIncreasing failed count: 49\n",
        "\n",
        "\n",
        "\r",
        "047           inf   1.000000e+00   3.700000e+01\n"
       ]
      },
      {
       "output_type": "stream",
       "stream": "stdout",
       "text": [
        "\n",
        "\tIncreasing failed count: 50\n",
        "\n",
        "\n",
        "\r",
        "048           inf   1.000000e+00   3.700000e+01\n"
       ]
      },
      {
       "output_type": "stream",
       "stream": "stdout",
       "text": [
        "\n",
        "\tIncreasing failed count: 51\n",
        "\n",
        "\n",
        "\r",
        "049           inf   1.000000e+00   3.700000e+01\n"
       ]
      },
      {
       "output_type": "stream",
       "stream": "stdout",
       "text": [
        "Traceback (most recent call last):\n",
        "  File \"/usr/local/lib/python2.7/dist-packages/IPython/core/ultratb.py\", line 759, in structured_traceback\n",
        "    records = _fixed_getinnerframes(etb, context, tb_offset)\n"
       ]
      },
      {
       "output_type": "stream",
       "stream": "stdout",
       "text": [
        "  File \"/usr/local/lib/python2.7/dist-packages/IPython/core/ultratb.py\", line 242, in _fixed_getinnerframes\n",
        "    records  = fix_frame_records_filenames(inspect.getinnerframes(etb, context))\n",
        "  File \"/usr/lib/python2.7/inspect.py\", line 1043, in getinnerframes\n"
       ]
      },
      {
       "output_type": "stream",
       "stream": "stdout",
       "text": [
        "    framelist.append((tb.tb_frame,) + getframeinfo(tb, context))\n",
        "  File \"/usr/lib/python2.7/inspect.py\", line 1003, in getframeinfo\n",
        "    filename = getsourcefile(frame) or getfile(frame)\n",
        "  File \"/usr/lib/python2.7/inspect.py\", line 454, in getsourcefile\n",
        "    if hasattr(getmodule(object, filename), '__loader__'):\n",
        "  File \"/usr/lib/python2.7/inspect.py\", line 483, in getmodule\n",
        "    file = getabsfile(object, _filename)\n",
        "  File \"/usr/lib/python2.7/inspect.py\", line 467, in getabsfile\n",
        "    return os.path.normcase(os.path.abspath(_filename))\n",
        "  File \"/usr/lib/python2.7/posixpath.py\", line 349, in abspath\n",
        "    return normpath(path)\n"
       ]
      },
      {
       "output_type": "stream",
       "stream": "stdout",
       "text": [
        "  File \"/usr/lib/python2.7/posixpath.py\", line 315, in normpath\n",
        "    slash, dot = (u'/', u'.') if isinstance(path, unicode) else ('/', '.')\n",
        "KeyboardInterrupt\n"
       ]
      },
      {
       "output_type": "stream",
       "stream": "stderr",
       "text": [
        "ERROR: Internal Python error in the inspect module.\n",
        "Below is the traceback from this internal error.\n",
        "\n"
       ]
      },
      {
       "ename": "KeyboardInterrupt",
       "evalue": "",
       "output_type": "pyerr",
       "traceback": ""
      },
      {
       "output_type": "stream",
       "stream": "stderr",
       "text": [
        "\n",
        "Unfortunately, your original traceback can not be constructed.\n",
        "\n"
       ]
      }
     ],
     "prompt_number": 20
    },
    {
     "cell_type": "code",
     "collapsed": false,
     "input": [],
     "language": "python",
     "metadata": {},
     "outputs": []
    }
   ],
   "metadata": {}
  }
 ]
}